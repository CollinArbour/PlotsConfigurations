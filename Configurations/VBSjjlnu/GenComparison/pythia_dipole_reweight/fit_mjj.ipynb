{
 "cells": [
  {
   "cell_type": "code",
   "execution_count": 3,
   "id": "about-mambo",
   "metadata": {
    "ExecuteTime": {
     "end_time": "2021-04-01T21:48:24.708024Z",
     "start_time": "2021-04-01T21:48:24.551316Z"
    }
   },
   "outputs": [],
   "source": [
    "%jsroot on"
   ]
  },
  {
   "cell_type": "code",
   "execution_count": 31,
   "id": "compact-concentration",
   "metadata": {
    "ExecuteTime": {
     "end_time": "2021-04-01T21:52:46.060593Z",
     "start_time": "2021-04-01T21:52:45.937559Z"
    }
   },
   "outputs": [],
   "source": [
    "import ROOT as R \n",
    "import sys \n",
    "f= R.TFile.Open(\"total_v3.root\",\"UPDATE\")"
   ]
  },
  {
   "cell_type": "code",
   "execution_count": null,
   "id": "altered-anthony",
   "metadata": {},
   "outputs": [],
   "source": [
    "functions = {\n",
    "    \"njet3\": (\"[5]*TMath::Exp(-[6]*(x))  + [0]/(1 + [1]*TMath::Exp(-[2]*(x-[3]))) + [4] \",100,150)\n",
    "}"
   ]
  },
  {
   "cell_type": "code",
   "execution_count": 2,
   "id": "nervous-windsor",
   "metadata": {
    "ExecuteTime": {
     "end_time": "2021-04-01T21:48:21.976761Z",
     "start_time": "2021-04-01T21:48:21.854409Z"
    }
   },
   "outputs": [],
   "source": [
    "R.TVirtualFitter.SetMaxIterations( 99999 );"
   ]
  },
  {
   "cell_type": "code",
   "execution_count": 8,
   "id": "greek-catch",
   "metadata": {
    "ExecuteTime": {
     "end_time": "2021-04-01T21:49:17.274488Z",
     "start_time": "2021-04-01T21:49:17.024266Z"
    }
   },
   "outputs": [
    {
     "data": {
      "text/plain": [
       "<cppyy.gbl.TFitResultPtr object at 0xa50c6b0>"
      ]
     },
     "execution_count": 8,
     "metadata": {},
     "output_type": "execute_result"
    },
    {
     "name": "stdout",
     "output_type": "stream",
     "text": [
      " FCN=0.0413945 FROM HESSE     STATUS=OK             50 CALLS        3330 TOTAL\n",
      "                     EDM=4.16318e-06    STRATEGY= 1      ERROR MATRIX ACCURATE \n",
      "  EXT PARAMETER                                   STEP         FIRST   \n",
      "  NO.   NAME      VALUE            ERROR          SIZE      DERIVATIVE \n",
      "   1  p0           1.92110e+00   1.45020e+01   8.14877e-06   1.03154e-02\n",
      "   2  p1           5.49581e-03   2.40278e-01   4.48590e-07  -2.05345e-01\n",
      "   3  p2           2.27254e-03   1.05749e-02   6.41681e-08  -1.39796e+00\n",
      "   4  p3           1.55117e+03   2.11511e+04   3.46829e-02  -2.56464e-06\n",
      "   5  p4          -6.99513e-01   1.44844e+01   7.78852e-06   1.10161e-02\n",
      "   6  p5           8.55609e+00   5.32171e+02   4.94955e-03   2.67239e-06\n",
      "   7  p6           4.37718e-02   6.18975e-01   5.53214e-06  -6.11024e-03\n",
      "                               ERR DEF= 0.5\n"
     ]
    }
   ],
   "source": [
    "f.cd(\"njet4\")\n",
    "\n",
    "h = R.gDirectory.Get(\"ratio_mjj_zoom2\")\n",
    "\n",
    "#func1 = R.TF1(\"fit_mjj\", \"1 + [0]/(1 + [1]*TMath::Exp(-[2]*(x-[3])))\", 150, 1400)\n",
    "\n",
    "func1 = R.TF1(\"fit_mjj\", \"[5]*TMath::Exp(-[6]*(x))  + [0]/(1 + [1]*TMath::Exp(-[2]*(x-[3]))) + [4] \", 90, 1500)\n",
    "# #func1.SetLineColor(R.kRed)\n",
    "\n",
    "# func1.SetParameter(1,500)\n",
    "func1.SetParameter(0,0.2)\n",
    "# func1.SetParameter(1,)\n",
    "# func1.SetParameter(2,)\n",
    "func1.SetParameter(3,500)\n",
    "func1.SetParameter(4,1)\n",
    "func1.SetParameter(5,10)\n",
    "func1.SetParameter(6,0.01)\n",
    "\n",
    "h.Fit(func1, \"RLS\")"
   ]
  },
  {
   "cell_type": "code",
   "execution_count": 9,
   "id": "integrated-moscow",
   "metadata": {
    "ExecuteTime": {
     "end_time": "2021-04-01T21:49:18.521593Z",
     "start_time": "2021-04-01T21:49:18.397838Z"
    }
   },
   "outputs": [
    {
     "data": {
      "text/html": [
       "\n",
       "<div id=\"root_plot_1617313758515\"\n",
       "     style=\"width: 696px; height: 472px\">\n",
       "</div>\n",
       "<script>\n",
       "if (typeof require !== 'undefined') {\n",
       "\n",
       "    // All requirements met (we are in jupyter notebooks or we loaded requirejs before).\n",
       "    display_root_plot_1617313758515();\n",
       "\n",
       "} else {\n",
       "\n",
       "    // We are in jupyterlab, we need to insert requirejs and configure it.\n",
       "    // Jupyterlab might be installed in a different base_url so we need to know it.\n",
       "    try {\n",
       "        var base_url = JSON.parse(document.getElementById('jupyter-config-data').innerHTML).baseUrl;\n",
       "    } catch(_) {\n",
       "        var base_url = '/';\n",
       "    }\n",
       "\n",
       "    // Try loading a local version of requirejs and fallback to cdn if not possible.\n",
       "    requirejs_load(base_url + 'static/components/requirejs/require.js', requirejs_success(base_url), function(){\n",
       "        requirejs_load('https://cdnjs.cloudflare.com/ajax/libs/require.js/2.2.0/require.min.js', requirejs_success(base_url), function(){\n",
       "            document.getElementById(\"root_plot_1617313758515\").innerHTML = \"Failed to load requireJs\";\n",
       "        });\n",
       "    });\n",
       "}\n",
       "\n",
       "function requirejs_load(src, on_load, on_error) {\n",
       "    var script = document.createElement('script');\n",
       "    script.src = src;\n",
       "    script.onload = on_load;\n",
       "    script.onerror = on_error;\n",
       "    document.head.appendChild(script);\n",
       "}\n",
       "\n",
       "function requirejs_success(base_url) {\n",
       "    return function() {\n",
       "        require.config({\n",
       "            baseUrl: base_url + 'static/'\n",
       "        });\n",
       "        display_root_plot_1617313758515();\n",
       "    }\n",
       "}\n",
       "\n",
       "function display_root_plot_1617313758515() {\n",
       "    require(['scripts/JSRootCore'],\n",
       "        function(Core) {\n",
       "            var obj = Core.JSONR_unref({\"_typename\":\"TCanvas\",\"fUniqueID\":0,\"fBits\":3342344,\"fLineColor\":1,\"fLineStyle\":1,\"fLineWidth\":1,\"fFillColor\":0,\"fFillStyle\":1001,\"fLeftMargin\":0.1,\"fRightMargin\":0.1,\"fBottomMargin\":0.1,\"fTopMargin\":0.1,\"fXfile\":2,\"fYfile\":2,\"fAfile\":1,\"fXstat\":0.99,\"fYstat\":0.99,\"fAstat\":2,\"fFrameFillColor\":0,\"fFrameLineColor\":1,\"fFrameFillStyle\":1001,\"fFrameLineStyle\":1,\"fFrameLineWidth\":1,\"fFrameBorderSize\":1,\"fFrameBorderMode\":0,\"fX1\":-131.250013504178,\"fY1\":-0.130424799336604,\"fX2\":1681.25001350418,\"fY2\":5.29320229498614,\"fXtoAbsPixelk\":50.4000544345858,\"fXtoPixelk\":50.4000544345858,\"fXtoPixel\":0.383999994277954,\"fYtoAbsPixelk\":460.649618966252,\"fYtoPixelk\":460.649618966252,\"fYtoPixel\":-87.0266321396012,\"fUtoAbsPixelk\":5e-5,\"fUtoPixelk\":5e-5,\"fUtoPixel\":696,\"fVtoAbsPixelk\":472.00005,\"fVtoPixelk\":472,\"fVtoPixel\":-472,\"fAbsPixeltoXk\":-131.250013504178,\"fPixeltoXk\":-131.250013504178,\"fPixeltoX\":2.60416670547178,\"fAbsPixeltoYk\":5.29320229498614,\"fPixeltoYk\":-0.130424799336604,\"fPixeltoY\":-0.0114907353693279,\"fXlowNDC\":0,\"fYlowNDC\":0,\"fXUpNDC\":1,\"fYUpNDC\":1,\"fWNDC\":1,\"fHNDC\":1,\"fAbsXlowNDC\":0,\"fAbsYlowNDC\":0,\"fAbsWNDC\":1,\"fAbsHNDC\":1,\"fUxmin\":50,\"fUymin\":0.411937942423009,\"fUxmax\":1500,\"fUymax\":4.75083955322653,\"fTheta\":30,\"fPhi\":30,\"fAspectRatio\":0,\"fNumber\":0,\"fTickx\":0,\"fTicky\":0,\"fLogx\":0,\"fLogy\":0,\"fLogz\":0,\"fPadPaint\":0,\"fCrosshair\":0,\"fCrosshairPos\":0,\"fBorderSize\":2,\"fBorderMode\":0,\"fModified\":false,\"fGridx\":false,\"fGridy\":false,\"fAbsCoord\":false,\"fEditable\":true,\"fFixedAspectRatio\":false,\"fPrimitives\":{\"_typename\":\"TList\",\"name\":\"TList\",\"arr\":[{\"_typename\":\"TFrame\",\"fUniqueID\":0,\"fBits\":8,\"fLineColor\":1,\"fLineStyle\":1,\"fLineWidth\":1,\"fFillColor\":0,\"fFillStyle\":1001,\"fX1\":50,\"fY1\":0.411937942423009,\"fX2\":1500,\"fY2\":4.75083955322653,\"fBorderSize\":1,\"fBorderMode\":0},{\"_typename\":\"TH1D\",\"fUniqueID\":0,\"fBits\":8,\"fName\":\"ratio_mjj_zoom2\",\"fTitle\":\"mjj\",\"fLineColor\":602,\"fLineStyle\":1,\"fLineWidth\":1,\"fFillColor\":0,\"fFillStyle\":1001,\"fMarkerColor\":1,\"fMarkerStyle\":1,\"fMarkerSize\":1,\"fNcells\":202,\"fXaxis\":{\"_typename\":\"TAxis\",\"fUniqueID\":0,\"fBits\":0,\"fName\":\"xaxis\",\"fTitle\":\"\",\"fNdivisions\":510,\"fAxisColor\":1,\"fLabelColor\":1,\"fLabelFont\":42,\"fLabelOffset\":0.005,\"fLabelSize\":0.035,\"fTickLength\":0.03,\"fTitleOffset\":1,\"fTitleSize\":0.035,\"fTitleColor\":1,\"fTitleFont\":42,\"fNbins\":200,\"fXmin\":50,\"fXmax\":1500,\"fXbins\":[],\"fFirst\":0,\"fLast\":0,\"fBits2\":0,\"fTimeDisplay\":false,\"fTimeFormat\":\"\",\"fLabels\":null,\"fModLabs\":null},\"fYaxis\":{\"_typename\":\"TAxis\",\"fUniqueID\":0,\"fBits\":0,\"fName\":\"yaxis\",\"fTitle\":\"\",\"fNdivisions\":510,\"fAxisColor\":1,\"fLabelColor\":1,\"fLabelFont\":42,\"fLabelOffset\":0.005,\"fLabelSize\":0.035,\"fTickLength\":0.03,\"fTitleOffset\":0,\"fTitleSize\":0.035,\"fTitleColor\":1,\"fTitleFont\":42,\"fNbins\":1,\"fXmin\":0,\"fXmax\":1,\"fXbins\":[],\"fFirst\":0,\"fLast\":0,\"fBits2\":0,\"fTimeDisplay\":false,\"fTimeFormat\":\"\",\"fLabels\":null,\"fModLabs\":null},\"fZaxis\":{\"_typename\":\"TAxis\",\"fUniqueID\":0,\"fBits\":0,\"fName\":\"zaxis\",\"fTitle\":\"\",\"fNdivisions\":510,\"fAxisColor\":1,\"fLabelColor\":1,\"fLabelFont\":42,\"fLabelOffset\":0.005,\"fLabelSize\":0.035,\"fTickLength\":0.03,\"fTitleOffset\":1,\"fTitleSize\":0.035,\"fTitleColor\":1,\"fTitleFont\":42,\"fNbins\":1,\"fXmin\":0,\"fXmax\":1,\"fXbins\":[],\"fFirst\":0,\"fLast\":0,\"fBits2\":0,\"fTimeDisplay\":false,\"fTimeFormat\":\"\",\"fLabels\":null,\"fModLabs\":null},\"fBarOffset\":0,\"fBarWidth\":1000,\"fEntries\":17438.9127738015,\"fTsumw\":229.744302085542,\"fTsumw2\":3.02670499161323,\"fTsumwx\":181811.218746138,\"fTsumwx2\":184209217.736079,\"fMaximum\":-1111,\"fMinimum\":-1111,\"fNormFactor\":0,\"fContour\":[],\"fSumw2\":[10.9115584432546,2.7722758120189,0.137032481776122,0.0202673720004164,0.00386472013991862,0.00116096878796562,4.72097104711667e-4,2.72790315566242e-4,1.40097468840459e-4,8.5823174805108e-5,6.10312428843527e-5,4.80039514632019e-5,4.01081416917605e-5,3.62140155020815e-5,3.43629040940856e-5,3.46376406225773e-5,3.37382199616737e-5,3.33566435518487e-5,3.31581990042517e-5,3.3968365637868e-5,3.47054681244683e-5,3.51991388509065e-5,3.54071524847452e-5,3.70269734202391e-5,3.85749846155422e-5,4.00875964544369e-5,4.03390169950157e-5,4.28563184736668e-5,4.50250761732983e-5,4.57080635874918e-5,4.65227872349284e-5,4.88469070028067e-5,5.06582561298976e-5,5.25753658514154e-5,5.53245595908309e-5,5.65661078472587e-5,6.07999485423834e-5,6.23965389736544e-5,6.24799951085638e-5,6.51720111622166e-5,6.87722359808583e-5,7.26708242801824e-5,7.16782553280824e-5,7.61731910705901e-5,7.69380848564912e-5,8.06333776849349e-5,8.32708934110345e-5,8.45770679506813e-5,8.94744837454439e-5,9.25751579329597e-5,9.59421689030115e-5,9.83876007167458e-5,1.01485159567825e-4,1.04298237588355e-4,1.08455142258569e-4,1.10447093378859e-4,1.10541731453787e-4,1.1441572813041e-4,1.20638832765044e-4,1.24675231534355e-4,1.32286925970478e-4,1.32291642507474e-4,1.31743225357924e-4,1.38258398850311e-4,1.40272686180178e-4,1.45423414963247e-4,1.61856699341193e-4,1.58709244996791e-4,1.60396079666197e-4,1.72631088983958e-4,1.66634691765365e-4,1.70980390159131e-4,1.73219155561433e-4,1.83100051260049e-4,1.85853936020541e-4,1.88226419425211e-4,1.92408979304347e-4,2.00873784634626e-4,1.92703186090043e-4,2.2197242239137e-4,2.13731750967143e-4,2.17010679972164e-4,2.25627586990355e-4,2.34427446295585e-4,2.39312841008642e-4,2.25436929780589e-4,2.48584982442555e-4,2.48208749823286e-4,2.41822164616387e-4,2.60828153114907e-4,2.61785707269694e-4,2.75653490998046e-4,2.73529146948694e-4,2.81335644630464e-4,2.97814683380998e-4,2.90311692562284e-4,2.96995948958462e-4,2.97247127137343e-4,3.11472886810314e-4,3.15177335710418e-4,3.10862198516928e-4,3.12859928847722e-4,3.38007240599486e-4,3.60827226968293e-4,3.63317808282394e-4,3.55957835214216e-4,3.7656473644194e-4,3.78240044487613e-4,3.8585755188788e-4,4.16967772775314e-4,3.9972132350056e-4,3.92136389601813e-4,4.24615770866216e-4,4.14215180764928e-4,4.08046353318169e-4,4.12775790611491e-4,4.22576696541449e-4,4.19715295462521e-4,4.44495773746085e-4,4.78749929277464e-4,4.867687802048e-4,4.66430003649402e-4,4.91485384293398e-4,4.76662858201282e-4,4.99499628215676e-4,5.3636610014677e-4,5.02353106842344e-4,4.87978779546388e-4,5.37007329913115e-4,5.51167436592845e-4,5.94274734936682e-4,5.63976628110641e-4,5.88215887200839e-4,5.69958823970255e-4,5.9959868749372e-4,5.62998280746534e-4,5.96709923774363e-4,6.42476611313737e-4,6.51373226188974e-4,6.58192205599514e-4,6.35596629052907e-4,7.19026757249141e-4,6.49253414413995e-4,6.45459493538027e-4,6.62817713111999e-4,6.45321032741465e-4,8.13492016662013e-4,6.95003695298198e-4,7.52199602966436e-4,7.88902788485003e-4,6.69714304303784e-4,7.70750408797363e-4,7.86640857216334e-4,7.50781986848673e-4,8.1724129050171e-4,7.68424711341478e-4,8.33555472634715e-4,7.84354447798376e-4,8.49101921411884e-4,7.94782589322616e-4,8.44562391587892e-4,8.35988670996602e-4,9.23656147587158e-4,9.15711141731125e-4,8.75679215747593e-4,0.00101752930590237,0.00100575718003303,9.23127275804374e-4,9.32776925229515e-4,9.28953947865934e-4,9.80720774396172e-4,9.21794395019272e-4,9.98035825478688e-4,0.00111870846996197,0.00105884754740802,0.00107974131535691,0.00103162442468082,9.85393818411935e-4,0.00114901453683273,0.00107083830830712,0.00109943514195882,0.0012105999712681,0.0010999863157062,0.0012366742535951,0.00118439428490252,0.00117229936116639,0.00121254559550358,0.0011842840566924,0.00123097095446917,0.00138622033796024,0.00148316593394658,0.00137538257569942,0.00133074891408785,0.00119259729051666,0.00156829347184158,0.00135651895190309,0.0014813087033035,0.00130761617998561,0.00139234044308482,0.00147931454324722,1.84066039375259e-7,1.71857443525244e-5],\"fOption\":\"\",\"fFunctions\":{\"_typename\":\"TList\",\"name\":\"TList\",\"arr\":[{\"_typename\":\"TPaveStats\",\"fUniqueID\":0,\"fBits\":9,\"fLineColor\":1,\"fLineStyle\":1,\"fLineWidth\":1,\"fFillColor\":0,\"fFillStyle\":1001,\"fX1\":1282.50003673136,\"fY1\":4.07288623109086,\"fX2\":1645.00004753471,\"fY2\":4.9406665467861,\"fX1NDC\":0.780000016093254,\"fY1NDC\":0.775000005960464,\"fX2NDC\":0.980000019073486,\"fY2NDC\":0.935000002384186,\"fBorderSize\":1,\"fInit\":1,\"fShadowColor\":1,\"fCornerRadius\":0,\"fOption\":\"brNDC\",\"fName\":\"stats\",\"fTextAngle\":0,\"fTextSize\":0,\"fTextAlign\":12,\"fTextColor\":1,\"fTextFont\":42,\"fLabel\":\"\",\"fLongest\":18,\"fMargin\":0.05,\"fLines\":{\"_typename\":\"TList\",\"name\":\"TList\",\"arr\":[{\"_typename\":\"TLatex\",\"fUniqueID\":0,\"fBits\":0,\"fName\":\"\",\"fTitle\":\"ratio_mjj_zoom2\",\"fTextAngle\":0,\"fTextSize\":0.0368,\"fTextAlign\":0,\"fTextColor\":0,\"fTextFont\":0,\"fX\":0,\"fY\":0,\"fLineColor\":1,\"fLineStyle\":1,\"fLineWidth\":2,\"fLimitFactorSize\":3,\"fOriginSize\":0.0368000008165836},{\"_typename\":\"TLatex\",\"fUniqueID\":0,\"fBits\":0,\"fName\":\"\",\"fTitle\":\"Entries = 17439  \",\"fTextAngle\":0,\"fTextSize\":0,\"fTextAlign\":0,\"fTextColor\":0,\"fTextFont\":0,\"fX\":0,\"fY\":0,\"fLineColor\":1,\"fLineStyle\":1,\"fLineWidth\":2,\"fLimitFactorSize\":3,\"fOriginSize\":0.04},{\"_typename\":\"TLatex\",\"fUniqueID\":0,\"fBits\":0,\"fName\":\"\",\"fTitle\":\"Mean  =  791.4\",\"fTextAngle\":0,\"fTextSize\":0,\"fTextAlign\":0,\"fTextColor\":0,\"fTextFont\":0,\"fX\":0,\"fY\":0,\"fLineColor\":1,\"fLineStyle\":1,\"fLineWidth\":2,\"fLimitFactorSize\":3,\"fOriginSize\":0.04},{\"_typename\":\"TLatex\",\"fUniqueID\":0,\"fBits\":0,\"fName\":\"\",\"fTitle\":\"Std Dev   =    419\",\"fTextAngle\":0,\"fTextSize\":0,\"fTextAlign\":0,\"fTextColor\":0,\"fTextFont\":0,\"fX\":0,\"fY\":0,\"fLineColor\":1,\"fLineStyle\":1,\"fLineWidth\":2,\"fLimitFactorSize\":3,\"fOriginSize\":0.04}],\"opt\":[\"\",\"\",\"\",\"\"]},\"fOptFit\":0,\"fOptStat\":1111,\"fFitFormat\":\"5.4g\",\"fStatFormat\":\"6.4g\",\"fParent\":{\"$ref\":3}},{\"_typename\":\"TF1\",\"fUniqueID\":0,\"fBits\":1024,\"fName\":\"fit_mjj\",\"fTitle\":\"[5]*TMath::Exp(-[6]*(x))  + [0]\\/(1 + [1]*TMath::Exp(-[2]*(x-[3]))) + [4] \",\"fLineColor\":2,\"fLineStyle\":1,\"fLineWidth\":2,\"fFillColor\":19,\"fFillStyle\":0,\"fMarkerColor\":1,\"fMarkerStyle\":1,\"fMarkerSize\":1,\"fXmin\":90,\"fXmax\":1500,\"fNpar\":7,\"fNdim\":1,\"fNpx\":100,\"fType\":0,\"fNpfits\":194,\"fNDF\":187,\"fChisquare\":16416.5177048283,\"fMinimum\":-1111,\"fMaximum\":-1111,\"fParErrors\":[14.501958868714,0.240278043230967,0.0105748831506739,21151.1245504108,14.4843981518503,532.171407831975,0.618974821660531],\"fParMin\":[0,0,0,0,0,0,0],\"fParMax\":[0,0,0,0,0,0,0],\"fSave\":[1.13444915431145,1.06474522308289,1.03018901529429,1.01452048503431,1.0089690825837,1.00880457811652,1.01147635810952,1.0156096432358,1.02046398332702,1.02564113356055,1.03092746255734,1.03620893549763,1.04142524883576,1.04654508593336,1.05155276673425,1.05644104419398,1.06120721674799,1.06585102975065,1.07037354208739,1.07477651354894,1.0790620732223,1.08323253956176,1.08729032236489,1.09123786900958,1.09507763464162,1.09881206535317,1.10244358843676,1.10597460652084,1.10940749386071,1.11274459385098,1.11598821725269,1.11914064085894,1.1222041064473,1.12518081993436,1.1280729506842,1.1308826309422,1.13361195537618,1.13626298071298,1.13883772546134,1.14133816971434,1.14376625502527,1.1461238843517,1.14841292206282,1.15063519400561,1.1527924876255,1.1548865521374,1.15691909874333,1.15889180089296,1.16080629458347,1.1626641786955,1.16446701536198,1.16621633036687,1.16791361357093,1.1695603193619,1.1711578671265,1.17270764174183,1.174210994084,1.17566924155181,1.17708366860349,1.17845552730464,1.17978603788558,1.18107638930661,1.18232773982939,1.18354121759334,1.1847179211954,1.18585892027223,1.18696525608344,1.18803794209496,1.18907796456154,1.19008628310743,1.19106383130441,1.19201151724653,1.19293022412074,1.19382081077276,1.19468411226774,1.19552094044513,1.1963320844672,1.19711831136096,1.19788036655294,1.19861897439661,1.19933483869209,1.2000286431979,1.20070105213452,1.20135271067962,1.2019842454547,1.20259626500312,1.20318936025932,1.2037641050092,1.20432105634159,1.20486075509075,1.20538372626986,1.20589047949561,1.20638150940376,1.20685729605572,1.20731830533632,1.20776498934266,1.20819778676418,1.20861712325402,1.20902341179178,1.20941705303769,1.20979843567835,90,1500],\"fNormalized\":false,\"fNormIntegral\":0,\"fFormula\":{\"_typename\":\"TFormula\",\"fUniqueID\":0,\"fBits\":1024,\"fName\":\"fit_mjj\",\"fTitle\":\"[5]*TMath::Exp(-[6]*(x))  + [0]\\/(1 + [1]*TMath::Exp(-[2]*(x-[3]))) + [4] \",\"fClingParameters\":[1.92109832590769,0.00549580955242664,0.00227253718244323,1551.17333639789,-0.699512602074649,8.55608810004681,0.0437717799150295],\"fAllParametersSetted\":true,\"fParams\":[{\"$pair\":\"pair<TString,int,TFormulaParamOrder>\",\"first\":\"p0\",\"second\":0},{\"$pair\":\"pair<TString,int,TFormulaParamOrder>\",\"first\":\"p1\",\"second\":1},{\"$pair\":\"pair<TString,int,TFormulaParamOrder>\",\"first\":\"p2\",\"second\":2},{\"$pair\":\"pair<TString,int,TFormulaParamOrder>\",\"first\":\"p3\",\"second\":3},{\"$pair\":\"pair<TString,int,TFormulaParamOrder>\",\"first\":\"p4\",\"second\":4},{\"$pair\":\"pair<TString,int,TFormulaParamOrder>\",\"first\":\"p5\",\"second\":5},{\"$pair\":\"pair<TString,int,TFormulaParamOrder>\",\"first\":\"p6\",\"second\":6}],\"fFormula\":\"[p5]*TMath::Exp(-[p6]*(x))+[p0]\\/(1+[p1]*TMath::Exp(-[p2]*(x-[p3])))+[p4]\",\"fNdim\":1,\"fLinearParts\":[],\"fVectorized\":false},\"fParams\":null,\"fComposition_ptr\":null}],\"opt\":[\"brNDC\",\"\"]},\"fBufferSize\":0,\"fBuffer\":[],\"fBinStatErrOpt\":0,\"fStatOverflows\":2,\"fArray\":[2.8605557044647,2.8792099320127,0.978892511814655,0.976012122306735,1.05734659117209,1.06019136632829,1.03846216587019,1.09656336265274,1.05902916346369,1.03843652671465,1.03069784011052,1.02850524068039,1.01651409592433,1.01303334323555,1.00417227710054,1.00904318405055,1.00386935056081,1.00772621835635,1.00068778801806,1.01256075081434,1.0146561486039,1.01702827900749,1.01176538130594,1.02025904304386,1.02944049735829,1.03550085909714,1.02319497723057,1.04072177990167,1.04552917343003,1.04127629297688,1.0377503518043,1.04373314085671,1.04716346340008,1.05021065198717,1.05992890223609,1.054638385872,1.07003724390305,1.07127576516142,1.0550164025385,1.06289219739927,1.07195398305596,1.08359135111723,1.06463832849284,1.07661001991045,1.07123821962463,1.07594802652271,1.0777687754102,1.07486505968105,1.08758966556458,1.09095278983378,1.09684383698876,1.0949299910749,1.09594569721474,1.09532433887079,1.10154481116115,1.09681991478636,1.08624410588671,1.08900710430448,1.10550938051507,1.11107112918128,1.12587844512784,1.10970644306595,1.09986951222668,1.11190025186944,1.1042882076982,1.11573828084947,1.15901269889314,1.12929533975533,1.12539773091616,1.1545746902904,1.12290259447574,1.1253335468607,1.12189852017767,1.14049947751147,1.13521731596637,1.12959277728829,1.13072499082057,1.14024180784067,1.11135137700485,1.1665216132545,1.14184092566719,1.13088806750064,1.14994229894919,1.15684933574365,1.15615812148773,1.11626172009853,1.15430085088739,1.1434360563492,1.11670551667358,1.14756536450818,1.13383710891797,1.15950256067042,1.14493033834428,1.14848659147274,1.17702432743919,1.15527989695824,1.15151695179617,1.14329345835604,1.15974648882447,1.15799145766008,1.13934382554297,1.13585882626335,1.1671467640712,1.18462684947212,1.18185568715963,1.16451791871766,1.17971430643201,1.18008040979474,1.179192831311,1.20888280140144,1.18143269936784,1.1631307666633,1.19293234469429,1.17304376539264,1.15468025644152,1.15927053069519,1.15530005640546,1.14382295626179,1.17098123524494,1.19376536870373,1.1990780732524,1.15797977627132,1.18580147354377,1.16724470519389,1.16705574333244,1.21383628622601,1.16099920945366,1.14506111972787,1.17335555177456,1.18809840361933,1.21606807029595,1.18846285577176,1.20649910008972,1.18344463002736,1.19346938853138,1.15700076195419,1.1844557722127,1.21836344855466,1.2124451158637,1.20986694247472,1.17255096457731,1.2436473485357,1.17933283810579,1.15986353073208,1.17318196248181,1.14245917964317,1.26813710925396,1.16646608396441,1.21472443830582,1.21854006544051,1.12303599940894,1.21037227903264,1.21990229774477,1.17275910487741,1.21301799526049,1.17040982110809,1.20086321122821,1.16080838477648,1.20796942556881,1.1530284162249,1.19451516552974,1.17385585855397,1.22919123534013,1.18636018520846,1.18246010576292,1.25284634596593,1.22133169588085,1.18064100024739,1.18838192280054,1.16758395458835,1.19009036338174,1.15581339045155,1.17816165712677,1.23706723776145,1.21317413735133,1.20814146354169,1.17757722035397,1.15077886268626,1.22729920566012,1.19089196093073,1.18987208953412,1.23780946059097,1.17020792768342,1.24082968647867,1.21799098596089,1.18158984275628,1.189677598233,1.1858681038607,1.19309556359556,1.2455480672016,1.28670719263951,1.23487002963791,1.19984572313859,1.14801351910331,1.28948410312041,1.21102572666607,1.25412137921708,1.16198123317363,1.20478318760649,1.22434213534274,1.26436611870033,1.26608606536511]},{\"_typename\":\"TPaveText\",\"fUniqueID\":0,\"fBits\":9,\"fLineColor\":1,\"fLineStyle\":1,\"fLineWidth\":1,\"fFillColor\":0,\"fFillStyle\":0,\"fX1\":712.604165736896,\"fY1\":4.93515100673976,\"fX2\":837.395834263104,\"fY2\":5.2660841853764,\"fX1NDC\":0.465574712643678,\"fY1NDC\":0.933983055615829,\"fX2NDC\":0.534425287356322,\"fY2NDC\":0.995000004768372,\"fBorderSize\":0,\"fInit\":1,\"fShadowColor\":1,\"fCornerRadius\":0,\"fOption\":\"blNDC\",\"fName\":\"title\",\"fTextAngle\":0,\"fTextSize\":0,\"fTextAlign\":22,\"fTextColor\":1,\"fTextFont\":42,\"fLabel\":\"\",\"fLongest\":3,\"fMargin\":0.05,\"fLines\":{\"_typename\":\"TList\",\"name\":\"TList\",\"arr\":[{\"_typename\":\"TLatex\",\"fUniqueID\":0,\"fBits\":0,\"fName\":\"\",\"fTitle\":\"mjj\",\"fTextAngle\":0,\"fTextSize\":0,\"fTextAlign\":0,\"fTextColor\":0,\"fTextFont\":0,\"fX\":0,\"fY\":0,\"fLineColor\":1,\"fLineStyle\":1,\"fLineWidth\":2,\"fLimitFactorSize\":3,\"fOriginSize\":0.0518644079566002}],\"opt\":[\"\"]}},{\"_typename\":\"TStyle\",\"fUniqueID\":0,\"fBits\":0,\"fName\":\"Modern\",\"fTitle\":\"Modern Style\",\"fLineColor\":1,\"fLineStyle\":1,\"fLineWidth\":1,\"fFillColor\":19,\"fFillStyle\":1001,\"fMarkerColor\":1,\"fMarkerStyle\":1,\"fMarkerSize\":1,\"fTextAngle\":0,\"fTextSize\":0.05,\"fTextAlign\":11,\"fTextColor\":1,\"fTextFont\":62,\"fXaxis\":{\"_typename\":\"TAttAxis\",\"fNdivisions\":510,\"fAxisColor\":1,\"fLabelColor\":1,\"fLabelFont\":42,\"fLabelOffset\":0.005,\"fLabelSize\":0.035,\"fTickLength\":0.03,\"fTitleOffset\":1,\"fTitleSize\":0.035,\"fTitleColor\":1,\"fTitleFont\":42},\"fYaxis\":{\"_typename\":\"TAttAxis\",\"fNdivisions\":510,\"fAxisColor\":1,\"fLabelColor\":1,\"fLabelFont\":42,\"fLabelOffset\":0.005,\"fLabelSize\":0.035,\"fTickLength\":0.03,\"fTitleOffset\":0,\"fTitleSize\":0.035,\"fTitleColor\":1,\"fTitleFont\":42},\"fZaxis\":{\"_typename\":\"TAttAxis\",\"fNdivisions\":510,\"fAxisColor\":1,\"fLabelColor\":1,\"fLabelFont\":42,\"fLabelOffset\":0.005,\"fLabelSize\":0.035,\"fTickLength\":0.03,\"fTitleOffset\":1,\"fTitleSize\":0.035,\"fTitleColor\":1,\"fTitleFont\":42},\"fBarWidth\":1,\"fBarOffset\":0,\"fColorModelPS\":0,\"fDrawBorder\":0,\"fOptLogx\":0,\"fOptLogy\":0,\"fOptLogz\":0,\"fOptDate\":0,\"fOptStat\":1111,\"fOptTitle\":1,\"fOptFile\":0,\"fOptFit\":0,\"fShowEventStatus\":0,\"fShowEditor\":0,\"fShowToolBar\":0,\"fNumberContours\":20,\"fAttDate\":{\"_typename\":\"TAttText\",\"fTextAngle\":0,\"fTextSize\":0.025,\"fTextAlign\":11,\"fTextColor\":1,\"fTextFont\":62},\"fDateX\":0.01,\"fDateY\":0.01,\"fEndErrorSize\":2,\"fErrorX\":0.5,\"fFuncColor\":2,\"fFuncStyle\":1,\"fFuncWidth\":2,\"fGridColor\":0,\"fGridStyle\":3,\"fGridWidth\":1,\"fLegendBorderSize\":1,\"fLegendFillColor\":0,\"fLegendFont\":42,\"fLegendTextSize\":0,\"fHatchesLineWidth\":1,\"fHatchesSpacing\":1,\"fFrameFillColor\":0,\"fFrameLineColor\":1,\"fFrameFillStyle\":1001,\"fFrameLineStyle\":1,\"fFrameLineWidth\":1,\"fFrameBorderSize\":1,\"fFrameBorderMode\":0,\"fHistFillColor\":0,\"fHistLineColor\":602,\"fHistFillStyle\":1001,\"fHistLineStyle\":1,\"fHistLineWidth\":1,\"fHistMinimumZero\":false,\"fHistTopMargin\":0.05,\"fCanvasPreferGL\":false,\"fCanvasColor\":0,\"fCanvasBorderSize\":2,\"fCanvasBorderMode\":0,\"fCanvasDefH\":500,\"fCanvasDefW\":700,\"fCanvasDefX\":10,\"fCanvasDefY\":10,\"fPadColor\":0,\"fPadBorderSize\":2,\"fPadBorderMode\":0,\"fPadBottomMargin\":0.1,\"fPadTopMargin\":0.1,\"fPadLeftMargin\":0.1,\"fPadRightMargin\":0.1,\"fPadGridX\":false,\"fPadGridY\":false,\"fPadTickX\":0,\"fPadTickY\":0,\"fPaperSizeX\":20,\"fPaperSizeY\":26,\"fScreenFactor\":1,\"fStatColor\":0,\"fStatTextColor\":1,\"fStatBorderSize\":1,\"fStatFont\":42,\"fStatFontSize\":0,\"fStatStyle\":1001,\"fStatFormat\":\"6.4g\",\"fStatX\":0.98,\"fStatY\":0.935,\"fStatW\":0.2,\"fStatH\":0.16,\"fStripDecimals\":true,\"fTitleAlign\":23,\"fTitleColor\":0,\"fTitleTextColor\":1,\"fTitleBorderSize\":0,\"fTitleFont\":42,\"fTitleFontSize\":0.05,\"fTitleStyle\":0,\"fTitleX\":0.5,\"fTitleY\":0.995,\"fTitleW\":0,\"fTitleH\":0,\"fLegoInnerR\":0.5,\"fLineStyle\":[\"\",\"  \",\" 12 12\",\" 4 8\",\" 12 16 4 16\",\" 20 12 4 12\",\" 20 12 4 12 4 12 4 12\",\" 20 20\",\" 20 12 4 12 4 12\",\" 80 20\",\" 80 40 4 40\",\"  \",\"  \",\"  \",\"  \",\"  \",\"  \",\"  \",\"  \",\"  \",\"  \",\"  \",\"  \",\"  \",\"  \",\"  \",\"  \",\"  \",\"  \",\"  \"],\"fHeaderPS\":\"\",\"fTitlePS\":\"\",\"fFitFormat\":\"5.4g\",\"fPaintTextFormat\":\"g\",\"fLineScalePS\":3,\"fJoinLinePS\":0,\"fCapLinePS\":0,\"fTimeOffset\":788918400,\"fImageScaling\":1}],\"opt\":[\"\",\"\",\"blNDC\",\"\"]},\"fExecs\":null,\"fName\":\"c1_n4\",\"fTitle\":\"c1_n4\",\"fNumPaletteColor\":0,\"fNextPaletteColor\":0,\"fDISPLAY\":\"$DISPLAY\",\"fDoubleBuffer\":0,\"fRetained\":true,\"fXsizeUser\":0,\"fYsizeUser\":0,\"fXsizeReal\":20,\"fYsizeReal\":14.28571,\"fWindowTopX\":0,\"fWindowTopY\":0,\"fWindowWidth\":0,\"fWindowHeight\":0,\"fCw\":696,\"fCh\":472,\"fCatt\":{\"_typename\":\"TAttCanvas\",\"fXBetween\":2,\"fYBetween\":2,\"fTitleFromTop\":1.2,\"fXdate\":0.2,\"fYdate\":0.3,\"fAdate\":1},\"kMoveOpaque\":true,\"kResizeOpaque\":true,\"fHighLightColor\":2,\"fBatch\":true,\"kShowEventStatus\":false,\"kAutoExec\":true,\"kMenuBar\":true});\n",
       "            Core.draw(\"root_plot_1617313758515\", obj, \"\");\n",
       "        }\n",
       "    );\n",
       "}\n",
       "</script>\n"
      ],
      "text/plain": [
       "<IPython.core.display.HTML object>"
      ]
     },
     "metadata": {},
     "output_type": "display_data"
    }
   ],
   "source": [
    "c = R.TCanvas()\n",
    "h.Draw()\n",
    "c.Draw()"
   ]
  },
  {
   "cell_type": "code",
   "execution_count": 10,
   "id": "charming-detroit",
   "metadata": {
    "ExecuteTime": {
     "end_time": "2021-04-01T21:49:37.268476Z",
     "start_time": "2021-04-01T21:49:37.120856Z"
    }
   },
   "outputs": [
    {
     "data": {
      "text/plain": [
       "531"
      ]
     },
     "execution_count": 10,
     "metadata": {},
     "output_type": "execute_result"
    }
   ],
   "source": [
    "func1.Write()"
   ]
  },
  {
   "cell_type": "code",
   "execution_count": 142,
   "id": "lesser-individual",
   "metadata": {
    "ExecuteTime": {
     "end_time": "2021-04-01T22:09:10.550531Z",
     "start_time": "2021-04-01T22:09:10.363393Z"
    }
   },
   "outputs": [
    {
     "data": {
      "text/plain": [
       "<cppyy.gbl.TFitResultPtr object at 0x1f9804f0>"
      ]
     },
     "execution_count": 142,
     "metadata": {},
     "output_type": "execute_result"
    },
    {
     "name": "stdout",
     "output_type": "stream",
     "text": [
      " FCN=0.0328469 FROM MIGRAD    STATUS=FAILED       1376 CALLS        1377 TOTAL\n",
      "                     EDM=3.92997e-05    STRATEGY= 1      ERR MATRIX NOT POS-DEF\n",
      "  EXT PARAMETER                APPROXIMATE        STEP         FIRST   \n",
      "  NO.   NAME      VALUE            ERROR          SIZE      DERIVATIVE \n",
      "   1  p0           1.35693e-01   6.73221e-01   5.15616e-05  -7.59696e-04\n",
      "   2  p1           1.91358e+01   7.83019e+01   6.96761e-04   3.33782e-04\n",
      "   3  p2           3.52131e-03   2.28562e-02   1.57535e-06  -2.43008e-01\n",
      "   4  p3          -2.61826e+02   8.92492e+03   3.99934e-01   5.71770e-07\n",
      "   5  p4           8.40469e-01   5.73786e-01   3.46676e-05  -1.26483e-03\n",
      "   6  p5           1.27716e+00   3.24323e+01   3.28922e-03  -3.06929e-04\n",
      "   7  p6           2.94610e-02   2.77042e-01   2.62635e-05   1.48109e-02\n",
      "                               ERR DEF= 0.5\n"
     ]
    },
    {
     "name": "stderr",
     "output_type": "stream",
     "text": [
      "Info in <ROOT::Math::ParameterSettings>: lower/upper bounds outside current parameter value. The value will be set to (low+up)/2 \n",
      "Warning in <Fit>: Abnormal termination of minimization.\n"
     ]
    }
   ],
   "source": [
    "f.cd(\"/\")\n",
    "f.cd(\"njet5\")\n",
    "\n",
    "h = R.gDirectory.Get(\"ratio_mjj_zoom2\")\n",
    "\n",
    "\n",
    "# func1 = R.TF1(\"fit_mjj\", \"[0]+ [1]*TMath::Exp(-[2]*(x)) + [3]*x \", 95, 1500)\n",
    "# func1.SetParameter(0,0.85)\n",
    "# func1.SetParameter(2,0.001)\n",
    "# func1.SetParameter(3,0.0001)\n",
    "\n",
    "func1 = R.TF1(\"fit_mjj\", \"[5]*TMath::Exp(-[6]*(x))  + [0]/(1 + [1]*TMath::Exp(-[2]*(x-[3]))) + [4] \", 80, 1500)\n",
    "# #func1.SetLineColor(R.kRed)\n",
    "\n",
    "# func1.SetParameter(1,500)\n",
    "func1.SetParameter(0,0.2)\n",
    "func1.SetParLimits(1,0.0001,100)\n",
    "# func1.SetParameter(1,)\n",
    "# func1.SetParameter(2,)\n",
    "func1.SetParameter(3,300)\n",
    "func1.SetParameter(4,0.87)\n",
    "func1.SetParameter(5,10)\n",
    "func1.SetParameter(6,0.01)\n",
    "\n",
    "h.Fit(func1, \"RLS\")"
   ]
  },
  {
   "cell_type": "code",
   "execution_count": 140,
   "id": "crazy-steps",
   "metadata": {
    "ExecuteTime": {
     "end_time": "2021-04-01T22:08:40.293162Z",
     "start_time": "2021-04-01T22:08:40.187084Z"
    }
   },
   "outputs": [
    {
     "name": "stdout",
     "output_type": "stream",
     "text": [
      "614.3232417927029\n"
     ]
    }
   ],
   "source": [
    "print(s.Chi2())"
   ]
  },
  {
   "cell_type": "code",
   "execution_count": 143,
   "id": "earned-currency",
   "metadata": {
    "ExecuteTime": {
     "end_time": "2021-04-01T22:09:14.970471Z",
     "start_time": "2021-04-01T22:09:14.849526Z"
    }
   },
   "outputs": [
    {
     "data": {
      "text/html": [
       "\n",
       "<div id=\"root_plot_1617314954963\"\n",
       "     style=\"width: 696px; height: 472px\">\n",
       "</div>\n",
       "<script>\n",
       "if (typeof require !== 'undefined') {\n",
       "\n",
       "    // All requirements met (we are in jupyter notebooks or we loaded requirejs before).\n",
       "    display_root_plot_1617314954963();\n",
       "\n",
       "} else {\n",
       "\n",
       "    // We are in jupyterlab, we need to insert requirejs and configure it.\n",
       "    // Jupyterlab might be installed in a different base_url so we need to know it.\n",
       "    try {\n",
       "        var base_url = JSON.parse(document.getElementById('jupyter-config-data').innerHTML).baseUrl;\n",
       "    } catch(_) {\n",
       "        var base_url = '/';\n",
       "    }\n",
       "\n",
       "    // Try loading a local version of requirejs and fallback to cdn if not possible.\n",
       "    requirejs_load(base_url + 'static/components/requirejs/require.js', requirejs_success(base_url), function(){\n",
       "        requirejs_load('https://cdnjs.cloudflare.com/ajax/libs/require.js/2.2.0/require.min.js', requirejs_success(base_url), function(){\n",
       "            document.getElementById(\"root_plot_1617314954963\").innerHTML = \"Failed to load requireJs\";\n",
       "        });\n",
       "    });\n",
       "}\n",
       "\n",
       "function requirejs_load(src, on_load, on_error) {\n",
       "    var script = document.createElement('script');\n",
       "    script.src = src;\n",
       "    script.onload = on_load;\n",
       "    script.onerror = on_error;\n",
       "    document.head.appendChild(script);\n",
       "}\n",
       "\n",
       "function requirejs_success(base_url) {\n",
       "    return function() {\n",
       "        require.config({\n",
       "            baseUrl: base_url + 'static/'\n",
       "        });\n",
       "        display_root_plot_1617314954963();\n",
       "    }\n",
       "}\n",
       "\n",
       "function display_root_plot_1617314954963() {\n",
       "    require(['scripts/JSRootCore'],\n",
       "        function(Core) {\n",
       "            var obj = Core.JSONR_unref({\"_typename\":\"TCanvas\",\"fUniqueID\":0,\"fBits\":3342344,\"fLineColor\":1,\"fLineStyle\":1,\"fLineWidth\":1,\"fFillColor\":0,\"fFillStyle\":1001,\"fLeftMargin\":0.1,\"fRightMargin\":0.1,\"fBottomMargin\":0.1,\"fTopMargin\":0.1,\"fXfile\":2,\"fYfile\":2,\"fAfile\":1,\"fXstat\":0.99,\"fYstat\":0.99,\"fAstat\":2,\"fFrameFillColor\":0,\"fFrameLineColor\":1,\"fFrameFillStyle\":1001,\"fFrameLineStyle\":1,\"fFrameLineWidth\":1,\"fFrameBorderSize\":1,\"fFrameBorderMode\":0,\"fX1\":-131.250013504178,\"fY1\":-0.472362237244755,\"fX2\":1681.25001350418,\"fY2\":2.19274947646874,\"fXtoAbsPixelk\":50.4000544345858,\"fXtoPixelk\":50.4000544345858,\"fXtoPixel\":0.383999994277954,\"fYtoAbsPixelk\":388.34315305557,\"fYtoPixelk\":388.34315305557,\"fYtoPixel\":-177.103270219891,\"fUtoAbsPixelk\":5e-5,\"fUtoPixelk\":5e-5,\"fUtoPixel\":696,\"fVtoAbsPixelk\":472.00005,\"fVtoPixelk\":472,\"fVtoPixel\":-472,\"fAbsPixeltoXk\":-131.250013504178,\"fPixeltoXk\":-131.250013504178,\"fPixeltoX\":2.60416670547178,\"fAbsPixeltoYk\":2.19274947646874,\"fPixeltoYk\":-0.472362237244755,\"fPixeltoY\":-0.00564642312227436,\"fXlowNDC\":0,\"fYlowNDC\":0,\"fXUpNDC\":1,\"fYUpNDC\":1,\"fWNDC\":1,\"fHNDC\":1,\"fAbsXlowNDC\":0,\"fAbsYlowNDC\":0,\"fAbsWNDC\":1,\"fAbsHNDC\":1,\"fUxmin\":50,\"fUymin\":-0.205851049988101,\"fUxmax\":1500,\"fUymax\":1.92623828921209,\"fTheta\":30,\"fPhi\":30,\"fAspectRatio\":0,\"fNumber\":0,\"fTickx\":0,\"fTicky\":0,\"fLogx\":0,\"fLogy\":0,\"fLogz\":0,\"fPadPaint\":0,\"fCrosshair\":0,\"fCrosshairPos\":0,\"fBorderSize\":2,\"fBorderMode\":0,\"fModified\":false,\"fGridx\":false,\"fGridy\":false,\"fAbsCoord\":false,\"fEditable\":true,\"fFixedAspectRatio\":false,\"fPrimitives\":{\"_typename\":\"TList\",\"name\":\"TList\",\"arr\":[{\"_typename\":\"TFrame\",\"fUniqueID\":0,\"fBits\":8,\"fLineColor\":1,\"fLineStyle\":1,\"fLineWidth\":1,\"fFillColor\":0,\"fFillStyle\":1001,\"fX1\":50,\"fY1\":-0.205851049988101,\"fX2\":1500,\"fY2\":1.92623828921209,\"fBorderSize\":1,\"fBorderMode\":0},{\"_typename\":\"TH1D\",\"fUniqueID\":0,\"fBits\":8,\"fName\":\"ratio_mjj_zoom2\",\"fTitle\":\"mjj\",\"fLineColor\":602,\"fLineStyle\":1,\"fLineWidth\":1,\"fFillColor\":0,\"fFillStyle\":1001,\"fMarkerColor\":1,\"fMarkerStyle\":1,\"fMarkerSize\":1,\"fNcells\":202,\"fXaxis\":{\"_typename\":\"TAxis\",\"fUniqueID\":0,\"fBits\":0,\"fName\":\"xaxis\",\"fTitle\":\"\",\"fNdivisions\":510,\"fAxisColor\":1,\"fLabelColor\":1,\"fLabelFont\":42,\"fLabelOffset\":0.005,\"fLabelSize\":0.035,\"fTickLength\":0.03,\"fTitleOffset\":1,\"fTitleSize\":0.035,\"fTitleColor\":1,\"fTitleFont\":42,\"fNbins\":200,\"fXmin\":50,\"fXmax\":1500,\"fXbins\":[],\"fFirst\":0,\"fLast\":0,\"fBits2\":0,\"fTimeDisplay\":false,\"fTimeFormat\":\"\",\"fLabels\":null,\"fModLabs\":null},\"fYaxis\":{\"_typename\":\"TAxis\",\"fUniqueID\":0,\"fBits\":0,\"fName\":\"yaxis\",\"fTitle\":\"\",\"fNdivisions\":510,\"fAxisColor\":1,\"fLabelColor\":1,\"fLabelFont\":42,\"fLabelOffset\":0.005,\"fLabelSize\":0.035,\"fTickLength\":0.03,\"fTitleOffset\":0,\"fTitleSize\":0.035,\"fTitleColor\":1,\"fTitleFont\":42,\"fNbins\":1,\"fXmin\":0,\"fXmax\":1,\"fXbins\":[],\"fFirst\":0,\"fLast\":0,\"fBits2\":0,\"fTimeDisplay\":false,\"fTimeFormat\":\"\",\"fLabels\":null,\"fModLabs\":null},\"fZaxis\":{\"_typename\":\"TAxis\",\"fUniqueID\":0,\"fBits\":0,\"fName\":\"zaxis\",\"fTitle\":\"\",\"fNdivisions\":510,\"fAxisColor\":1,\"fLabelColor\":1,\"fLabelFont\":42,\"fLabelOffset\":0.005,\"fLabelSize\":0.035,\"fTickLength\":0.03,\"fTitleOffset\":1,\"fTitleSize\":0.035,\"fTitleColor\":1,\"fTitleFont\":42,\"fNbins\":1,\"fXmin\":0,\"fXmax\":1,\"fXbins\":[],\"fFirst\":0,\"fLast\":0,\"fBits2\":0,\"fTimeDisplay\":false,\"fTimeFormat\":\"\",\"fLabels\":null,\"fModLabs\":null},\"fBarOffset\":0,\"fBarWidth\":1000,\"fEntries\":60630.1266072648,\"fTsumw\":183.911903298798,\"fTsumw2\":0.557867681756308,\"fTsumwx\":146273.880921587,\"fTsumwx2\":147963078.690306,\"fMaximum\":-1111,\"fMinimum\":-1111,\"fNormFactor\":0,\"fContour\":[],\"fSumw2\":[0,0,0,0.353850692930529,0.124076396863242,0.0129739942444725,0.00295571989965282,0.00114263853116201,4.38800681395328e-4,2.45341103402455e-4,1.52982341737042e-4,1.0018449395162e-4,7.58120972592508e-5,6.65109408226556e-5,5.99144923668862e-5,5.59817599122432e-5,5.37697340553062e-5,4.94960490172685e-5,4.88440630017523e-5,4.67153285757179e-5,4.60141963277655e-5,4.61074661803837e-5,4.61587799834986e-5,4.50680849653734e-5,4.52863134875746e-5,4.52913259854206e-5,4.55519360936685e-5,4.537829687502e-5,4.75711522813162e-5,4.80319115401073e-5,5.09686232044887e-5,5.0063577220079e-5,5.23780766608027e-5,5.26567157339922e-5,5.30332508183335e-5,5.68119550107511e-5,5.58765919414531e-5,5.87605134738879e-5,5.82539028618102e-5,6.17172247008564e-5,6.26290907746075e-5,6.33459976014949e-5,6.60545439465886e-5,6.72930447829246e-5,6.78014925241123e-5,7.30571192667475e-5,7.10468348699732e-5,7.38470360911473e-5,7.85924646487111e-5,7.96472441877803e-5,7.94748847960403e-5,8.3433946065321e-5,8.38190988092854e-5,8.66560235720359e-5,9.05199381516042e-5,9.36720249384841e-5,9.26998459951208e-5,9.08048792374734e-5,9.91608520764627e-5,9.80620362883323e-5,1.00059093569793e-4,1.07595375307723e-4,1.04823731478723e-4,1.11948937998426e-4,1.11697114612439e-4,1.16289002529394e-4,1.1876319611254e-4,1.16459417122689e-4,1.22846267059063e-4,1.27455273261299e-4,1.23474982964399e-4,1.37249309089271e-4,1.30339929182222e-4,1.37596946621939e-4,1.38242990276533e-4,1.4492290595772e-4,1.45454555262479e-4,1.46087340429911e-4,1.44161376820627e-4,1.48640787381866e-4,1.58700786118732e-4,1.55195025244696e-4,1.62463881809334e-4,1.62357001157812e-4,1.62619793369972e-4,1.73885190902978e-4,1.80075668339927e-4,1.83630543517032e-4,1.77060205789684e-4,1.96278808999572e-4,1.94873237260353e-4,1.93097639279287e-4,1.97019239222155e-4,2.06865128493803e-4,2.01817281316193e-4,2.09676995589642e-4,2.08634740780957e-4,2.16698292565114e-4,2.17050892540257e-4,2.14442040503441e-4,2.27726552677243e-4,2.35977940159556e-4,2.36868341505535e-4,2.44111290691361e-4,2.4885469666711e-4,2.47953492554831e-4,2.57144641725764e-4,2.74315520591972e-4,2.61274030532935e-4,2.84685692445896e-4,2.60382048330335e-4,2.68856990994676e-4,2.76492451837991e-4,2.92776286132601e-4,3.07070610286705e-4,2.84948673935581e-4,2.81371673145663e-4,3.20834119493872e-4,3.12773727231051e-4,3.19145508444263e-4,3.28612850821167e-4,3.18638765586985e-4,3.30856764973824e-4,3.21096736876358e-4,3.49715301941022e-4,3.49147698745539e-4,3.54303942019894e-4,3.61656058005405e-4,3.44925912039965e-4,3.74597079635556e-4,3.81184726848954e-4,3.88145211669293e-4,4.17516736099507e-4,4.00032775657345e-4,3.9197409428788e-4,4.05055644362923e-4,3.77751086789212e-4,3.96274820366826e-4,4.24630263645025e-4,4.36425506731053e-4,4.43308762844494e-4,4.56464487841737e-4,4.71785064520136e-4,4.67356822512309e-4,4.40896203035306e-4,4.62533051061808e-4,4.61544258663412e-4,4.6509524572022e-4,4.99812329650608e-4,4.85948196746004e-4,5.08398347479121e-4,5.10680722008978e-4,5.11146684993546e-4,5.79273118702817e-4,5.19628289717876e-4,5.02409956863082e-4,5.34950076366566e-4,5.54235860084738e-4,6.06293063657515e-4,5.46492380555499e-4,5.47746661823162e-4,5.66346794495028e-4,5.72802260376868e-4,5.66270491578774e-4,6.18098145317989e-4,6.00414595721096e-4,5.910904251204e-4,6.50518902139991e-4,6.27618897541293e-4,6.23535100439508e-4,6.50598656475932e-4,6.02114231889699e-4,6.53333844595118e-4,7.04487440016046e-4,6.76826097283584e-4,7.02951939063075e-4,7.50789152309157e-4,7.00618515117428e-4,7.07763097131822e-4,7.31830546824631e-4,8.22231816870246e-4,7.87129819448752e-4,6.94390977421456e-4,8.13223362593073e-4,8.19831036783991e-4,7.64270072068357e-4,6.99084124189961e-4,7.83363501131801e-4,8.13934325244794e-4,8.21630805415208e-4,8.61855308735787e-4,9.02984608116222e-4,9.08028533486132e-4,8.28277032477054e-4,9.57134826302338e-4,9.83113467178312e-4,9.04299174353406e-4,8.45253641404019e-4,8.06065048149441e-4,9.6840921705337e-4,1.11298743703239e-7,1.04672706265796e-5],\"fOption\":\"\",\"fFunctions\":{\"_typename\":\"TList\",\"name\":\"TList\",\"arr\":[{\"_typename\":\"TPaveStats\",\"fUniqueID\":0,\"fBits\":9,\"fLineColor\":1,\"fLineStyle\":1,\"fLineWidth\":1,\"fFillColor\":0,\"fFillStyle\":1001,\"fX1\":1282.50003673136,\"fY1\":1.59309935676851,\"fX2\":1645.00004753471,\"fY2\":2.01951722143149,\"fX1NDC\":0.780000016093254,\"fY1NDC\":0.775000005960464,\"fX2NDC\":0.980000019073486,\"fY2NDC\":0.935000002384186,\"fBorderSize\":1,\"fInit\":1,\"fShadowColor\":1,\"fCornerRadius\":0,\"fOption\":\"brNDC\",\"fName\":\"stats\",\"fTextAngle\":0,\"fTextSize\":0,\"fTextAlign\":12,\"fTextColor\":1,\"fTextFont\":42,\"fLabel\":\"\",\"fLongest\":18,\"fMargin\":0.05,\"fLines\":{\"_typename\":\"TList\",\"name\":\"TList\",\"arr\":[{\"_typename\":\"TLatex\",\"fUniqueID\":0,\"fBits\":0,\"fName\":\"\",\"fTitle\":\"ratio_mjj_zoom2\",\"fTextAngle\":0,\"fTextSize\":0.0368,\"fTextAlign\":0,\"fTextColor\":0,\"fTextFont\":0,\"fX\":0,\"fY\":0,\"fLineColor\":1,\"fLineStyle\":1,\"fLineWidth\":2,\"fLimitFactorSize\":3,\"fOriginSize\":0.0368000008165836},{\"_typename\":\"TLatex\",\"fUniqueID\":0,\"fBits\":0,\"fName\":\"\",\"fTitle\":\"Entries = 60630  \",\"fTextAngle\":0,\"fTextSize\":0,\"fTextAlign\":0,\"fTextColor\":0,\"fTextFont\":0,\"fX\":0,\"fY\":0,\"fLineColor\":1,\"fLineStyle\":1,\"fLineWidth\":2,\"fLimitFactorSize\":3,\"fOriginSize\":0.04},{\"_typename\":\"TLatex\",\"fUniqueID\":0,\"fBits\":0,\"fName\":\"\",\"fTitle\":\"Mean  =  795.3\",\"fTextAngle\":0,\"fTextSize\":0,\"fTextAlign\":0,\"fTextColor\":0,\"fTextFont\":0,\"fX\":0,\"fY\":0,\"fLineColor\":1,\"fLineStyle\":1,\"fLineWidth\":2,\"fLimitFactorSize\":3,\"fOriginSize\":0.04},{\"_typename\":\"TLatex\",\"fUniqueID\":0,\"fBits\":0,\"fName\":\"\",\"fTitle\":\"Std Dev   =  414.7\",\"fTextAngle\":0,\"fTextSize\":0,\"fTextAlign\":0,\"fTextColor\":0,\"fTextFont\":0,\"fX\":0,\"fY\":0,\"fLineColor\":1,\"fLineStyle\":1,\"fLineWidth\":2,\"fLimitFactorSize\":3,\"fOriginSize\":0.04}],\"opt\":[\"\",\"\",\"\",\"\"]},\"fOptFit\":0,\"fOptStat\":1111,\"fFitFormat\":\"5.4g\",\"fStatFormat\":\"6.4g\",\"fParent\":{\"$ref\":3}},{\"_typename\":\"TF1\",\"fUniqueID\":0,\"fBits\":1024,\"fName\":\"fit_mjj\",\"fTitle\":\"[5]*TMath::Exp(-[6]*(x))  + [0]\\/(1 + [1]*TMath::Exp(-[2]*(x-[3]))) + [4] \",\"fLineColor\":2,\"fLineStyle\":1,\"fLineWidth\":2,\"fFillColor\":19,\"fFillStyle\":0,\"fMarkerColor\":1,\"fMarkerStyle\":1,\"fMarkerSize\":1,\"fXmin\":80,\"fXmax\":1500,\"fNpar\":7,\"fNdim\":1,\"fNpx\":100,\"fType\":0,\"fNpfits\":196,\"fNDF\":189,\"fChisquare\":3305.87178107507,\"fMinimum\":-1111,\"fMaximum\":-1111,\"fParErrors\":[0.673221446173671,78.3019388811646,0.0228562274533048,8924.92080696863,0.573786398791981,32.432259359772,0.277042470623809],\"fParMin\":[0,1e-4,0,0,0,0,0],\"fParMax\":[0,100,0,0,0,0,0],\"fSave\":[0.981561516830186,0.941079302352254,0.914765370722071,0.897787005812047,0.886963736422456,0.880202469439064,0.876125729607527,0.873826989483151,0.872709641864804,0.872381020300072,0.872582648707469,0.873144334730739,0.873953955596107,0.874937571888532,0.876046338651005,0.877247890221797,0.878520669599653,0.879850195931658,0.881226607792885,0.882643046372278,0.884094591708295,0.885577563196106,0.887089060133595,0.888626660549279,0.890188224506056,0.891771766465853,0.893375373399616,0.894997153285558,0.896635203871857,0.89828759501977,0.899952360202817,0.901627494221055,0.903310955162364,0.905000669280045,0.906694537873371,0.908390445530754,0.91008626927406,0.911779888260205,0.91346919377421,0.915152099300611,0.916826550496865,0.918490534919299,0.920142091373057,0.921779318775028,0.923400384434352,0.925003531669734,0.926587086696983,0.928149464734069,0.929689175284705,0.931204826574799,0.932695129129122,0.934158898487842,0.935595057074209,0.937002635235322,0.938380771487507,0.939728712006294,0.941045809408153,0.942331520877034,0.943585405693378,0.944807122226562,0.945996424453827,0.947153158069661,0.94827725624949,0.949368735130392,0.950427689069632,0.951454285739164,0.952448761110951,0.953411414384278,0.954342602902121,0.955242737099328,0.956112275520939,0.956951719944431,0.957761610635265,0.958542521760721,0.959295056982851,0.960019845247375,0.960717536781665,0.961388799311462,0.962034314502853,0.962654774633164,0.963250879491872,0.963823333510408,0.964372843117738,0.964900114316968,0.965405850476776,0.965890750330342,0.966355506173498,0.966800802253091,0.967227313336048,0.967635703449232,0.968026624779986,0.968400716727179,0.968758605092576,0.96910090140251,0.969428202350019,0.969741089347886,0.970040128183356,0.970325868765665,0.970598844957916,0.970859574485262,0.971108558911798,80,1500],\"fNormalized\":false,\"fNormIntegral\":0,\"fFormula\":{\"_typename\":\"TFormula\",\"fUniqueID\":0,\"fBits\":1024,\"fName\":\"fit_mjj\",\"fTitle\":\"[5]*TMath::Exp(-[6]*(x))  + [0]\\/(1 + [1]*TMath::Exp(-[2]*(x-[3]))) + [4] \",\"fClingParameters\":[0.135692585814714,19.1358361366891,0.00352130644654691,-261.8261942513,0.840469425697098,1.27716118826289,0.0294609649768759],\"fAllParametersSetted\":true,\"fParams\":[{\"$pair\":\"pair<TString,int,TFormulaParamOrder>\",\"first\":\"p0\",\"second\":0},{\"$pair\":\"pair<TString,int,TFormulaParamOrder>\",\"first\":\"p1\",\"second\":1},{\"$pair\":\"pair<TString,int,TFormulaParamOrder>\",\"first\":\"p2\",\"second\":2},{\"$pair\":\"pair<TString,int,TFormulaParamOrder>\",\"first\":\"p3\",\"second\":3},{\"$pair\":\"pair<TString,int,TFormulaParamOrder>\",\"first\":\"p4\",\"second\":4},{\"$pair\":\"pair<TString,int,TFormulaParamOrder>\",\"first\":\"p5\",\"second\":5},{\"$pair\":\"pair<TString,int,TFormulaParamOrder>\",\"first\":\"p6\",\"second\":6}],\"fFormula\":\"[p5]*TMath::Exp(-[p6]*(x))+[p0]\\/(1+[p1]*TMath::Exp(-[p2]*(x-[p3])))+[p4]\",\"fNdim\":1,\"fLinearParts\":[],\"fVectorized\":false},\"fParams\":null,\"fComposition_ptr\":null}],\"opt\":[\"brNDC\",\"\"]},\"fBufferSize\":0,\"fBuffer\":[],\"fBinStatErrOpt\":0,\"fStatOverflows\":2,\"fArray\":[0,0,0,0.485695849516802,1.47246542865404,1.0102880233976,0.92751608734451,0.934197381014244,0.87592246619967,0.911004618787069,0.924232003161162,0.893172711718107,0.881714939481571,0.891193158150223,0.888904208745403,0.879147210483324,0.887244503668566,0.873359433412205,0.885859821009779,0.87467909659763,0.876115464660551,0.879292478841774,0.881965766631732,0.872538452268384,0.873738966250336,0.869168402779599,0.864173697560484,0.860104011924428,0.873816188373771,0.866134774346276,0.884208261561659,0.8677377679726,0.883344713581982,0.869394622458261,0.870892551960019,0.888163787650485,0.868806338358268,0.88377418042371,0.86687184441524,0.882282323682772,0.87895455373481,0.87578791314673,0.881554377921883,0.877426286562889,0.872525729095663,0.895892337670625,0.874869791733707,0.882151757602271,0.898180819255364,0.890123257378567,0.881510907006817,0.89622259958379,0.888682545761473,0.893013797822678,0.907158603454088,0.908181891157507,0.896348848723417,0.875357232633902,0.907346889563454,0.892225634661573,0.885134847553179,0.913192507708539,0.886536897122087,0.913506996347503,0.89881177406929,0.910251568169377,0.90963498782558,0.892326176876997,0.906692976003309,0.911095446972022,0.893158205473852,0.925383244025101,0.898310371314753,0.91422982131981,0.911348137433928,0.922083775281665,0.911230136530142,0.913733984850228,0.893932782340266,0.899407014963988,0.919679719760297,0.904929607348734,0.914259989193614,0.911127663375034,0.895599487630913,0.920785260012643,0.922261693786749,0.93474310411091,0.907160280537053,0.938428235722629,0.929723611399162,0.923449875236252,0.926506306914535,0.932951014960017,0.917492692804544,0.931087557550127,0.91956455313107,0.919633728567917,0.921401205303089,0.912929941387398,0.927002629016523,0.941207502063398,0.932799665249142,0.936588824439112,0.939561073012544,0.929651107269154,0.937853375459934,0.968099008833642,0.935474750564651,0.961966029813968,0.916157324043484,0.923331844548901,0.930711191721043,0.950642484696498,0.965877161679374,0.925401618983664,0.909622360387819,0.965073347388076,0.946022202808832,0.949523429004918,0.96159506880014,0.935713332601024,0.946032980028317,0.922158681696839,0.961006701484278,0.944407520276904,0.948902883921008,0.954022939090605,0.92634807463675,0.957370371099778,0.963210901467625,0.962836457418907,0.990012867434952,0.96294443819816,0.935165193251675,0.956756992397816,0.915117711180228,0.929943456981835,0.959446715921979,0.962251732465736,0.964665224856449,0.973415041525224,0.982546895559618,0.969838645809396,0.946524747430127,0.961819119945501,0.949548755586378,0.945654404416117,0.974459880185706,0.953103586894612,0.974291463610956,0.964527924385715,0.951526230527139,1.00950764676588,0.95155389304632,0.932610906259406,0.950448161135633,0.966550125409721,1.00225898559478,0.947741922330068,0.947178853067133,0.942632013359465,0.957799053581215,0.935631870685726,0.972995486453341,0.952068795137091,0.946224993033657,0.98315411579439,0.95686744430734,0.941045395075411,0.960262978559557,0.91554809488436,0.957411123917243,0.97864268468933,0.971260994304686,0.96656116969461,0.999088946472275,0.958332943160293,0.959343247905144,0.958165409335642,1.0259156857854,0.987404351660738,0.936165345056843,0.99239729447846,0.988210521864829,0.949620832279343,0.906880617300214,0.95915293623129,0.975376096425267,0.969118108590608,0.977801663466554,0.990215433120464,1.00009414261462,0.936160124333169,1.01679423180476,1.02076343797464,0.966585411942819,0.932344511685752,0.905041482115433,0.999182297964407,0.989703153640385,0.989613503342084]},{\"_typename\":\"TPaveText\",\"fUniqueID\":0,\"fBits\":9,\"fLineColor\":1,\"fLineStyle\":1,\"fLineWidth\":1,\"fFillColor\":0,\"fFillStyle\":0,\"fX1\":712.604165736896,\"fY1\":2.01680694468692,\"fX2\":837.395834263104,\"fY2\":2.17942393060842,\"fX1NDC\":0.465574712643678,\"fY1NDC\":0.933983055615829,\"fX2NDC\":0.534425287356322,\"fY2NDC\":0.995000004768372,\"fBorderSize\":0,\"fInit\":1,\"fShadowColor\":1,\"fCornerRadius\":0,\"fOption\":\"blNDC\",\"fName\":\"title\",\"fTextAngle\":0,\"fTextSize\":0,\"fTextAlign\":22,\"fTextColor\":1,\"fTextFont\":42,\"fLabel\":\"\",\"fLongest\":3,\"fMargin\":0.05,\"fLines\":{\"_typename\":\"TList\",\"name\":\"TList\",\"arr\":[{\"_typename\":\"TLatex\",\"fUniqueID\":0,\"fBits\":0,\"fName\":\"\",\"fTitle\":\"mjj\",\"fTextAngle\":0,\"fTextSize\":0,\"fTextAlign\":0,\"fTextColor\":0,\"fTextFont\":0,\"fX\":0,\"fY\":0,\"fLineColor\":1,\"fLineStyle\":1,\"fLineWidth\":2,\"fLimitFactorSize\":3,\"fOriginSize\":0.0518644079566002}],\"opt\":[\"\"]}},{\"_typename\":\"TStyle\",\"fUniqueID\":0,\"fBits\":0,\"fName\":\"Modern\",\"fTitle\":\"Modern Style\",\"fLineColor\":1,\"fLineStyle\":1,\"fLineWidth\":1,\"fFillColor\":19,\"fFillStyle\":1001,\"fMarkerColor\":1,\"fMarkerStyle\":1,\"fMarkerSize\":1,\"fTextAngle\":0,\"fTextSize\":0.05,\"fTextAlign\":11,\"fTextColor\":1,\"fTextFont\":62,\"fXaxis\":{\"_typename\":\"TAttAxis\",\"fNdivisions\":510,\"fAxisColor\":1,\"fLabelColor\":1,\"fLabelFont\":42,\"fLabelOffset\":0.005,\"fLabelSize\":0.035,\"fTickLength\":0.03,\"fTitleOffset\":1,\"fTitleSize\":0.035,\"fTitleColor\":1,\"fTitleFont\":42},\"fYaxis\":{\"_typename\":\"TAttAxis\",\"fNdivisions\":510,\"fAxisColor\":1,\"fLabelColor\":1,\"fLabelFont\":42,\"fLabelOffset\":0.005,\"fLabelSize\":0.035,\"fTickLength\":0.03,\"fTitleOffset\":0,\"fTitleSize\":0.035,\"fTitleColor\":1,\"fTitleFont\":42},\"fZaxis\":{\"_typename\":\"TAttAxis\",\"fNdivisions\":510,\"fAxisColor\":1,\"fLabelColor\":1,\"fLabelFont\":42,\"fLabelOffset\":0.005,\"fLabelSize\":0.035,\"fTickLength\":0.03,\"fTitleOffset\":1,\"fTitleSize\":0.035,\"fTitleColor\":1,\"fTitleFont\":42},\"fBarWidth\":1,\"fBarOffset\":0,\"fColorModelPS\":0,\"fDrawBorder\":0,\"fOptLogx\":0,\"fOptLogy\":0,\"fOptLogz\":0,\"fOptDate\":0,\"fOptStat\":1111,\"fOptTitle\":1,\"fOptFile\":0,\"fOptFit\":0,\"fShowEventStatus\":0,\"fShowEditor\":0,\"fShowToolBar\":0,\"fNumberContours\":20,\"fAttDate\":{\"_typename\":\"TAttText\",\"fTextAngle\":0,\"fTextSize\":0.025,\"fTextAlign\":11,\"fTextColor\":1,\"fTextFont\":62},\"fDateX\":0.01,\"fDateY\":0.01,\"fEndErrorSize\":2,\"fErrorX\":0.5,\"fFuncColor\":2,\"fFuncStyle\":1,\"fFuncWidth\":2,\"fGridColor\":0,\"fGridStyle\":3,\"fGridWidth\":1,\"fLegendBorderSize\":1,\"fLegendFillColor\":0,\"fLegendFont\":42,\"fLegendTextSize\":0,\"fHatchesLineWidth\":1,\"fHatchesSpacing\":1,\"fFrameFillColor\":0,\"fFrameLineColor\":1,\"fFrameFillStyle\":1001,\"fFrameLineStyle\":1,\"fFrameLineWidth\":1,\"fFrameBorderSize\":1,\"fFrameBorderMode\":0,\"fHistFillColor\":0,\"fHistLineColor\":602,\"fHistFillStyle\":1001,\"fHistLineStyle\":1,\"fHistLineWidth\":1,\"fHistMinimumZero\":false,\"fHistTopMargin\":0.05,\"fCanvasPreferGL\":false,\"fCanvasColor\":0,\"fCanvasBorderSize\":2,\"fCanvasBorderMode\":0,\"fCanvasDefH\":500,\"fCanvasDefW\":700,\"fCanvasDefX\":10,\"fCanvasDefY\":10,\"fPadColor\":0,\"fPadBorderSize\":2,\"fPadBorderMode\":0,\"fPadBottomMargin\":0.1,\"fPadTopMargin\":0.1,\"fPadLeftMargin\":0.1,\"fPadRightMargin\":0.1,\"fPadGridX\":false,\"fPadGridY\":false,\"fPadTickX\":0,\"fPadTickY\":0,\"fPaperSizeX\":20,\"fPaperSizeY\":26,\"fScreenFactor\":1,\"fStatColor\":0,\"fStatTextColor\":1,\"fStatBorderSize\":1,\"fStatFont\":42,\"fStatFontSize\":0,\"fStatStyle\":1001,\"fStatFormat\":\"6.4g\",\"fStatX\":0.98,\"fStatY\":0.935,\"fStatW\":0.2,\"fStatH\":0.16,\"fStripDecimals\":true,\"fTitleAlign\":23,\"fTitleColor\":0,\"fTitleTextColor\":1,\"fTitleBorderSize\":0,\"fTitleFont\":42,\"fTitleFontSize\":0.05,\"fTitleStyle\":0,\"fTitleX\":0.5,\"fTitleY\":0.995,\"fTitleW\":0,\"fTitleH\":0,\"fLegoInnerR\":0.5,\"fLineStyle\":[\"\",\"  \",\" 12 12\",\" 4 8\",\" 12 16 4 16\",\" 20 12 4 12\",\" 20 12 4 12 4 12 4 12\",\" 20 20\",\" 20 12 4 12 4 12\",\" 80 20\",\" 80 40 4 40\",\"  \",\"  \",\"  \",\"  \",\"  \",\"  \",\"  \",\"  \",\"  \",\"  \",\"  \",\"  \",\"  \",\"  \",\"  \",\"  \",\"  \",\"  \",\"  \"],\"fHeaderPS\":\"\",\"fTitlePS\":\"\",\"fFitFormat\":\"5.4g\",\"fPaintTextFormat\":\"g\",\"fLineScalePS\":3,\"fJoinLinePS\":0,\"fCapLinePS\":0,\"fTimeOffset\":788918400,\"fImageScaling\":1}],\"opt\":[\"\",\"\",\"blNDC\",\"\"]},\"fExecs\":null,\"fName\":\"c1_n4\",\"fTitle\":\"c1_n4\",\"fNumPaletteColor\":0,\"fNextPaletteColor\":0,\"fDISPLAY\":\"$DISPLAY\",\"fDoubleBuffer\":0,\"fRetained\":true,\"fXsizeUser\":0,\"fYsizeUser\":0,\"fXsizeReal\":20,\"fYsizeReal\":14.28571,\"fWindowTopX\":0,\"fWindowTopY\":0,\"fWindowWidth\":0,\"fWindowHeight\":0,\"fCw\":696,\"fCh\":472,\"fCatt\":{\"_typename\":\"TAttCanvas\",\"fXBetween\":2,\"fYBetween\":2,\"fTitleFromTop\":1.2,\"fXdate\":0.2,\"fYdate\":0.3,\"fAdate\":1},\"kMoveOpaque\":true,\"kResizeOpaque\":true,\"fHighLightColor\":2,\"fBatch\":true,\"kShowEventStatus\":false,\"kAutoExec\":true,\"kMenuBar\":true});\n",
       "            Core.draw(\"root_plot_1617314954963\", obj, \"\");\n",
       "        }\n",
       "    );\n",
       "}\n",
       "</script>\n"
      ],
      "text/plain": [
       "<IPython.core.display.HTML object>"
      ]
     },
     "metadata": {},
     "output_type": "display_data"
    }
   ],
   "source": [
    "c = R.TCanvas()\n",
    "h.Draw()\n",
    "c.Draw()"
   ]
  },
  {
   "cell_type": "code",
   "execution_count": 144,
   "id": "intimate-banks",
   "metadata": {
    "ExecuteTime": {
     "end_time": "2021-04-01T22:09:32.636388Z",
     "start_time": "2021-04-01T22:09:32.527117Z"
    }
   },
   "outputs": [
    {
     "data": {
      "text/plain": [
       "551"
      ]
     },
     "execution_count": 144,
     "metadata": {},
     "output_type": "execute_result"
    }
   ],
   "source": [
    "func1.Write()"
   ]
  },
  {
   "cell_type": "code",
   "execution_count": 11,
   "id": "canadian-manchester",
   "metadata": {
    "ExecuteTime": {
     "end_time": "2021-04-01T21:49:48.310371Z",
     "start_time": "2021-04-01T21:49:48.096069Z"
    }
   },
   "outputs": [
    {
     "data": {
      "text/plain": [
       "<cppyy.gbl.TFitResultPtr object at 0xacf0350>"
      ]
     },
     "execution_count": 11,
     "metadata": {},
     "output_type": "execute_result"
    },
    {
     "name": "stdout",
     "output_type": "stream",
     "text": [
      " FCN=0.100029 FROM MIGRAD    STATUS=CONVERGED    1302 CALLS        1303 TOTAL\n",
      "                     EDM=4.27193e-07    STRATEGY= 1      ERROR MATRIX ACCURATE \n",
      "  EXT PARAMETER                                   STEP         FIRST   \n",
      "  NO.   NAME      VALUE            ERROR          SIZE      DERIVATIVE \n",
      "   1  p0           1.32167e-01   1.36353e+00   2.78126e-04   2.87311e-04\n",
      "   2  p1           4.18487e+00   8.25290e+02   3.74129e-02   1.00417e-06\n",
      "   3  p2          -9.69260e-02   2.38273e+00   4.78848e-04  -2.90775e-04\n",
      "   4  p3           1.35271e+02   1.99778e+03   9.25188e-02  -4.07865e-07\n",
      "   5  p4           1.38043e+00   2.11849e-01   4.36607e-05  -1.24095e-03\n",
      "   6  p5          -4.11310e-01   9.86766e-01   1.55825e-04   1.95380e-04\n",
      "   7  p6           3.03332e-03   1.04834e-02   1.32937e-06   1.96587e-02\n",
      "                               ERR DEF= 0.5\n"
     ]
    }
   ],
   "source": [
    "f.cd(\"/\")\n",
    "f.cd(\"njet3\")\n",
    "\n",
    "h = R.gDirectory.Get(\"ratio_mjj_zoom2\")\n",
    "\n",
    "#func1 = R.TF1(\"fit_mjj\", \"1 + [0]/(1 + [1]*TMath::Exp(-[2]*(x-[3])))\", 150, 1400)\n",
    "\n",
    "func1 = R.TF1(\"fit_mjj\", \"[5]*TMath::Exp(-[6]*(x))  + [0]/(1 + [1]*TMath::Exp(-[2]*(x-[3]))) + [4] \", 80, 1500)\n",
    "# #func1.SetLineColor(R.kRed)\n",
    "\n",
    "# func1.SetParameter(1,500)\n",
    "func1.SetParameter(0,0.2)\n",
    "# func1.SetParameter(1,1)\n",
    "# func1.SetParameter(2,)\n",
    "func1.SetParameter(3,200)\n",
    "func1.SetParameter(4,1.2)\n",
    "func1.SetParameter(5,10)\n",
    "func1.SetParameter(6,0.01)\n",
    "\n",
    "h.Fit(func1, \"RLS\")"
   ]
  },
  {
   "cell_type": "code",
   "execution_count": 12,
   "id": "twenty-compatibility",
   "metadata": {
    "ExecuteTime": {
     "end_time": "2021-04-01T21:49:51.118622Z",
     "start_time": "2021-04-01T21:49:51.000244Z"
    }
   },
   "outputs": [
    {
     "data": {
      "text/html": [
       "\n",
       "<div id=\"root_plot_1617313791112\"\n",
       "     style=\"width: 696px; height: 472px\">\n",
       "</div>\n",
       "<script>\n",
       "if (typeof require !== 'undefined') {\n",
       "\n",
       "    // All requirements met (we are in jupyter notebooks or we loaded requirejs before).\n",
       "    display_root_plot_1617313791112();\n",
       "\n",
       "} else {\n",
       "\n",
       "    // We are in jupyterlab, we need to insert requirejs and configure it.\n",
       "    // Jupyterlab might be installed in a different base_url so we need to know it.\n",
       "    try {\n",
       "        var base_url = JSON.parse(document.getElementById('jupyter-config-data').innerHTML).baseUrl;\n",
       "    } catch(_) {\n",
       "        var base_url = '/';\n",
       "    }\n",
       "\n",
       "    // Try loading a local version of requirejs and fallback to cdn if not possible.\n",
       "    requirejs_load(base_url + 'static/components/requirejs/require.js', requirejs_success(base_url), function(){\n",
       "        requirejs_load('https://cdnjs.cloudflare.com/ajax/libs/require.js/2.2.0/require.min.js', requirejs_success(base_url), function(){\n",
       "            document.getElementById(\"root_plot_1617313791112\").innerHTML = \"Failed to load requireJs\";\n",
       "        });\n",
       "    });\n",
       "}\n",
       "\n",
       "function requirejs_load(src, on_load, on_error) {\n",
       "    var script = document.createElement('script');\n",
       "    script.src = src;\n",
       "    script.onload = on_load;\n",
       "    script.onerror = on_error;\n",
       "    document.head.appendChild(script);\n",
       "}\n",
       "\n",
       "function requirejs_success(base_url) {\n",
       "    return function() {\n",
       "        require.config({\n",
       "            baseUrl: base_url + 'static/'\n",
       "        });\n",
       "        display_root_plot_1617313791112();\n",
       "    }\n",
       "}\n",
       "\n",
       "function display_root_plot_1617313791112() {\n",
       "    require(['scripts/JSRootCore'],\n",
       "        function(Core) {\n",
       "            var obj = Core.JSONR_unref({\"_typename\":\"TCanvas\",\"fUniqueID\":0,\"fBits\":3342344,\"fLineColor\":1,\"fLineStyle\":1,\"fLineWidth\":1,\"fFillColor\":0,\"fFillStyle\":1001,\"fLeftMargin\":0.1,\"fRightMargin\":0.1,\"fBottomMargin\":0.1,\"fTopMargin\":0.1,\"fXfile\":2,\"fYfile\":2,\"fAfile\":1,\"fXstat\":0.99,\"fYstat\":0.99,\"fAstat\":2,\"fFrameFillColor\":0,\"fFrameLineColor\":1,\"fFrameFillStyle\":1001,\"fFrameLineStyle\":1,\"fFrameLineWidth\":1,\"fFrameBorderSize\":1,\"fFrameBorderMode\":0,\"fX1\":-131.250013504178,\"fY1\":0.844743017447212,\"fX2\":1681.25001350418,\"fY2\":1.70457169201766,\"fXtoAbsPixelk\":50.4000544345858,\"fXtoPixelk\":50.4000544345858,\"fXtoPixel\":0.383999994277954,\"fYtoAbsPixelk\":935.718830295707,\"fYtoPixelk\":935.718830295707,\"fYtoPixel\":-548.946568030893,\"fUtoAbsPixelk\":5e-5,\"fUtoPixelk\":5e-5,\"fUtoPixel\":696,\"fVtoAbsPixelk\":472.00005,\"fVtoPixelk\":472,\"fVtoPixel\":-472,\"fAbsPixeltoXk\":-131.250013504178,\"fPixeltoXk\":-131.250013504178,\"fPixeltoX\":2.60416670547178,\"fAbsPixeltoYk\":1.70457169201766,\"fPixeltoYk\":0.844743017447212,\"fPixeltoY\":-0.00182167092070011,\"fXlowNDC\":0,\"fYlowNDC\":0,\"fXUpNDC\":1,\"fYUpNDC\":1,\"fWNDC\":1,\"fHNDC\":1,\"fAbsXlowNDC\":0,\"fAbsYlowNDC\":0,\"fAbsWNDC\":1,\"fAbsHNDC\":1,\"fUxmin\":50,\"fUymin\":0.930725890029236,\"fUxmax\":1500,\"fUymax\":1.61858881943564,\"fTheta\":30,\"fPhi\":30,\"fAspectRatio\":0,\"fNumber\":0,\"fTickx\":0,\"fTicky\":0,\"fLogx\":0,\"fLogy\":0,\"fLogz\":0,\"fPadPaint\":0,\"fCrosshair\":0,\"fCrosshairPos\":0,\"fBorderSize\":2,\"fBorderMode\":0,\"fModified\":false,\"fGridx\":false,\"fGridy\":false,\"fAbsCoord\":false,\"fEditable\":true,\"fFixedAspectRatio\":false,\"fPrimitives\":{\"_typename\":\"TList\",\"name\":\"TList\",\"arr\":[{\"_typename\":\"TFrame\",\"fUniqueID\":0,\"fBits\":8,\"fLineColor\":1,\"fLineStyle\":1,\"fLineWidth\":1,\"fFillColor\":0,\"fFillStyle\":1001,\"fX1\":50,\"fY1\":0.930725890029236,\"fX2\":1500,\"fY2\":1.61858881943564,\"fBorderSize\":1,\"fBorderMode\":0},{\"_typename\":\"TH1D\",\"fUniqueID\":0,\"fBits\":8,\"fName\":\"ratio_mjj_zoom2\",\"fTitle\":\"mjj\",\"fLineColor\":602,\"fLineStyle\":1,\"fLineWidth\":1,\"fFillColor\":0,\"fFillStyle\":1001,\"fMarkerColor\":1,\"fMarkerStyle\":1,\"fMarkerSize\":1,\"fNcells\":202,\"fXaxis\":{\"_typename\":\"TAxis\",\"fUniqueID\":0,\"fBits\":0,\"fName\":\"xaxis\",\"fTitle\":\"\",\"fNdivisions\":510,\"fAxisColor\":1,\"fLabelColor\":1,\"fLabelFont\":42,\"fLabelOffset\":0.005,\"fLabelSize\":0.035,\"fTickLength\":0.03,\"fTitleOffset\":1,\"fTitleSize\":0.035,\"fTitleColor\":1,\"fTitleFont\":42,\"fNbins\":200,\"fXmin\":50,\"fXmax\":1500,\"fXbins\":[],\"fFirst\":0,\"fLast\":0,\"fBits2\":0,\"fTimeDisplay\":false,\"fTimeFormat\":\"\",\"fLabels\":null,\"fModLabs\":null},\"fYaxis\":{\"_typename\":\"TAxis\",\"fUniqueID\":0,\"fBits\":0,\"fName\":\"yaxis\",\"fTitle\":\"\",\"fNdivisions\":510,\"fAxisColor\":1,\"fLabelColor\":1,\"fLabelFont\":42,\"fLabelOffset\":0.005,\"fLabelSize\":0.035,\"fTickLength\":0.03,\"fTitleOffset\":0,\"fTitleSize\":0.035,\"fTitleColor\":1,\"fTitleFont\":42,\"fNbins\":1,\"fXmin\":0,\"fXmax\":1,\"fXbins\":[],\"fFirst\":0,\"fLast\":0,\"fBits2\":0,\"fTimeDisplay\":false,\"fTimeFormat\":\"\",\"fLabels\":null,\"fModLabs\":null},\"fZaxis\":{\"_typename\":\"TAxis\",\"fUniqueID\":0,\"fBits\":0,\"fName\":\"zaxis\",\"fTitle\":\"\",\"fNdivisions\":510,\"fAxisColor\":1,\"fLabelColor\":1,\"fLabelFont\":42,\"fLabelOffset\":0.005,\"fLabelSize\":0.035,\"fTickLength\":0.03,\"fTitleOffset\":1,\"fTitleSize\":0.035,\"fTitleColor\":1,\"fTitleFont\":42,\"fNbins\":1,\"fXmin\":0,\"fXmax\":1,\"fXbins\":[],\"fFirst\":0,\"fLast\":0,\"fBits2\":0,\"fTimeDisplay\":false,\"fTimeFormat\":\"\",\"fLabels\":null,\"fModLabs\":null},\"fBarOffset\":0,\"fBarWidth\":1000,\"fEntries\":191794.223252065,\"fTsumw\":261.336571685479,\"fTsumw2\":0.35609416458055,\"fTsumwx\":208351.840188074,\"fTsumwx2\":210888437.061932,\"fMaximum\":-1111,\"fMinimum\":-1111,\"fNormFactor\":0,\"fContour\":[],\"fSumw2\":[0.0212211958368592,0.00544512206392547,0.00363052302678175,0.0015031985428695,5.58860673454393e-4,2.86385915323476e-4,1.96645297276491e-4,1.27865723707518e-4,9.32173033479911e-5,7.09110125091217e-5,5.8830803238709e-5,5.06289835384194e-5,4.7638216696221e-5,4.68793449589881e-5,4.96760764081459e-5,5.35008600323675e-5,5.54852127528183e-5,5.62360960239882e-5,5.89673596233384e-5,6.0707585082298e-5,6.27154032663414e-5,6.7739281121707e-5,7.30650938633494e-5,7.43422708548229e-5,7.8077509436117e-5,8.12904836362221e-5,8.77464863788124e-5,9.038768409637e-5,9.72205821423885e-5,1.05255616309829e-4,1.09380429957658e-4,1.14711713254904e-4,1.20450043064502e-4,1.27257442680335e-4,1.32489899049797e-4,1.36661047883786e-4,1.41898651886607e-4,1.53688287692219e-4,1.68292887727835e-4,1.68907738936451e-4,1.74685320070601e-4,1.88240619388708e-4,1.85548415550189e-4,1.9716461585131e-4,2.15217185450061e-4,2.24014922468898e-4,2.25112842421604e-4,2.31478612362225e-4,2.42245218759907e-4,2.51044660743422e-4,2.65753447360636e-4,2.64988602963744e-4,2.78137236358111e-4,3.01264104101711e-4,3.17056413067847e-4,3.28089698181813e-4,3.48014778437486e-4,3.07232174474312e-4,3.5100199323306e-4,3.58420056322607e-4,3.58590532711198e-4,3.86764369401453e-4,4.07228021303071e-4,4.27954382586565e-4,4.29779495511184e-4,4.41205292874994e-4,4.40116411714898e-4,4.4635790154385e-4,4.64729542572802e-4,5.41956268340159e-4,5.1274572900773e-4,5.32209889543684e-4,5.20647183573062e-4,5.64012704140254e-4,5.64621274578788e-4,5.44858952817534e-4,6.52423744320566e-4,6.77731064780197e-4,6.89166209314056e-4,6.49555897912253e-4,6.89416022195652e-4,6.41649663856139e-4,7.50612335511307e-4,7.19901748079377e-4,7.65025815939638e-4,7.84844648836418e-4,7.89556718432852e-4,8.34552465997757e-4,8.10538437597891e-4,8.82927558768309e-4,9.32572035285895e-4,8.8410919611759e-4,9.73126327261156e-4,8.51450817988909e-4,9.23866768529106e-4,0.0010028515448951,0.00105396061409842,0.0010310755861746,0.0010974409765615,0.00109389494402942,0.00110607050923587,0.00109864530782357,0.0011280932444301,0.00118955532136236,0.00115287532204165,0.00114631373371289,0.00126290811610424,0.00124295153623881,0.00136696561779247,0.00140459583459585,0.00127731393506104,0.00130037116143184,0.00158865895791642,0.00150657685536966,0.00156485002880002,0.00146719670121003,0.00163527871382156,0.00149255871870589,0.00161219500869847,0.00145763937971701,0.00179437379596658,0.00182948301643694,0.00174174520758795,0.00190364677414012,0.00167019247956016,0.00205030354744452,0.00204047962009916,0.00187524730065695,0.00190702058484767,0.00206673979229016,0.00235160530844827,0.00199511186831456,0.00187860707606033,0.0022677114006298,0.00220134248585039,0.00219642013195626,0.00265305406574635,0.00199825466599904,0.00238523302293866,0.00226828216132418,0.00260352434831493,0.00247243581483049,0.00282080583306006,0.00304652277795905,0.00298812559705922,0.00252000318191127,0.00252810357512602,0.00299436645972361,0.00261673607907003,0.00299819534162779,0.00266858317172161,0.00259883969274053,0.00275572174037887,0.00288479360275133,0.00332237790831325,0.00301089835188815,0.00304788244461578,0.00336695655400263,0.00306684455517933,0.00353847049224133,0.00313325988979329,0.00324521920346332,0.00369315375848857,0.00366495350037941,0.00369960440753538,0.00352644083491061,0.00372835834529128,0.00402403995489668,0.00343779250653948,0.00425625286515352,0.00374143811563927,0.00356997836154279,0.00408929608042765,0.00425409215112597,0.00395242980538689,0.00386566163090132,0.00379381095848963,0.00413032026039353,0.00473484242969987,0.00411177701958675,0.00404524583475635,0.00500024652972549,0.00451480940053938,0.00531388165275881,0.00451007382070073,0.0046745596244871,0.00479601903722787,0.00477143432641471,0.00519365373004837,0.00499793375876784,0.00514240503848483,0.00579144234192517,0.00526537588733364,0.00495669506078794,0.00581841999998006,0.00614552485597596,0.00690078024192135,0.00644627995307214,0.00536212203781184,0.00620345590392599,8.28968311690467e-7,7.06800134546044e-5],\"fOption\":\"\",\"fFunctions\":{\"_typename\":\"TList\",\"name\":\"TList\",\"arr\":[{\"_typename\":\"TF1\",\"fUniqueID\":0,\"fBits\":1024,\"fName\":\"fit_mjj\",\"fTitle\":\"[5]*TMath::Exp(-[6]*(x))  + [0]\\/(1 + [1]*TMath::Exp(-[2]*(x-[3]))) + [4] \",\"fLineColor\":2,\"fLineStyle\":1,\"fLineWidth\":2,\"fFillColor\":19,\"fFillStyle\":0,\"fMarkerColor\":1,\"fMarkerStyle\":1,\"fMarkerSize\":1,\"fXmin\":80,\"fXmax\":1500,\"fNpar\":7,\"fNdim\":1,\"fNpx\":100,\"fType\":0,\"fNpfits\":196,\"fNDF\":189,\"fChisquare\":368.299476719982,\"fMinimum\":-1111,\"fMaximum\":-1111,\"fParErrors\":[1.36353290177863,825.28957818268,2.38273353068748,1997.77725960202,0.211848674676377,0.986766435227883,0.0104834410840506],\"fParMin\":[0,0,0,0,0,0,0],\"fParMax\":[0,0,0,0,0,0,0],\"fSave\":[1.18735342138705,1.19393625049878,1.18531208149767,1.15624661868081,1.13139337958933,1.12680113155568,1.13294716305631,1.14217626357421,1.15191282941826,1.16146883159632,1.17068024815367,1.17951805487183,1.18798699224123,1.19609983030449,1.20387087946922,1.21131437176537,1.2184440717674,1.22527319722244,1.23181441708625,1.2380798683426,1.24408117683547,1.24982947841525,1.2553354394945,1.26060927681317,1.26566077638965,1.27049931167777,1.27513386095957,1.27957302400508,1.28382503802981,1.28789779297962,1.29179884617103,1.29553543631451,1.29911449694642,1.30254266929473,1.30582631460237,1.308971525931,1.31198413946715,1.31486974535176,1.31763369805308,1.32028112630234,1.32281694261049,1.32524585238376,1.32757236265494,1.32980079044647,1.33193527078107,1.33397976435456,1.33593806488528,1.33781380615361,1.33961046874472,1.34133138650711,1.34297975273878,1.34455862611268,1.34607093635231,1.34751948966804,1.34890697396429,1.35023596382707,1.35150892530142,1.35272822046729,1.35389611182258,1.35501476648139,1.35608626019525,1.35711258120489,1.35809563392949,1.35903724250056,1.35993915414675,1.36080304243589,1.36163051038055,1.36242309341245,1.36318226223163,1.36390942553544,1.36460593263247,1.36527307594631,1.36591209341378,1.36652417078193,1.36711044380839,1.36767200036877,1.36820988247536,1.36872508821064,1.3692185735793,1.36969125428218,1.37014400741543,1.37057767309803,1.37099305603071,1.3713909269891,1.37177202425401,1.37213705498133,1.37248669651422,1.37282159764001,1.37314237979403,1.37344963821274,1.37374394303826,1.37402584037631,1.37429585330952,1.37455448286808,1.37480220895945,1.37503949125884,1.37526677006219,1.37548446710315,1.37569298633567,1.37589271468357,1.37608402275847,80,1500],\"fNormalized\":false,\"fNormIntegral\":0,\"fFormula\":{\"_typename\":\"TFormula\",\"fUniqueID\":0,\"fBits\":1024,\"fName\":\"fit_mjj\",\"fTitle\":\"[5]*TMath::Exp(-[6]*(x))  + [0]\\/(1 + [1]*TMath::Exp(-[2]*(x-[3]))) + [4] \",\"fClingParameters\":[0.132166727943788,4.18487026448433,-0.0969259913743215,135.270702758313,1.38043053023244,-0.411310182085751,0.00303331665847836],\"fAllParametersSetted\":true,\"fParams\":[{\"$pair\":\"pair<TString,int,TFormulaParamOrder>\",\"first\":\"p0\",\"second\":0},{\"$pair\":\"pair<TString,int,TFormulaParamOrder>\",\"first\":\"p1\",\"second\":1},{\"$pair\":\"pair<TString,int,TFormulaParamOrder>\",\"first\":\"p2\",\"second\":2},{\"$pair\":\"pair<TString,int,TFormulaParamOrder>\",\"first\":\"p3\",\"second\":3},{\"$pair\":\"pair<TString,int,TFormulaParamOrder>\",\"first\":\"p4\",\"second\":4},{\"$pair\":\"pair<TString,int,TFormulaParamOrder>\",\"first\":\"p5\",\"second\":5},{\"$pair\":\"pair<TString,int,TFormulaParamOrder>\",\"first\":\"p6\",\"second\":6}],\"fFormula\":\"[p5]*TMath::Exp(-[p6]*(x))+[p0]\\/(1+[p1]*TMath::Exp(-[p2]*(x-[p3])))+[p4]\",\"fNdim\":1,\"fLinearParts\":[],\"fVectorized\":false},\"fParams\":null,\"fComposition_ptr\":null},{\"_typename\":\"TPaveStats\",\"fUniqueID\":0,\"fBits\":9,\"fLineColor\":1,\"fLineStyle\":1,\"fLineWidth\":1,\"fFillColor\":0,\"fFillStyle\":1001,\"fX1\":1282.50003673136,\"fY1\":1.51111024536429,\"fX2\":1645.00004753471,\"fY2\":1.64868283022057,\"fX1NDC\":0.780000016093254,\"fY1NDC\":0.775000005960464,\"fX2NDC\":0.980000019073486,\"fY2NDC\":0.935000002384186,\"fBorderSize\":1,\"fInit\":1,\"fShadowColor\":1,\"fCornerRadius\":0,\"fOption\":\"brNDC\",\"fName\":\"stats\",\"fTextAngle\":0,\"fTextSize\":0,\"fTextAlign\":12,\"fTextColor\":1,\"fTextFont\":42,\"fLabel\":\"\",\"fLongest\":18,\"fMargin\":0.05,\"fLines\":{\"_typename\":\"TList\",\"name\":\"TList\",\"arr\":[{\"_typename\":\"TLatex\",\"fUniqueID\":0,\"fBits\":0,\"fName\":\"\",\"fTitle\":\"ratio_mjj_zoom2\",\"fTextAngle\":0,\"fTextSize\":0.0368,\"fTextAlign\":0,\"fTextColor\":0,\"fTextFont\":0,\"fX\":0,\"fY\":0,\"fLineColor\":1,\"fLineStyle\":1,\"fLineWidth\":2,\"fLimitFactorSize\":3,\"fOriginSize\":0.0368000008165836},{\"_typename\":\"TLatex\",\"fUniqueID\":0,\"fBits\":0,\"fName\":\"\",\"fTitle\":\"Entries = 191794 \",\"fTextAngle\":0,\"fTextSize\":0,\"fTextAlign\":0,\"fTextColor\":0,\"fTextFont\":0,\"fX\":0,\"fY\":0,\"fLineColor\":1,\"fLineStyle\":1,\"fLineWidth\":2,\"fLimitFactorSize\":3,\"fOriginSize\":0.04},{\"_typename\":\"TLatex\",\"fUniqueID\":0,\"fBits\":0,\"fName\":\"\",\"fTitle\":\"Mean  =  797.3\",\"fTextAngle\":0,\"fTextSize\":0,\"fTextAlign\":0,\"fTextColor\":0,\"fTextFont\":0,\"fX\":0,\"fY\":0,\"fLineColor\":1,\"fLineStyle\":1,\"fLineWidth\":2,\"fLimitFactorSize\":3,\"fOriginSize\":0.04},{\"_typename\":\"TLatex\",\"fUniqueID\":0,\"fBits\":0,\"fName\":\"\",\"fTitle\":\"Std Dev   =  413.9\",\"fTextAngle\":0,\"fTextSize\":0,\"fTextAlign\":0,\"fTextColor\":0,\"fTextFont\":0,\"fX\":0,\"fY\":0,\"fLineColor\":1,\"fLineStyle\":1,\"fLineWidth\":2,\"fLimitFactorSize\":3,\"fOriginSize\":0.04}],\"opt\":[\"\",\"\",\"\",\"\"]},\"fOptFit\":0,\"fOptStat\":1111,\"fFitFormat\":\"5.4g\",\"fStatFormat\":\"6.4g\",\"fParent\":{\"$ref\":3}}],\"opt\":[\"\",\"brNDC\"]},\"fBufferSize\":0,\"fBuffer\":[],\"fBinStatErrOpt\":0,\"fStatOverflows\":2,\"fArray\":[1.08934980172619,1.16650718172151,1.02217530941255,1.12409128123639,1.21767146893428,1.18645846577546,1.20277894098746,1.18130652923207,1.1941571721839,1.18277985630748,1.16495294198725,1.14300500455703,1.13917742159112,1.12854911272432,1.12865353731015,1.12959546297805,1.13580735967243,1.12805835415104,1.1371980930271,1.13485923535177,1.1388859983886,1.15360121904634,1.16695720295525,1.15577745970809,1.16302548078541,1.16018944800248,1.17461915085247,1.17321731658951,1.18348305388237,1.20530312176988,1.19899078065018,1.20211925790884,1.20436403224952,1.2185052545809,1.21177431879135,1.20608219896716,1.20976494582595,1.23090290901184,1.25618519132342,1.23902161166096,1.23707141428482,1.25303881679681,1.22686139584238,1.23686746624841,1.27102898349587,1.27662011801382,1.25524590553876,1.25107201134214,1.26345136925818,1.25504975098928,1.27319724745005,1.24736826708799,1.26077144520108,1.29247346336057,1.29601680427254,1.29871016973194,1.31723170044322,1.22131012668583,1.2855290408549,1.27625500746597,1.26624874990908,1.28431580530801,1.29017429582143,1.29850836967059,1.2925490571365,1.29759002413711,1.27793561844356,1.26458424513883,1.28259502585666,1.34022140356462,1.30167770343443,1.31218358221684,1.28120094666987,1.2938043895554,1.2944584818796,1.26334610421385,1.35265626375499,1.36060346451919,1.34524507511829,1.30846786638255,1.31719263293931,1.27019707167648,1.33907753875654,1.3065122360456,1.32449039337385,1.32069862011044,1.31742612627608,1.33198694172315,1.31066780127392,1.35606470377599,1.36818594931398,1.31403893706801,1.35768110428726,1.27532945147399,1.30524509296708,1.33632540999387,1.35507929614094,1.31980217241311,1.34522546666606,1.35006325335196,1.34727719556772,1.3082256957753,1.32357632234376,1.34752159968698,1.30731179704694,1.30124679920971,1.3446731642145,1.30919804610829,1.36504698835983,1.36449747325135,1.29917716478617,1.30034239700476,1.40885949536119,1.37836730431479,1.38555702847127,1.32049388681231,1.36983721907229,1.31711183878234,1.34339076108689,1.26404099886178,1.39972655353316,1.37906518339859,1.33976913950712,1.39982376183675,1.31796487216352,1.44648377731649,1.39100257493185,1.33028110208774,1.35195037148156,1.38492375496412,1.44965759374379,1.33051225932273,1.28578342746414,1.39393058045357,1.3433598715819,1.35524072390436,1.46498566015136,1.28000586538087,1.37361419351328,1.36110261740299,1.42121062490739,1.36221015812292,1.45565976029021,1.46967954068809,1.45536687404442,1.33924633383577,1.33065507640482,1.42582272603464,1.33109724014213,1.41579253554124,1.32894579644385,1.29248270525229,1.33046220976885,1.35977103502444,1.42219797770511,1.35675541760041,1.32763499767904,1.40281186009845,1.3426888585892,1.3929752672619,1.33142242085895,1.33230269008528,1.42207481076903,1.38713463170878,1.41571081588758,1.32783671205997,1.36100536120814,1.39782638981954,1.28534508824731,1.43561028566508,1.33193780201837,1.27406902265101,1.37898305571909,1.38363640754539,1.33385133536233,1.33621395808013,1.3062923041284,1.3580695819397,1.40497932611387,1.32078226371053,1.30138832847469,1.44792825481063,1.35649638951472,1.45406453043933,1.33586648082295,1.33334780901325,1.33332121910126,1.30336282360532,1.40169617439978,1.3576257747124,1.37432409935084,1.42639741830967,1.37757003317844,1.32578773079685,1.39298319161553,1.4219296494943,1.50276250684397,1.42626227274729,1.34868816060735,1.42736678237568,1.38853387717762,1.38846303473076]},{\"_typename\":\"TPaveText\",\"fUniqueID\":0,\"fBits\":9,\"fLineColor\":1,\"fLineStyle\":1,\"fLineWidth\":1,\"fFillColor\":0,\"fFillStyle\":0,\"fX1\":712.604165736896,\"fY1\":1.64780843022863,\"fX2\":837.395834263104,\"fY2\":1.70027255274479,\"fX1NDC\":0.465574712643678,\"fY1NDC\":0.933983055615829,\"fX2NDC\":0.534425287356322,\"fY2NDC\":0.995000004768372,\"fBorderSize\":0,\"fInit\":1,\"fShadowColor\":1,\"fCornerRadius\":0,\"fOption\":\"blNDC\",\"fName\":\"title\",\"fTextAngle\":0,\"fTextSize\":0,\"fTextAlign\":22,\"fTextColor\":1,\"fTextFont\":42,\"fLabel\":\"\",\"fLongest\":3,\"fMargin\":0.05,\"fLines\":{\"_typename\":\"TList\",\"name\":\"TList\",\"arr\":[{\"_typename\":\"TLatex\",\"fUniqueID\":0,\"fBits\":0,\"fName\":\"\",\"fTitle\":\"mjj\",\"fTextAngle\":0,\"fTextSize\":0,\"fTextAlign\":0,\"fTextColor\":0,\"fTextFont\":0,\"fX\":0,\"fY\":0,\"fLineColor\":1,\"fLineStyle\":1,\"fLineWidth\":2,\"fLimitFactorSize\":3,\"fOriginSize\":0.0518644079566002}],\"opt\":[\"\"]}},{\"_typename\":\"TStyle\",\"fUniqueID\":0,\"fBits\":0,\"fName\":\"Modern\",\"fTitle\":\"Modern Style\",\"fLineColor\":1,\"fLineStyle\":1,\"fLineWidth\":1,\"fFillColor\":19,\"fFillStyle\":1001,\"fMarkerColor\":1,\"fMarkerStyle\":1,\"fMarkerSize\":1,\"fTextAngle\":0,\"fTextSize\":0.05,\"fTextAlign\":11,\"fTextColor\":1,\"fTextFont\":62,\"fXaxis\":{\"_typename\":\"TAttAxis\",\"fNdivisions\":510,\"fAxisColor\":1,\"fLabelColor\":1,\"fLabelFont\":42,\"fLabelOffset\":0.005,\"fLabelSize\":0.035,\"fTickLength\":0.03,\"fTitleOffset\":1,\"fTitleSize\":0.035,\"fTitleColor\":1,\"fTitleFont\":42},\"fYaxis\":{\"_typename\":\"TAttAxis\",\"fNdivisions\":510,\"fAxisColor\":1,\"fLabelColor\":1,\"fLabelFont\":42,\"fLabelOffset\":0.005,\"fLabelSize\":0.035,\"fTickLength\":0.03,\"fTitleOffset\":0,\"fTitleSize\":0.035,\"fTitleColor\":1,\"fTitleFont\":42},\"fZaxis\":{\"_typename\":\"TAttAxis\",\"fNdivisions\":510,\"fAxisColor\":1,\"fLabelColor\":1,\"fLabelFont\":42,\"fLabelOffset\":0.005,\"fLabelSize\":0.035,\"fTickLength\":0.03,\"fTitleOffset\":1,\"fTitleSize\":0.035,\"fTitleColor\":1,\"fTitleFont\":42},\"fBarWidth\":1,\"fBarOffset\":0,\"fColorModelPS\":0,\"fDrawBorder\":0,\"fOptLogx\":0,\"fOptLogy\":0,\"fOptLogz\":0,\"fOptDate\":0,\"fOptStat\":1111,\"fOptTitle\":1,\"fOptFile\":0,\"fOptFit\":0,\"fShowEventStatus\":0,\"fShowEditor\":0,\"fShowToolBar\":0,\"fNumberContours\":20,\"fAttDate\":{\"_typename\":\"TAttText\",\"fTextAngle\":0,\"fTextSize\":0.025,\"fTextAlign\":11,\"fTextColor\":1,\"fTextFont\":62},\"fDateX\":0.01,\"fDateY\":0.01,\"fEndErrorSize\":2,\"fErrorX\":0.5,\"fFuncColor\":2,\"fFuncStyle\":1,\"fFuncWidth\":2,\"fGridColor\":0,\"fGridStyle\":3,\"fGridWidth\":1,\"fLegendBorderSize\":1,\"fLegendFillColor\":0,\"fLegendFont\":42,\"fLegendTextSize\":0,\"fHatchesLineWidth\":1,\"fHatchesSpacing\":1,\"fFrameFillColor\":0,\"fFrameLineColor\":1,\"fFrameFillStyle\":1001,\"fFrameLineStyle\":1,\"fFrameLineWidth\":1,\"fFrameBorderSize\":1,\"fFrameBorderMode\":0,\"fHistFillColor\":0,\"fHistLineColor\":602,\"fHistFillStyle\":1001,\"fHistLineStyle\":1,\"fHistLineWidth\":1,\"fHistMinimumZero\":false,\"fHistTopMargin\":0.05,\"fCanvasPreferGL\":false,\"fCanvasColor\":0,\"fCanvasBorderSize\":2,\"fCanvasBorderMode\":0,\"fCanvasDefH\":500,\"fCanvasDefW\":700,\"fCanvasDefX\":10,\"fCanvasDefY\":10,\"fPadColor\":0,\"fPadBorderSize\":2,\"fPadBorderMode\":0,\"fPadBottomMargin\":0.1,\"fPadTopMargin\":0.1,\"fPadLeftMargin\":0.1,\"fPadRightMargin\":0.1,\"fPadGridX\":false,\"fPadGridY\":false,\"fPadTickX\":0,\"fPadTickY\":0,\"fPaperSizeX\":20,\"fPaperSizeY\":26,\"fScreenFactor\":1,\"fStatColor\":0,\"fStatTextColor\":1,\"fStatBorderSize\":1,\"fStatFont\":42,\"fStatFontSize\":0,\"fStatStyle\":1001,\"fStatFormat\":\"6.4g\",\"fStatX\":0.98,\"fStatY\":0.935,\"fStatW\":0.2,\"fStatH\":0.16,\"fStripDecimals\":true,\"fTitleAlign\":23,\"fTitleColor\":0,\"fTitleTextColor\":1,\"fTitleBorderSize\":0,\"fTitleFont\":42,\"fTitleFontSize\":0.05,\"fTitleStyle\":0,\"fTitleX\":0.5,\"fTitleY\":0.995,\"fTitleW\":0,\"fTitleH\":0,\"fLegoInnerR\":0.5,\"fLineStyle\":[\"\",\"  \",\" 12 12\",\" 4 8\",\" 12 16 4 16\",\" 20 12 4 12\",\" 20 12 4 12 4 12 4 12\",\" 20 20\",\" 20 12 4 12 4 12\",\" 80 20\",\" 80 40 4 40\",\"  \",\"  \",\"  \",\"  \",\"  \",\"  \",\"  \",\"  \",\"  \",\"  \",\"  \",\"  \",\"  \",\"  \",\"  \",\"  \",\"  \",\"  \",\"  \"],\"fHeaderPS\":\"\",\"fTitlePS\":\"\",\"fFitFormat\":\"5.4g\",\"fPaintTextFormat\":\"g\",\"fLineScalePS\":3,\"fJoinLinePS\":0,\"fCapLinePS\":0,\"fTimeOffset\":788918400,\"fImageScaling\":1}],\"opt\":[\"\",\"\",\"blNDC\",\"\"]},\"fExecs\":null,\"fName\":\"c1_n3\",\"fTitle\":\"c1_n3\",\"fNumPaletteColor\":0,\"fNextPaletteColor\":0,\"fDISPLAY\":\"$DISPLAY\",\"fDoubleBuffer\":0,\"fRetained\":true,\"fXsizeUser\":0,\"fYsizeUser\":0,\"fXsizeReal\":20,\"fYsizeReal\":14.28571,\"fWindowTopX\":0,\"fWindowTopY\":0,\"fWindowWidth\":0,\"fWindowHeight\":0,\"fCw\":696,\"fCh\":472,\"fCatt\":{\"_typename\":\"TAttCanvas\",\"fXBetween\":2,\"fYBetween\":2,\"fTitleFromTop\":1.2,\"fXdate\":0.2,\"fYdate\":0.3,\"fAdate\":1},\"kMoveOpaque\":true,\"kResizeOpaque\":true,\"fHighLightColor\":2,\"fBatch\":true,\"kShowEventStatus\":false,\"kAutoExec\":true,\"kMenuBar\":true});\n",
       "            Core.draw(\"root_plot_1617313791112\", obj, \"\");\n",
       "        }\n",
       "    );\n",
       "}\n",
       "</script>\n"
      ],
      "text/plain": [
       "<IPython.core.display.HTML object>"
      ]
     },
     "metadata": {},
     "output_type": "display_data"
    }
   ],
   "source": [
    "c = R.TCanvas()\n",
    "h.Draw()\n",
    "c.Draw()"
   ]
  },
  {
   "cell_type": "code",
   "execution_count": 13,
   "id": "clean-board",
   "metadata": {
    "ExecuteTime": {
     "end_time": "2021-04-01T21:50:13.254926Z",
     "start_time": "2021-04-01T21:50:13.146159Z"
    }
   },
   "outputs": [
    {
     "data": {
      "text/plain": [
       "530"
      ]
     },
     "execution_count": 13,
     "metadata": {},
     "output_type": "execute_result"
    }
   ],
   "source": [
    "func1.Write()"
   ]
  },
  {
   "cell_type": "code",
   "execution_count": 14,
   "id": "prescription-cocktail",
   "metadata": {
    "ExecuteTime": {
     "end_time": "2021-04-01T21:50:15.881735Z",
     "start_time": "2021-04-01T21:50:15.703028Z"
    }
   },
   "outputs": [
    {
     "data": {
      "text/plain": [
       "<cppyy.gbl.TFitResultPtr object at 0xb426c90>"
      ]
     },
     "execution_count": 14,
     "metadata": {},
     "output_type": "execute_result"
    },
    {
     "name": "stdout",
     "output_type": "stream",
     "text": [
      " FCN=1.36321 FROM MIGRAD    STATUS=CONVERGED    1301 CALLS        1302 TOTAL\n",
      "                     EDM=5.43937e-06    STRATEGY= 1      ERROR MATRIX ACCURATE \n",
      "  EXT PARAMETER                                   STEP         FIRST   \n",
      "  NO.   NAME      VALUE            ERROR          SIZE      DERIVATIVE \n",
      "   1  p0          -2.32000e-01   3.90948e+00   8.26309e-05   3.51695e-03\n",
      "   2  p1           1.34500e+00   1.24363e+02   1.18468e-02  -1.82825e-05\n",
      "   3  p2           8.41343e-02   2.11758e+00   7.20948e-04  -8.96573e-04\n",
      "   4  p3           1.36894e+02   1.15959e+03   1.05137e-01  -2.06739e-06\n",
      "   5  p4           1.69548e+00   3.88766e+00   8.13887e-05   3.28455e-03\n",
      "   6  p5          -7.27312e-01   4.36542e+00   6.59980e-04  -1.26601e-05\n",
      "   7  p6           6.24273e-03   2.30200e-02   4.34458e-06   3.91427e-02\n",
      "                               ERR DEF= 0.5\n"
     ]
    }
   ],
   "source": [
    "f.cd(\"/\")\n",
    "f.cd(\"njet2\")\n",
    "\n",
    "h = R.gDirectory.Get(\"ratio_mjj_zoom2\")\n",
    "\n",
    "#func1 = R.TF1(\"fit_mjj\", \"1 + [0]/(1 + [1]*TMath::Exp(-[2]*(x-[3])))\", 150, 1400)\n",
    "\n",
    "func1 = R.TF1(\"fit_mjj\", \"[5]*TMath::Exp(-[6]*(x))  + [0]/(1 + [1]*TMath::Exp(-[2]*(x-[3]))) + [4] \", 115, 1500)\n",
    "# #func1.SetLineColor(R.kRed)\n",
    "\n",
    "# func1.SetParameter(1,500)\n",
    "func1.SetParameter(0,1)\n",
    "# func1.SetParameter(1,1)\n",
    "# func1.SetParameter(2,)\n",
    "func1.SetParameter(3,200)\n",
    "func1.SetParameter(4,1.2)\n",
    "func1.SetParameter(5,10)\n",
    "func1.SetParameter(6,0.01)\n",
    "\n",
    "h.Fit(func1, \"RLS\")"
   ]
  },
  {
   "cell_type": "code",
   "execution_count": 15,
   "id": "cardiovascular-costume",
   "metadata": {
    "ExecuteTime": {
     "end_time": "2021-04-01T21:50:17.929105Z",
     "start_time": "2021-04-01T21:50:17.809805Z"
    }
   },
   "outputs": [
    {
     "data": {
      "text/html": [
       "\n",
       "<div id=\"root_plot_1617313817922\"\n",
       "     style=\"width: 696px; height: 472px\">\n",
       "</div>\n",
       "<script>\n",
       "if (typeof require !== 'undefined') {\n",
       "\n",
       "    // All requirements met (we are in jupyter notebooks or we loaded requirejs before).\n",
       "    display_root_plot_1617313817922();\n",
       "\n",
       "} else {\n",
       "\n",
       "    // We are in jupyterlab, we need to insert requirejs and configure it.\n",
       "    // Jupyterlab might be installed in a different base_url so we need to know it.\n",
       "    try {\n",
       "        var base_url = JSON.parse(document.getElementById('jupyter-config-data').innerHTML).baseUrl;\n",
       "    } catch(_) {\n",
       "        var base_url = '/';\n",
       "    }\n",
       "\n",
       "    // Try loading a local version of requirejs and fallback to cdn if not possible.\n",
       "    requirejs_load(base_url + 'static/components/requirejs/require.js', requirejs_success(base_url), function(){\n",
       "        requirejs_load('https://cdnjs.cloudflare.com/ajax/libs/require.js/2.2.0/require.min.js', requirejs_success(base_url), function(){\n",
       "            document.getElementById(\"root_plot_1617313817922\").innerHTML = \"Failed to load requireJs\";\n",
       "        });\n",
       "    });\n",
       "}\n",
       "\n",
       "function requirejs_load(src, on_load, on_error) {\n",
       "    var script = document.createElement('script');\n",
       "    script.src = src;\n",
       "    script.onload = on_load;\n",
       "    script.onerror = on_error;\n",
       "    document.head.appendChild(script);\n",
       "}\n",
       "\n",
       "function requirejs_success(base_url) {\n",
       "    return function() {\n",
       "        require.config({\n",
       "            baseUrl: base_url + 'static/'\n",
       "        });\n",
       "        display_root_plot_1617313817922();\n",
       "    }\n",
       "}\n",
       "\n",
       "function display_root_plot_1617313817922() {\n",
       "    require(['scripts/JSRootCore'],\n",
       "        function(Core) {\n",
       "            var obj = Core.JSONR_unref({\"_typename\":\"TCanvas\",\"fUniqueID\":0,\"fBits\":3342344,\"fLineColor\":1,\"fLineStyle\":1,\"fLineWidth\":1,\"fFillColor\":0,\"fFillStyle\":1001,\"fLeftMargin\":0.1,\"fRightMargin\":0.1,\"fBottomMargin\":0.1,\"fTopMargin\":0.1,\"fXfile\":2,\"fYfile\":2,\"fAfile\":1,\"fXstat\":0.99,\"fYstat\":0.99,\"fAstat\":2,\"fFrameFillColor\":0,\"fFrameLineColor\":1,\"fFrameFillStyle\":1001,\"fFrameLineStyle\":1,\"fFrameLineWidth\":1,\"fFrameBorderSize\":1,\"fFrameBorderMode\":0,\"fX1\":-131.250013504178,\"fY1\":0.547512450783772,\"fX2\":1681.25001350418,\"fY2\":2.80326217366653,\"fXtoAbsPixelk\":50.4000544345858,\"fXtoPixelk\":50.4000544345858,\"fXtoPixel\":0.383999994277954,\"fYtoAbsPixelk\":586.563236752687,\"fYtoPixelk\":586.563236752687,\"fYtoPixel\":-209.243071255619,\"fUtoAbsPixelk\":5e-5,\"fUtoPixelk\":5e-5,\"fUtoPixel\":696,\"fVtoAbsPixelk\":472.00005,\"fVtoPixelk\":472,\"fVtoPixel\":-472,\"fAbsPixeltoXk\":-131.250013504178,\"fPixeltoXk\":-131.250013504178,\"fPixeltoX\":2.60416670547178,\"fAbsPixeltoYk\":2.80326217366653,\"fPixeltoYk\":0.547512450783772,\"fPixeltoY\":-0.00477913076881941,\"fXlowNDC\":0,\"fYlowNDC\":0,\"fXUpNDC\":1,\"fYUpNDC\":1,\"fWNDC\":1,\"fHNDC\":1,\"fAbsXlowNDC\":0,\"fAbsYlowNDC\":0,\"fAbsWNDC\":1,\"fAbsHNDC\":1,\"fUxmin\":50,\"fUymin\":0.773087436517365,\"fUxmax\":1500,\"fUymax\":2.57768718793294,\"fTheta\":30,\"fPhi\":30,\"fAspectRatio\":0,\"fNumber\":0,\"fTickx\":0,\"fTicky\":0,\"fLogx\":0,\"fLogy\":0,\"fLogz\":0,\"fPadPaint\":0,\"fCrosshair\":0,\"fCrosshairPos\":0,\"fBorderSize\":2,\"fBorderMode\":0,\"fModified\":false,\"fGridx\":false,\"fGridy\":false,\"fAbsCoord\":false,\"fEditable\":true,\"fFixedAspectRatio\":false,\"fPrimitives\":{\"_typename\":\"TList\",\"name\":\"TList\",\"arr\":[{\"_typename\":\"TFrame\",\"fUniqueID\":0,\"fBits\":8,\"fLineColor\":1,\"fLineStyle\":1,\"fLineWidth\":1,\"fFillColor\":0,\"fFillStyle\":1001,\"fX1\":50,\"fY1\":0.773087436517365,\"fX2\":1500,\"fY2\":2.57768718793294,\"fBorderSize\":1,\"fBorderMode\":0},{\"_typename\":\"TH1D\",\"fUniqueID\":0,\"fBits\":8,\"fName\":\"ratio_mjj_zoom2\",\"fTitle\":\"mjj\",\"fLineColor\":602,\"fLineStyle\":1,\"fLineWidth\":1,\"fFillColor\":0,\"fFillStyle\":1001,\"fMarkerColor\":1,\"fMarkerStyle\":1,\"fMarkerSize\":1,\"fNcells\":202,\"fXaxis\":{\"_typename\":\"TAxis\",\"fUniqueID\":0,\"fBits\":0,\"fName\":\"xaxis\",\"fTitle\":\"\",\"fNdivisions\":510,\"fAxisColor\":1,\"fLabelColor\":1,\"fLabelFont\":42,\"fLabelOffset\":0.005,\"fLabelSize\":0.035,\"fTickLength\":0.03,\"fTitleOffset\":1,\"fTitleSize\":0.035,\"fTitleColor\":1,\"fTitleFont\":42,\"fNbins\":200,\"fXmin\":50,\"fXmax\":1500,\"fXbins\":[],\"fFirst\":0,\"fLast\":0,\"fBits2\":0,\"fTimeDisplay\":false,\"fTimeFormat\":\"\",\"fLabels\":null,\"fModLabs\":null},\"fYaxis\":{\"_typename\":\"TAxis\",\"fUniqueID\":0,\"fBits\":0,\"fName\":\"yaxis\",\"fTitle\":\"\",\"fNdivisions\":510,\"fAxisColor\":1,\"fLabelColor\":1,\"fLabelFont\":42,\"fLabelOffset\":0.005,\"fLabelSize\":0.035,\"fTickLength\":0.03,\"fTitleOffset\":0,\"fTitleSize\":0.035,\"fTitleColor\":1,\"fTitleFont\":42,\"fNbins\":1,\"fXmin\":0,\"fXmax\":1,\"fXbins\":[],\"fFirst\":0,\"fLast\":0,\"fBits2\":0,\"fTimeDisplay\":false,\"fTimeFormat\":\"\",\"fLabels\":null,\"fModLabs\":null},\"fZaxis\":{\"_typename\":\"TAxis\",\"fUniqueID\":0,\"fBits\":0,\"fName\":\"zaxis\",\"fTitle\":\"\",\"fNdivisions\":510,\"fAxisColor\":1,\"fLabelColor\":1,\"fLabelFont\":42,\"fLabelOffset\":0.005,\"fLabelSize\":0.035,\"fTickLength\":0.03,\"fTitleOffset\":1,\"fTitleSize\":0.035,\"fTitleColor\":1,\"fTitleFont\":42,\"fNbins\":1,\"fXmin\":0,\"fXmax\":1,\"fXbins\":[],\"fFirst\":0,\"fLast\":0,\"fBits2\":0,\"fTimeDisplay\":false,\"fTimeFormat\":\"\",\"fLabels\":null,\"fModLabs\":null},\"fBarOffset\":0,\"fBarWidth\":1000,\"fEntries\":19545.8346045644,\"fTsumw\":284.2874674332,\"fTsumw2\":4.13486380984263,\"fTsumwx\":224691.95401058,\"fTsumwx2\":226323914.257701,\"fMaximum\":-1111,\"fMinimum\":-1111,\"fNormFactor\":0,\"fContour\":[],\"fSumw2\":[3.71284202978253e-4,8.34036659235641e-5,5.2068752680091e-4,3.99402886270927e-4,2.46662210639401e-4,2.14235642179878e-4,2.06686212795999e-4,1.87676758386554e-4,1.68238523326187e-4,1.61126216083065e-4,1.48937195045959e-4,1.51130658757429e-4,1.5527312352635e-4,1.73332520420818e-4,1.93827617852746e-4,2.31187406579373e-4,2.38755432681689e-4,2.70136778534421e-4,2.99657807793149e-4,3.18370900267535e-4,3.31735485911609e-4,3.58298028540883e-4,4.03333847645361e-4,4.02599118331511e-4,4.74229557962916e-4,5.01243070564094e-4,4.99856368191639e-4,5.54716359248616e-4,6.29023033751174e-4,6.62941910022635e-4,7.09621514236109e-4,7.40462038753283e-4,7.81554081886099e-4,8.11587845993006e-4,9.35231508995377e-4,9.39878316348743e-4,0.00103172208718397,0.00102332098311734,0.00109148157494452,0.00137904080121414,0.00135932365827817,0.0012956869390393,0.00151134275637659,0.00141248062717194,0.00162314886970304,0.00163295611218263,0.00184733443467144,0.00211103352825513,0.00187028870267686,0.00212437166705727,0.00210366972351654,0.00215395545480717,0.00217002845180189,0.002621884726696,0.00270941665693377,0.00282080980669046,0.00260459999197234,0.00258584524600169,0.00291322789896879,0.00319383488805442,0.00326960100585673,0.00338493712173058,0.00377579278241598,0.00398530721383474,0.00348115420251595,0.00413250741934558,0.00501126514805275,0.00421125291637115,0.00435890558523491,0.00364068145616605,0.00469320663451419,0.00506935066979199,0.00499810144824429,0.00469662618267175,0.0054767786004268,0.00507992567567674,0.00579373400972284,0.00562397114804542,0.00733408930385154,0.00576155994351899,0.00840039410075538,0.00717944156566534,0.00860847712340904,0.00731606869040567,0.00788202107202047,0.00701630523385433,0.0059870689123814,0.00561430380892033,0.00733111307688938,0.00796126116535308,0.00818589806074792,0.0122499861814353,0.0108997828848816,0.00851564180275768,0.0103660523047111,0.00883044338518383,0.0132396563673326,0.0088483509360148,0.00994022816993462,0.0099463165404206,0.0142230881294091,0.0114442995752425,0.0131374253857262,0.0139075644235573,0.0120555380163172,0.011496248794213,0.0128901424361878,0.0116105247097435,0.0141340146289279,0.0150975274133332,0.01453741388846,0.0168177210379822,0.0142656680480908,0.0176497504719033,0.015088446744352,0.0140601820155517,0.0132198107888317,0.0128535927548752,0.0155918428905181,0.0164553006705658,0.0120708040808104,0.0161954757118013,0.0230565844303501,0.0224347560729549,0.0229399091945893,0.0232760103186556,0.0237288202485155,0.0147287855647039,0.0193314614449258,0.0243855024873155,0.0236233223831379,0.0298754515291522,0.0206930062829191,0.0399787752693099,0.0260069655330635,0.0240848095459594,0.026142883754375,0.0154677471558639,0.0369887739039733,0.0293352687532481,0.0296056057165606,0.0195187012057094,0.0177976575553515,0.0345670069971937,0.0323294772354192,0.0255542607125841,0.028811726951007,0.0259339552844434,0.0245140502357323,0.0328007419382521,0.0416888845969596,0.0332912255280782,0.0298073213989628,0.0483074724794858,0.034242959289456,0.0413379084224867,0.0241417290565635,0.0326230782463508,0.0558078734119838,0.0365957744120123,0.0510626625808131,0.0299770763056761,0.025883773580185,0.0570390723146596,0.0669209496437572,0.0308218829635748,0.0764281878486334,0.0344679265501319,0.0389000031333652,0.0622463891216704,0.0372174039369059,0.0519035459709602,0.0486775888645547,0.03176083014461,0.0473000036315773,0.0886789962960057,0.0351953395948163,0.0353844621447953,0.0621115735365555,0.0426673161834849,0.0497675429001584,0.0671693120296185,0.054518644478153,0.0597589796327749,0.128053944300064,0.0351138110302989,0.0437571653046392,0.049545969065366,0.0665081298704458,0.156472263673236,0.0469949447581772,0.0783810846155609,0.0312034241068388,0.100623957222376,0.0923231176691211,0.0963903756772886,0.0798582412797634,0.0516676302125794,0.0853918149386193,0.073151128120151,1.53108380344995e-5,0.00112680217439204],\"fOption\":\"\",\"fFunctions\":{\"_typename\":\"TList\",\"name\":\"TList\",\"arr\":[{\"_typename\":\"TF1\",\"fUniqueID\":0,\"fBits\":1024,\"fName\":\"fit_mjj\",\"fTitle\":\"[5]*TMath::Exp(-[6]*(x))  + [0]\\/(1 + [1]*TMath::Exp(-[2]*(x-[3]))) + [4] \",\"fLineColor\":2,\"fLineStyle\":1,\"fLineWidth\":2,\"fFillColor\":19,\"fFillStyle\":0,\"fMarkerColor\":1,\"fMarkerStyle\":1,\"fMarkerSize\":1,\"fXmin\":115,\"fXmax\":1500,\"fNpar\":7,\"fNdim\":1,\"fNpx\":100,\"fType\":0,\"fNpfits\":191,\"fNDF\":184,\"fChisquare\":317.805608819836,\"fMinimum\":-1111,\"fMaximum\":-1111,\"fParErrors\":[3.90947504523572,124.363258950565,2.11758167696034,1159.59190645697,3.88765581635463,4.36542188186545,0.0230199979571926],\"fParMin\":[0,0,0,0,0,0,0],\"fParMax\":[0,0,0,0,0,0,0],\"fSave\":[1.316266542771,1.30648322944571,1.26995308956551,1.23726140917877,1.22968253109492,1.23890444136026,1.25410749732114,1.27036539063629,1.28602050817872,1.30061310481494,1.31407025092166,1.32643561192381,1.33778388899924,1.34819441924082,1.35774334515357,1.3665015556118,1.3745343962567,1.38190190261525,1.38865916944888,1.39485673801376,1.40054096637054,1.40575437373844,1.41053595779758,1.41492148616808,1.41894376388914,1.42263287878762,1.42601642653678,1.42911971707791,1.43196596394545,1.43457645791099,1.43697072624442,1.43916667878371,1.44118074190584,1.44302798140092,1.44472221516882,1.44627611658114,1.44770130928178,1.44900845413529,1.45020732897326,1.45130690173542,1.45231539755249,1.4532403602726,1.45408870889152,1.45486678930878,1.45558042179692,1.45623494453883,1.45683525355894,1.45738583934695,1.45789082044803,1.45835397427073,1.45877876534316,1.45916837122866,1.45952570629493,1.45985344351436,1.46015403445864,1.46042972763729,1.46068258531714,1.46091449894871,1.46112720331481,1.46132228950725,1.46150121682868,1.46166532370857,1.46181583771512,1.46195388473779,1.46208049740928,1.46219662282997,1.46230312965248,1.46240081457948,1.46249040832321,1.46257258107147,1.46264794750083,1.46271707137455,1.46278046975973,1.4628386168951,1.46289194773852,1.46294086122052,1.46298572322846,1.46302686934349,1.46306460735077,1.46309921954179,1.46313096482601,1.4631600806676,1.46318678486168,1.46321127716356,1.46323374078292,1.46325434375432,1.46327324019409,1.46329057145322,1.46330646717466,1.46332104626313,1.46333441777454,1.46334668173178,1.46335792987287,1.46336824633726,1.46337770829516,1.46338638652482,1.46339434594198,1.46340164608545,1.46340834156246,1.46341448245717,1.46342011470529,115,1500],\"fNormalized\":false,\"fNormIntegral\":0,\"fFormula\":{\"_typename\":\"TFormula\",\"fUniqueID\":0,\"fBits\":1024,\"fName\":\"fit_mjj\",\"fTitle\":\"[5]*TMath::Exp(-[6]*(x))  + [0]\\/(1 + [1]*TMath::Exp(-[2]*(x-[3]))) + [4] \",\"fClingParameters\":[-0.231999865363308,1.34500375180466,0.0841343425381605,136.894491823363,1.69548234600181,-0.727311693260945,0.00624272747968615],\"fAllParametersSetted\":true,\"fParams\":[{\"$pair\":\"pair<TString,int,TFormulaParamOrder>\",\"first\":\"p0\",\"second\":0},{\"$pair\":\"pair<TString,int,TFormulaParamOrder>\",\"first\":\"p1\",\"second\":1},{\"$pair\":\"pair<TString,int,TFormulaParamOrder>\",\"first\":\"p2\",\"second\":2},{\"$pair\":\"pair<TString,int,TFormulaParamOrder>\",\"first\":\"p3\",\"second\":3},{\"$pair\":\"pair<TString,int,TFormulaParamOrder>\",\"first\":\"p4\",\"second\":4},{\"$pair\":\"pair<TString,int,TFormulaParamOrder>\",\"first\":\"p5\",\"second\":5},{\"$pair\":\"pair<TString,int,TFormulaParamOrder>\",\"first\":\"p6\",\"second\":6}],\"fFormula\":\"[p5]*TMath::Exp(-[p6]*(x))+[p0]\\/(1+[p1]*TMath::Exp(-[p2]*(x-[p3])))+[p4]\",\"fNdim\":1,\"fLinearParts\":[],\"fVectorized\":false},\"fParams\":null,\"fComposition_ptr\":null},{\"_typename\":\"TPaveStats\",\"fUniqueID\":0,\"fBits\":9,\"fLineColor\":1,\"fLineStyle\":1,\"fLineWidth\":1,\"fFillColor\":0,\"fFillStyle\":1001,\"fX1\":1282.50003673136,\"fY1\":2.29571849946323,\"fX2\":1645.00004753471,\"fY2\":2.65663844705728,\"fX1NDC\":0.780000016093254,\"fY1NDC\":0.775000005960464,\"fX2NDC\":0.980000019073486,\"fY2NDC\":0.935000002384186,\"fBorderSize\":1,\"fInit\":1,\"fShadowColor\":1,\"fCornerRadius\":0,\"fOption\":\"brNDC\",\"fName\":\"stats\",\"fTextAngle\":0,\"fTextSize\":0,\"fTextAlign\":12,\"fTextColor\":1,\"fTextFont\":42,\"fLabel\":\"\",\"fLongest\":18,\"fMargin\":0.05,\"fLines\":{\"_typename\":\"TList\",\"name\":\"TList\",\"arr\":[{\"_typename\":\"TLatex\",\"fUniqueID\":0,\"fBits\":0,\"fName\":\"\",\"fTitle\":\"ratio_mjj_zoom2\",\"fTextAngle\":0,\"fTextSize\":0.0368,\"fTextAlign\":0,\"fTextColor\":0,\"fTextFont\":0,\"fX\":0,\"fY\":0,\"fLineColor\":1,\"fLineStyle\":1,\"fLineWidth\":2,\"fLimitFactorSize\":3,\"fOriginSize\":0.0368000008165836},{\"_typename\":\"TLatex\",\"fUniqueID\":0,\"fBits\":0,\"fName\":\"\",\"fTitle\":\"Entries = 19546  \",\"fTextAngle\":0,\"fTextSize\":0,\"fTextAlign\":0,\"fTextColor\":0,\"fTextFont\":0,\"fX\":0,\"fY\":0,\"fLineColor\":1,\"fLineStyle\":1,\"fLineWidth\":2,\"fLimitFactorSize\":3,\"fOriginSize\":0.04},{\"_typename\":\"TLatex\",\"fUniqueID\":0,\"fBits\":0,\"fName\":\"\",\"fTitle\":\"Mean  =  790.4\",\"fTextAngle\":0,\"fTextSize\":0,\"fTextAlign\":0,\"fTextColor\":0,\"fTextFont\":0,\"fX\":0,\"fY\":0,\"fLineColor\":1,\"fLineStyle\":1,\"fLineWidth\":2,\"fLimitFactorSize\":3,\"fOriginSize\":0.04},{\"_typename\":\"TLatex\",\"fUniqueID\":0,\"fBits\":0,\"fName\":\"\",\"fTitle\":\"Std Dev   =    414\",\"fTextAngle\":0,\"fTextSize\":0,\"fTextAlign\":0,\"fTextColor\":0,\"fTextFont\":0,\"fX\":0,\"fY\":0,\"fLineColor\":1,\"fLineStyle\":1,\"fLineWidth\":2,\"fLimitFactorSize\":3,\"fOriginSize\":0.04}],\"opt\":[\"\",\"\",\"\",\"\"]},\"fOptFit\":0,\"fOptStat\":1111,\"fFitFormat\":\"5.4g\",\"fStatFormat\":\"6.4g\",\"fParent\":{\"$ref\":3}}],\"opt\":[\"\",\"brNDC\"]},\"fBufferSize\":0,\"fBuffer\":[],\"fBinStatErrOpt\":0,\"fStatOverflows\":2,\"fArray\":[1.24121934748646,1.24406556823493,1.24105130099199,1.32586599737763,1.34450391115218,1.32894379154038,1.30457597159632,1.30647069809409,1.31372022149824,1.33390322078841,1.31122319899526,1.31455157764896,1.29809083357641,1.2882592050305,1.24523852666392,1.23671108943098,1.21296272697749,1.23419541352315,1.25942127343512,1.25209386959762,1.2436981393126,1.24990002422184,1.27721632769166,1.25175569815073,1.29603744431896,1.29545975463302,1.27539468089346,1.27922237770767,1.32671111207528,1.32572406651343,1.32616859610104,1.32343834085586,1.31357350214186,1.30981938340323,1.35216278186933,1.34356602777728,1.36001604145828,1.32450510476642,1.32892143847111,1.44547516371311,1.41657117734187,1.33769413219274,1.41291705774102,1.32646020996126,1.39470066138232,1.38081123258379,1.43134016441949,1.48250922694289,1.37353095641963,1.43668811086256,1.37995269678233,1.3959519571263,1.37501839789025,1.44682937989533,1.45877586808257,1.44668281662135,1.38336541125771,1.34485854146662,1.39708465000337,1.41945160783648,1.4300248465823,1.42656561203693,1.45485993652447,1.47895700356732,1.3792072275413,1.4776869781463,1.56741990069588,1.43458573124439,1.43344895616607,1.29540390633413,1.42930662232164,1.46698557204832,1.44597528256349,1.38022835748507,1.50259859512256,1.39021889883697,1.45851126738999,1.41383730812647,1.5301365411809,1.39906865687177,1.61418477735922,1.46723459934885,1.61707644616674,1.44846494395653,1.48223710442684,1.4255880183404,1.29220103344745,1.2472771629057,1.39302744616253,1.41256109094408,1.43762711068338,1.65303059300734,1.57588102703877,1.36706440538381,1.4624025409925,1.41541853547771,1.60998054295385,1.32609184235198,1.40663283384705,1.37133521539033,1.62900073052211,1.45790370750204,1.50508182484799,1.56539337673588,1.43164451475744,1.41145795564567,1.45018195471918,1.32953189728318,1.4794482875236,1.46667904798033,1.49775924609145,1.53792181516345,1.41765988777208,1.53724948413732,1.45337340462605,1.38474482305387,1.33401172033185,1.29081386110376,1.38056198648466,1.42471346992139,1.20046621123992,1.38153160634244,1.56355775123177,1.54001644991834,1.54541686208009,1.61604956347561,1.55176299414245,1.2563787549286,1.39184306116992,1.57057032249053,1.49608549867644,1.66069712380475,1.42633823613866,1.84506761392573,1.51284147683424,1.43846728782572,1.47918492852097,1.18273529499691,1.76297944559531,1.47315616885975,1.53751714290196,1.2689080000061,1.16560572907788,1.58591997104433,1.53856355909076,1.41513894445814,1.43612476513351,1.35190304951401,1.37111469718833,1.49655993224234,1.55926722150696,1.50650000314539,1.33935318277826,1.66624453627139,1.46996538816421,1.48756146770471,1.21552356836552,1.31943141018424,1.78878327297062,1.44856782834775,1.63067781740908,1.32922641276311,1.17978396661363,1.65835922115069,1.7413780116172,1.2262187745783,1.90677892592079,1.28891697014329,1.32061500667513,1.69838576524961,1.3196093279167,1.4592376292479,1.44867647672981,1.1985899835409,1.44810913345617,1.86570593686765,1.1591598733568,1.0899289735168,1.49998175831214,1.37814958616565,1.37863873779261,1.56908817067787,1.40286814829571,1.47042988639447,2.01101794040113,1.20132020851172,1.226133851889,1.12985459197946,1.63669793061628,2.09618811504633,1.19904688951027,1.54019802570048,1.03157360473944,1.7978338734137,1.62397738056789,1.67190808210805,1.44406514045104,1.30987100089633,1.39956462544188,1.43466425658003,1.5100509724463,1.50840126383271]},{\"_typename\":\"TPaveText\",\"fUniqueID\":0,\"fBits\":9,\"fLineColor\":1,\"fLineStyle\":1,\"fLineWidth\":1,\"fFillColor\":0,\"fFillStyle\":0,\"fX1\":712.604165736896,\"fY1\":2.65434446966637,\"fX2\":837.395834263104,\"fY2\":2.79198343580837,\"fX1NDC\":0.465574712643678,\"fY1NDC\":0.933983055615829,\"fX2NDC\":0.534425287356322,\"fY2NDC\":0.995000004768372,\"fBorderSize\":0,\"fInit\":1,\"fShadowColor\":1,\"fCornerRadius\":0,\"fOption\":\"blNDC\",\"fName\":\"title\",\"fTextAngle\":0,\"fTextSize\":0,\"fTextAlign\":22,\"fTextColor\":1,\"fTextFont\":42,\"fLabel\":\"\",\"fLongest\":3,\"fMargin\":0.05,\"fLines\":{\"_typename\":\"TList\",\"name\":\"TList\",\"arr\":[{\"_typename\":\"TLatex\",\"fUniqueID\":0,\"fBits\":0,\"fName\":\"\",\"fTitle\":\"mjj\",\"fTextAngle\":0,\"fTextSize\":0,\"fTextAlign\":0,\"fTextColor\":0,\"fTextFont\":0,\"fX\":0,\"fY\":0,\"fLineColor\":1,\"fLineStyle\":1,\"fLineWidth\":2,\"fLimitFactorSize\":3,\"fOriginSize\":0.0518644079566002}],\"opt\":[\"\"]}},{\"_typename\":\"TStyle\",\"fUniqueID\":0,\"fBits\":0,\"fName\":\"Modern\",\"fTitle\":\"Modern Style\",\"fLineColor\":1,\"fLineStyle\":1,\"fLineWidth\":1,\"fFillColor\":19,\"fFillStyle\":1001,\"fMarkerColor\":1,\"fMarkerStyle\":1,\"fMarkerSize\":1,\"fTextAngle\":0,\"fTextSize\":0.05,\"fTextAlign\":11,\"fTextColor\":1,\"fTextFont\":62,\"fXaxis\":{\"_typename\":\"TAttAxis\",\"fNdivisions\":510,\"fAxisColor\":1,\"fLabelColor\":1,\"fLabelFont\":42,\"fLabelOffset\":0.005,\"fLabelSize\":0.035,\"fTickLength\":0.03,\"fTitleOffset\":1,\"fTitleSize\":0.035,\"fTitleColor\":1,\"fTitleFont\":42},\"fYaxis\":{\"_typename\":\"TAttAxis\",\"fNdivisions\":510,\"fAxisColor\":1,\"fLabelColor\":1,\"fLabelFont\":42,\"fLabelOffset\":0.005,\"fLabelSize\":0.035,\"fTickLength\":0.03,\"fTitleOffset\":0,\"fTitleSize\":0.035,\"fTitleColor\":1,\"fTitleFont\":42},\"fZaxis\":{\"_typename\":\"TAttAxis\",\"fNdivisions\":510,\"fAxisColor\":1,\"fLabelColor\":1,\"fLabelFont\":42,\"fLabelOffset\":0.005,\"fLabelSize\":0.035,\"fTickLength\":0.03,\"fTitleOffset\":1,\"fTitleSize\":0.035,\"fTitleColor\":1,\"fTitleFont\":42},\"fBarWidth\":1,\"fBarOffset\":0,\"fColorModelPS\":0,\"fDrawBorder\":0,\"fOptLogx\":0,\"fOptLogy\":0,\"fOptLogz\":0,\"fOptDate\":0,\"fOptStat\":1111,\"fOptTitle\":1,\"fOptFile\":0,\"fOptFit\":0,\"fShowEventStatus\":0,\"fShowEditor\":0,\"fShowToolBar\":0,\"fNumberContours\":20,\"fAttDate\":{\"_typename\":\"TAttText\",\"fTextAngle\":0,\"fTextSize\":0.025,\"fTextAlign\":11,\"fTextColor\":1,\"fTextFont\":62},\"fDateX\":0.01,\"fDateY\":0.01,\"fEndErrorSize\":2,\"fErrorX\":0.5,\"fFuncColor\":2,\"fFuncStyle\":1,\"fFuncWidth\":2,\"fGridColor\":0,\"fGridStyle\":3,\"fGridWidth\":1,\"fLegendBorderSize\":1,\"fLegendFillColor\":0,\"fLegendFont\":42,\"fLegendTextSize\":0,\"fHatchesLineWidth\":1,\"fHatchesSpacing\":1,\"fFrameFillColor\":0,\"fFrameLineColor\":1,\"fFrameFillStyle\":1001,\"fFrameLineStyle\":1,\"fFrameLineWidth\":1,\"fFrameBorderSize\":1,\"fFrameBorderMode\":0,\"fHistFillColor\":0,\"fHistLineColor\":602,\"fHistFillStyle\":1001,\"fHistLineStyle\":1,\"fHistLineWidth\":1,\"fHistMinimumZero\":false,\"fHistTopMargin\":0.05,\"fCanvasPreferGL\":false,\"fCanvasColor\":0,\"fCanvasBorderSize\":2,\"fCanvasBorderMode\":0,\"fCanvasDefH\":500,\"fCanvasDefW\":700,\"fCanvasDefX\":10,\"fCanvasDefY\":10,\"fPadColor\":0,\"fPadBorderSize\":2,\"fPadBorderMode\":0,\"fPadBottomMargin\":0.1,\"fPadTopMargin\":0.1,\"fPadLeftMargin\":0.1,\"fPadRightMargin\":0.1,\"fPadGridX\":false,\"fPadGridY\":false,\"fPadTickX\":0,\"fPadTickY\":0,\"fPaperSizeX\":20,\"fPaperSizeY\":26,\"fScreenFactor\":1,\"fStatColor\":0,\"fStatTextColor\":1,\"fStatBorderSize\":1,\"fStatFont\":42,\"fStatFontSize\":0,\"fStatStyle\":1001,\"fStatFormat\":\"6.4g\",\"fStatX\":0.98,\"fStatY\":0.935,\"fStatW\":0.2,\"fStatH\":0.16,\"fStripDecimals\":true,\"fTitleAlign\":23,\"fTitleColor\":0,\"fTitleTextColor\":1,\"fTitleBorderSize\":0,\"fTitleFont\":42,\"fTitleFontSize\":0.05,\"fTitleStyle\":0,\"fTitleX\":0.5,\"fTitleY\":0.995,\"fTitleW\":0,\"fTitleH\":0,\"fLegoInnerR\":0.5,\"fLineStyle\":[\"\",\"  \",\" 12 12\",\" 4 8\",\" 12 16 4 16\",\" 20 12 4 12\",\" 20 12 4 12 4 12 4 12\",\" 20 20\",\" 20 12 4 12 4 12\",\" 80 20\",\" 80 40 4 40\",\"  \",\"  \",\"  \",\"  \",\"  \",\"  \",\"  \",\"  \",\"  \",\"  \",\"  \",\"  \",\"  \",\"  \",\"  \",\"  \",\"  \",\"  \",\"  \"],\"fHeaderPS\":\"\",\"fTitlePS\":\"\",\"fFitFormat\":\"5.4g\",\"fPaintTextFormat\":\"g\",\"fLineScalePS\":3,\"fJoinLinePS\":0,\"fCapLinePS\":0,\"fTimeOffset\":788918400,\"fImageScaling\":1}],\"opt\":[\"\",\"\",\"blNDC\",\"\"]},\"fExecs\":null,\"fName\":\"c1_n4\",\"fTitle\":\"c1_n4\",\"fNumPaletteColor\":0,\"fNextPaletteColor\":0,\"fDISPLAY\":\"$DISPLAY\",\"fDoubleBuffer\":0,\"fRetained\":true,\"fXsizeUser\":0,\"fYsizeUser\":0,\"fXsizeReal\":20,\"fYsizeReal\":14.28571,\"fWindowTopX\":0,\"fWindowTopY\":0,\"fWindowWidth\":0,\"fWindowHeight\":0,\"fCw\":696,\"fCh\":472,\"fCatt\":{\"_typename\":\"TAttCanvas\",\"fXBetween\":2,\"fYBetween\":2,\"fTitleFromTop\":1.2,\"fXdate\":0.2,\"fYdate\":0.3,\"fAdate\":1},\"kMoveOpaque\":true,\"kResizeOpaque\":true,\"fHighLightColor\":2,\"fBatch\":true,\"kShowEventStatus\":false,\"kAutoExec\":true,\"kMenuBar\":true});\n",
       "            Core.draw(\"root_plot_1617313817922\", obj, \"\");\n",
       "        }\n",
       "    );\n",
       "}\n",
       "</script>\n"
      ],
      "text/plain": [
       "<IPython.core.display.HTML object>"
      ]
     },
     "metadata": {},
     "output_type": "display_data"
    }
   ],
   "source": [
    "c = R.TCanvas()\n",
    "h.Draw()\n",
    "c.Draw()"
   ]
  },
  {
   "cell_type": "code",
   "execution_count": 16,
   "id": "portuguese-theta",
   "metadata": {
    "ExecuteTime": {
     "end_time": "2021-04-01T21:50:33.349665Z",
     "start_time": "2021-04-01T21:50:33.240348Z"
    }
   },
   "outputs": [
    {
     "data": {
      "text/plain": [
       "531"
      ]
     },
     "execution_count": 16,
     "metadata": {},
     "output_type": "execute_result"
    }
   ],
   "source": [
    "func1.Write()"
   ]
  },
  {
   "cell_type": "code",
   "execution_count": 17,
   "id": "freelance-blair",
   "metadata": {
    "ExecuteTime": {
     "end_time": "2021-04-01T21:50:34.624925Z",
     "start_time": "2021-04-01T21:50:34.455038Z"
    }
   },
   "outputs": [
    {
     "data": {
      "text/plain": [
       "<cppyy.gbl.TFitResultPtr object at 0x8d42da0>"
      ]
     },
     "execution_count": 17,
     "metadata": {},
     "output_type": "execute_result"
    },
    {
     "name": "stdout",
     "output_type": "stream",
     "text": [
      " FCN=0.0541359 FROM MIGRAD    STATUS=CONVERGED     759 CALLS         760 TOTAL\n",
      "                     EDM=9.00694e-08    STRATEGY= 1      ERROR MATRIX ACCURATE \n",
      "  EXT PARAMETER                                   STEP         FIRST   \n",
      "  NO.   NAME      VALUE            ERROR          SIZE      DERIVATIVE \n",
      "   1  p0           6.79585e-01   1.72779e-01   3.03258e-05  -3.19699e-04\n",
      "   2  p1           1.28551e+00   1.82761e+01   1.76887e-03  -7.08414e-05\n",
      "   3  p2           2.09341e-02   1.24155e-01   1.14770e-05   9.58981e-03\n",
      "   4  p3          -1.23025e-05   1.79905e-04   3.36876e-08   7.36737e-01\n",
      "                               ERR DEF= 0.5\n"
     ]
    }
   ],
   "source": [
    "f.cd(\"/\")\n",
    "f.cd(\"njet6\")\n",
    "\n",
    "h = R.gDirectory.Get(\"ratio_mjj_zoom2\")\n",
    "\n",
    "\n",
    "func1 = R.TF1(\"fit_mjj\", \"[0]+ [1]*TMath::Exp(-[2]*(x)) + [3]*x\", 90, 1500)\n",
    "# #func1.SetLineColor(R.kRed)\n",
    "\n",
    "# func1.SetParameter(1,500)\n",
    "func1.SetParameter(0,0.7)\n",
    "func1.SetParameter(2,0.01)\n",
    "func1.SetParameter(3,-0.001)\n",
    "# func1.SetParameter(1,0.1)\n",
    "# func1.SetParameter(2,200)\n",
    "# # func1.SetParameter(2,)\n",
    "# func1.SetParameter(3,200)\n",
    "# func1.SetParameter(4,0.7)\n",
    "# func1.SetParameter(5,10)\n",
    "# func1.SetParameter(6,0.01)\n",
    "\n",
    "h.Fit(func1, \"RLS\")"
   ]
  },
  {
   "cell_type": "code",
   "execution_count": 18,
   "id": "reserved-occasion",
   "metadata": {
    "ExecuteTime": {
     "end_time": "2021-04-01T21:50:36.512827Z",
     "start_time": "2021-04-01T21:50:36.392879Z"
    }
   },
   "outputs": [
    {
     "data": {
      "text/html": [
       "\n",
       "<div id=\"root_plot_1617313836506\"\n",
       "     style=\"width: 696px; height: 472px\">\n",
       "</div>\n",
       "<script>\n",
       "if (typeof require !== 'undefined') {\n",
       "\n",
       "    // All requirements met (we are in jupyter notebooks or we loaded requirejs before).\n",
       "    display_root_plot_1617313836506();\n",
       "\n",
       "} else {\n",
       "\n",
       "    // We are in jupyterlab, we need to insert requirejs and configure it.\n",
       "    // Jupyterlab might be installed in a different base_url so we need to know it.\n",
       "    try {\n",
       "        var base_url = JSON.parse(document.getElementById('jupyter-config-data').innerHTML).baseUrl;\n",
       "    } catch(_) {\n",
       "        var base_url = '/';\n",
       "    }\n",
       "\n",
       "    // Try loading a local version of requirejs and fallback to cdn if not possible.\n",
       "    requirejs_load(base_url + 'static/components/requirejs/require.js', requirejs_success(base_url), function(){\n",
       "        requirejs_load('https://cdnjs.cloudflare.com/ajax/libs/require.js/2.2.0/require.min.js', requirejs_success(base_url), function(){\n",
       "            document.getElementById(\"root_plot_1617313836506\").innerHTML = \"Failed to load requireJs\";\n",
       "        });\n",
       "    });\n",
       "}\n",
       "\n",
       "function requirejs_load(src, on_load, on_error) {\n",
       "    var script = document.createElement('script');\n",
       "    script.src = src;\n",
       "    script.onload = on_load;\n",
       "    script.onerror = on_error;\n",
       "    document.head.appendChild(script);\n",
       "}\n",
       "\n",
       "function requirejs_success(base_url) {\n",
       "    return function() {\n",
       "        require.config({\n",
       "            baseUrl: base_url + 'static/'\n",
       "        });\n",
       "        display_root_plot_1617313836506();\n",
       "    }\n",
       "}\n",
       "\n",
       "function display_root_plot_1617313836506() {\n",
       "    require(['scripts/JSRootCore'],\n",
       "        function(Core) {\n",
       "            var obj = Core.JSONR_unref({\"_typename\":\"TCanvas\",\"fUniqueID\":0,\"fBits\":3342344,\"fLineColor\":1,\"fLineStyle\":1,\"fLineWidth\":1,\"fFillColor\":0,\"fFillStyle\":1001,\"fLeftMargin\":0.1,\"fRightMargin\":0.1,\"fBottomMargin\":0.1,\"fTopMargin\":0.1,\"fXfile\":2,\"fYfile\":2,\"fAfile\":1,\"fXstat\":0.99,\"fYstat\":0.99,\"fAstat\":2,\"fFrameFillColor\":0,\"fFrameLineColor\":1,\"fFrameFillStyle\":1001,\"fFrameLineStyle\":1,\"fFrameLineWidth\":1,\"fFrameBorderSize\":1,\"fFrameBorderMode\":0,\"fX1\":-131.250013504178,\"fY1\":-0.379568180348439,\"fX2\":1681.25001350418,\"fY2\":3.41611339689569,\"fXtoAbsPixelk\":50.4000544345858,\"fXtoPixelk\":50.4000544345858,\"fXtoPixel\":0.383999994277954,\"fYtoAbsPixelk\":424.800047186661,\"fYtoPixelk\":424.800047186661,\"fYtoPixel\":-124.351843112903,\"fUtoAbsPixelk\":5e-5,\"fUtoPixelk\":5e-5,\"fUtoPixel\":696,\"fVtoAbsPixelk\":472.00005,\"fVtoPixelk\":472,\"fVtoPixel\":-472,\"fAbsPixeltoXk\":-131.250013504178,\"fPixeltoXk\":-131.250013504178,\"fPixeltoX\":2.60416670547178,\"fAbsPixeltoYk\":3.41611339689569,\"fPixeltoYk\":-0.379568180348439,\"fPixeltoY\":-0.00804169825687316,\"fXlowNDC\":0,\"fYlowNDC\":0,\"fXUpNDC\":1,\"fYUpNDC\":1,\"fWNDC\":1,\"fHNDC\":1,\"fAbsXlowNDC\":0,\"fAbsYlowNDC\":0,\"fAbsWNDC\":1,\"fAbsHNDC\":1,\"fUxmin\":50,\"fUymin\":0,\"fUxmax\":1500,\"fUymax\":3.03654521654725,\"fTheta\":30,\"fPhi\":30,\"fAspectRatio\":0,\"fNumber\":0,\"fTickx\":0,\"fTicky\":0,\"fLogx\":0,\"fLogy\":0,\"fLogz\":0,\"fPadPaint\":0,\"fCrosshair\":0,\"fCrosshairPos\":0,\"fBorderSize\":2,\"fBorderMode\":0,\"fModified\":false,\"fGridx\":false,\"fGridy\":false,\"fAbsCoord\":false,\"fEditable\":true,\"fFixedAspectRatio\":false,\"fPrimitives\":{\"_typename\":\"TList\",\"name\":\"TList\",\"arr\":[{\"_typename\":\"TFrame\",\"fUniqueID\":0,\"fBits\":8,\"fLineColor\":1,\"fLineStyle\":1,\"fLineWidth\":1,\"fFillColor\":0,\"fFillStyle\":1001,\"fX1\":50,\"fY1\":0,\"fX2\":1500,\"fY2\":3.03654521654725,\"fBorderSize\":1,\"fBorderMode\":0},{\"_typename\":\"TH1D\",\"fUniqueID\":0,\"fBits\":8,\"fName\":\"ratio_mjj_zoom2\",\"fTitle\":\"mjj\",\"fLineColor\":602,\"fLineStyle\":1,\"fLineWidth\":1,\"fFillColor\":0,\"fFillStyle\":1001,\"fMarkerColor\":1,\"fMarkerStyle\":1,\"fMarkerSize\":1,\"fNcells\":202,\"fXaxis\":{\"_typename\":\"TAxis\",\"fUniqueID\":0,\"fBits\":0,\"fName\":\"xaxis\",\"fTitle\":\"\",\"fNdivisions\":510,\"fAxisColor\":1,\"fLabelColor\":1,\"fLabelFont\":42,\"fLabelOffset\":0.005,\"fLabelSize\":0.035,\"fTickLength\":0.03,\"fTitleOffset\":1,\"fTitleSize\":0.035,\"fTitleColor\":1,\"fTitleFont\":42,\"fNbins\":200,\"fXmin\":50,\"fXmax\":1500,\"fXbins\":[],\"fFirst\":0,\"fLast\":0,\"fBits2\":0,\"fTimeDisplay\":false,\"fTimeFormat\":\"\",\"fLabels\":null,\"fModLabs\":null},\"fYaxis\":{\"_typename\":\"TAxis\",\"fUniqueID\":0,\"fBits\":0,\"fName\":\"yaxis\",\"fTitle\":\"\",\"fNdivisions\":510,\"fAxisColor\":1,\"fLabelColor\":1,\"fLabelFont\":42,\"fLabelOffset\":0.005,\"fLabelSize\":0.035,\"fTickLength\":0.03,\"fTitleOffset\":0,\"fTitleSize\":0.035,\"fTitleColor\":1,\"fTitleFont\":42,\"fNbins\":1,\"fXmin\":0,\"fXmax\":1,\"fXbins\":[],\"fFirst\":0,\"fLast\":0,\"fBits2\":0,\"fTimeDisplay\":false,\"fTimeFormat\":\"\",\"fLabels\":null,\"fModLabs\":null},\"fZaxis\":{\"_typename\":\"TAxis\",\"fUniqueID\":0,\"fBits\":0,\"fName\":\"zaxis\",\"fTitle\":\"\",\"fNdivisions\":510,\"fAxisColor\":1,\"fLabelColor\":1,\"fLabelFont\":42,\"fLabelOffset\":0.005,\"fLabelSize\":0.035,\"fTickLength\":0.03,\"fTitleOffset\":1,\"fTitleSize\":0.035,\"fTitleColor\":1,\"fTitleFont\":42,\"fNbins\":1,\"fXmin\":0,\"fXmax\":1,\"fXbins\":[],\"fFirst\":0,\"fLast\":0,\"fBits2\":0,\"fTimeDisplay\":false,\"fTimeFormat\":\"\",\"fLabels\":null,\"fModLabs\":null},\"fBarOffset\":0,\"fBarWidth\":1000,\"fEntries\":20442.6124677056,\"fTsumw\":134.082495099407,\"fTsumw2\":0.879443149474346,\"fTsumwx\":103554.485449043,\"fTsumwx2\":103271720.267418,\"fMaximum\":-1111,\"fMinimum\":-1111,\"fNormFactor\":0,\"fContour\":[],\"fSumw2\":[0,0,0,0,0,0.753614997023704,0.0380729792745729,0.0102424448093151,0.00338023265270767,0.00174640824485319,9.26823922714871e-4,5.17927879684259e-4,3.72745782154581e-4,3.21415497512586e-4,2.38554414568643e-4,2.04011074791753e-4,1.79266803342668e-4,1.55828744244739e-4,1.39571159871389e-4,1.30312395331512e-4,1.22779594932252e-4,1.12995843283245e-4,1.14928108997125e-4,1.12234171427647e-4,1.07141741993277e-4,9.87392038907008e-5,1.05361385438242e-4,1.03823634000971e-4,9.79902039107042e-5,1.003375895746e-4,9.49335925298482e-5,9.73720338462396e-5,9.52932422007269e-5,9.59937882555988e-5,9.95226709135048e-5,1.0120619347212e-4,1.00179693486255e-4,1.08439084306257e-4,1.00271870956539e-4,1.0626214769092e-4,1.08849173629947e-4,9.88448522557054e-5,1.12140872082262e-4,1.12922123109082e-4,1.14410631090445e-4,1.14374908500402e-4,1.15642185143329e-4,1.1449990753623e-4,1.24901649163104e-4,1.18927874665376e-4,1.19903570761572e-4,1.21238684003141e-4,1.32129263687377e-4,1.26912517631753e-4,1.28769760475476e-4,1.32057524253595e-4,1.39036195136205e-4,1.37124152403232e-4,1.38367845303065e-4,1.43573054125224e-4,1.38519395516094e-4,1.50508723928955e-4,1.46352200835758e-4,1.56888192803929e-4,1.55439746150117e-4,1.51162427183189e-4,1.52196226881942e-4,1.52180956677447e-4,1.55443571363805e-4,1.58255111158986e-4,1.64490875228623e-4,1.76153034510183e-4,1.81033627447e-4,1.81554108536659e-4,1.74693728227039e-4,1.96495015366202e-4,1.77380489454643e-4,1.99269849340207e-4,1.85301006916841e-4,2.14125458817024e-4,1.85179923297817e-4,2.02513717424873e-4,2.11675561872124e-4,2.12644533571918e-4,2.19840549864686e-4,2.37001918597495e-4,2.15532689100895e-4,2.17387917955657e-4,2.39456081507641e-4,2.35033285575323e-4,2.46190765352602e-4,2.54267846861743e-4,2.31556036006577e-4,2.30149768667199e-4,2.4725862248436e-4,2.68277640723169e-4,2.53139963273229e-4,2.72781424959034e-4,2.8489712134266e-4,2.78352088430806e-4,2.68250257339654e-4,2.6906185144365e-4,2.69576850304204e-4,2.80917748211896e-4,2.76782006362928e-4,2.87712962506576e-4,2.90480491936489e-4,3.0415237180042e-4,3.04842927237143e-4,2.97687369248465e-4,3.38016457353463e-4,3.21177206425195e-4,3.22609506988092e-4,3.12300509691293e-4,3.36369868075494e-4,3.74368955443755e-4,3.47453740103991e-4,3.2497540050108e-4,3.57803882170912e-4,3.65462208295287e-4,3.99349116554378e-4,3.70735928031905e-4,3.9039457339731e-4,3.60908652972398e-4,4.25973106529529e-4,4.10270861021754e-4,3.80202390118679e-4,4.31518397891079e-4,4.44269700525281e-4,4.10618926429405e-4,4.60479623001302e-4,3.97430237778249e-4,3.96374986748737e-4,4.71043680487331e-4,4.3607944229962e-4,4.78028236059149e-4,4.23112847543987e-4,4.47906464395213e-4,4.28773584223729e-4,4.75153814628542e-4,4.85358883844786e-4,4.64240419836079e-4,5.70312719781854e-4,5.03800335445555e-4,4.9442379687372e-4,5.0644008112423e-4,5.12680684325169e-4,5.52565369403425e-4,5.26843624545635e-4,6.13700997779511e-4,5.17410070613141e-4,5.49306418006758e-4,5.93726722828355e-4,5.50179299981509e-4,5.60883881050029e-4,5.66230538474366e-4,5.72353251501082e-4,6.0136297417517e-4,5.62205977221112e-4,6.13126276398249e-4,5.75051622043505e-4,5.27736709028984e-4,6.28562397110859e-4,6.17451862758012e-4,6.71587405429791e-4,5.81107722880634e-4,6.32283925953983e-4,6.75005757065633e-4,6.98389051774836e-4,6.93500571527145e-4,7.27134862083691e-4,7.66944239504587e-4,7.23577210194507e-4,6.95505251729761e-4,6.96507190415788e-4,7.75617454506313e-4,8.02916935418314e-4,8.22990539870244e-4,7.67549882213215e-4,8.54537198812901e-4,7.97600713438744e-4,7.56810266595521e-4,8.41672162943057e-4,7.9080435618998e-4,6.77247462283854e-4,8.17253277968953e-4,7.800338113968e-4,8.97987479341207e-4,8.69914430216589e-4,9.12014718001959e-4,8.03822652899283e-4,8.28288092128474e-4,8.86488113782069e-4,9.52120423271627e-4,9.47336624588867e-4,8.73356447378703e-4,8.39973000689331e-4,8.94058795511599e-4,0.00100112725367358,8.50861678148856e-4,1.07035639331048e-7,9.59442498065739e-6],\"fOption\":\"\",\"fFunctions\":{\"_typename\":\"TList\",\"name\":\"TList\",\"arr\":[{\"_typename\":\"TF1\",\"fUniqueID\":0,\"fBits\":1024,\"fName\":\"fit_mjj\",\"fTitle\":\"[0]+ [1]*TMath::Exp(-[2]*(x)) + [3]*x\",\"fLineColor\":2,\"fLineStyle\":1,\"fLineWidth\":2,\"fFillColor\":19,\"fFillStyle\":0,\"fMarkerColor\":1,\"fMarkerStyle\":1,\"fMarkerSize\":1,\"fXmin\":90,\"fXmax\":1500,\"fNpar\":4,\"fNdim\":1,\"fNpx\":100,\"fType\":0,\"fNpfits\":194,\"fNDF\":190,\"fChisquare\":21859.6301404399,\"fMinimum\":-1111,\"fMaximum\":-1111,\"fParErrors\":[0.172778967224823,18.2760608907083,0.124155034423026,1.79905283748298e-4],\"fParMin\":[0,0,0,0],\"fParMax\":[0,0,0,0],\"fSave\":[0.873838421523289,0.823731694179317,0.786387680345798,0.758544288793406,0.737773203898584,0.722266776410263,0.710679383962395,0.702009339114262,0.695510981155844,0.690629236845861,0.68695090712602,0.684168404728416,0.682052760284703,0.680433527950366,0.679183827059566,0.678209207064624,0.677439358546075,0.676821942850651,0.6763179988456,0.67589852368559,0.675541927519974,0.675232138765232,0.674957193661121,0.674708186329825,0.674478487195187,0.674263161170406,0.674058534554309,0.673861872626948,0.673671139650292,0.673484820211644,0.673301786230866,0.673121197959946,0.672942430286625,0.672765017874478,0.672588614324946,0.672412961777355,0.672237868279043,0.67206319093957,0.671888823390639,0.671714686451204,0.671540721178531,0.671366883695382,0.671193141339337,0.671019469796344,0.670845850966911,0.670672271377693,0.67049872099907,0.670325192364947,0.67015167991753,0.669978179519571,0.669804688091283,0.66963120334006,0.669457723559274,0.669284247478504,0.669110774152043,0.668937302875902,0.668763833126029,0.668590364512316,0.668416896744367,0.668243429606008,0.668069962936318,0.667896496615509,0.667723030554407,0.667549564686632,0.667376098962772,0.667202633346042,0.66702916780906,0.666855702331443,0.666682236898018,0.666508771497489,0.666335306121448,0.666161840763636,0.665988375419394,0.665814910085254,0.665641444758633,0.66546797943761,0.665294514120754,0.665121048806999,0.664947583495554,0.664774118185827,0.66460065287738,0.664427187569886,0.6642537222631,0.664080256956842,0.663906791650978,0.663733326345405,0.663559861040051,0.663386395734858,0.663212930429786,0.663039465124804,0.662865999819889,0.662692534515023,0.662519069210195,0.662345603905394,0.662172138600614,0.661998673295849,0.661825207991095,0.66165174268635,0.661478277381611,0.661304812076877,0.661131346772146,90,1500],\"fNormalized\":false,\"fNormIntegral\":0,\"fFormula\":{\"_typename\":\"TFormula\",\"fUniqueID\":0,\"fBits\":1024,\"fName\":\"fit_mjj\",\"fTitle\":\"[0]+ [1]*TMath::Exp(-[2]*(x)) + [3]*x\",\"fClingParameters\":[0.679585102593448,1.28551480012885,0.0209340860375534,-1.23025038808879e-5],\"fAllParametersSetted\":true,\"fParams\":[{\"$pair\":\"pair<TString,int,TFormulaParamOrder>\",\"first\":\"p0\",\"second\":0},{\"$pair\":\"pair<TString,int,TFormulaParamOrder>\",\"first\":\"p1\",\"second\":1},{\"$pair\":\"pair<TString,int,TFormulaParamOrder>\",\"first\":\"p2\",\"second\":2},{\"$pair\":\"pair<TString,int,TFormulaParamOrder>\",\"first\":\"p3\",\"second\":3}],\"fFormula\":\"[p0]+[p1]*TMath::Exp(-[p2]*(x))+[p3]*x\",\"fNdim\":1,\"fLinearParts\":[],\"fVectorized\":false},\"fParams\":null,\"fComposition_ptr\":null},{\"_typename\":\"TPaveStats\",\"fUniqueID\":0,\"fBits\":9,\"fLineColor\":1,\"fLineStyle\":1,\"fLineWidth\":1,\"fFillColor\":0,\"fFillStyle\":1001,\"fX1\":1282.50003673136,\"fY1\":2.56208506463979,\"fX2\":1645.00004753471,\"fY2\":3.16939410342443,\"fX1NDC\":0.780000016093254,\"fY1NDC\":0.775000005960464,\"fX2NDC\":0.980000019073486,\"fY2NDC\":0.935000002384186,\"fBorderSize\":1,\"fInit\":1,\"fShadowColor\":1,\"fCornerRadius\":0,\"fOption\":\"brNDC\",\"fName\":\"stats\",\"fTextAngle\":0,\"fTextSize\":0,\"fTextAlign\":12,\"fTextColor\":1,\"fTextFont\":42,\"fLabel\":\"\",\"fLongest\":18,\"fMargin\":0.05,\"fLines\":{\"_typename\":\"TList\",\"name\":\"TList\",\"arr\":[{\"_typename\":\"TLatex\",\"fUniqueID\":0,\"fBits\":0,\"fName\":\"\",\"fTitle\":\"ratio_mjj_zoom2\",\"fTextAngle\":0,\"fTextSize\":0.0368,\"fTextAlign\":0,\"fTextColor\":0,\"fTextFont\":0,\"fX\":0,\"fY\":0,\"fLineColor\":1,\"fLineStyle\":1,\"fLineWidth\":2,\"fLimitFactorSize\":3,\"fOriginSize\":0.0368000008165836},{\"_typename\":\"TLatex\",\"fUniqueID\":0,\"fBits\":0,\"fName\":\"\",\"fTitle\":\"Entries = 20443  \",\"fTextAngle\":0,\"fTextSize\":0,\"fTextAlign\":0,\"fTextColor\":0,\"fTextFont\":0,\"fX\":0,\"fY\":0,\"fLineColor\":1,\"fLineStyle\":1,\"fLineWidth\":2,\"fLimitFactorSize\":3,\"fOriginSize\":0.04},{\"_typename\":\"TLatex\",\"fUniqueID\":0,\"fBits\":0,\"fName\":\"\",\"fTitle\":\"Mean  =  772.3\",\"fTextAngle\":0,\"fTextSize\":0,\"fTextAlign\":0,\"fTextColor\":0,\"fTextFont\":0,\"fX\":0,\"fY\":0,\"fLineColor\":1,\"fLineStyle\":1,\"fLineWidth\":2,\"fLimitFactorSize\":3,\"fOriginSize\":0.04},{\"_typename\":\"TLatex\",\"fUniqueID\":0,\"fBits\":0,\"fName\":\"\",\"fTitle\":\"Std Dev   =  416.8\",\"fTextAngle\":0,\"fTextSize\":0,\"fTextAlign\":0,\"fTextColor\":0,\"fTextFont\":0,\"fX\":0,\"fY\":0,\"fLineColor\":1,\"fLineStyle\":1,\"fLineWidth\":2,\"fLimitFactorSize\":3,\"fOriginSize\":0.04}],\"opt\":[\"\",\"\",\"\",\"\"]},\"fOptFit\":0,\"fOptStat\":1111,\"fFitFormat\":\"5.4g\",\"fStatFormat\":\"6.4g\",\"fParent\":{\"$ref\":3}}],\"opt\":[\"\",\"brNDC\"]},\"fBufferSize\":0,\"fBuffer\":[],\"fBinStatErrOpt\":0,\"fStatOverflows\":2,\"fArray\":[0,0,0,0,0,2.02383781092794,0.925312519759261,0.876704356613392,0.774654363955753,0.816887576973172,0.796270191303929,0.740615167588224,0.748399026059677,0.781033828829532,0.736861482247941,0.730112002354635,0.72441302662567,0.715101571717677,0.69664597345362,0.698901140997579,0.698514885017549,0.690591833601036,0.701483400232076,0.703462092990748,0.699451415925557,0.6692748512514,0.698763764563253,0.696912580732115,0.682566793166033,0.685324216482411,0.665554528868051,0.678767248642635,0.669970749046811,0.668870955714451,0.680141634494177,0.683631041471235,0.673370540927084,0.696645031159291,0.669017509615719,0.681795803314397,0.687573355298926,0.649510517960918,0.681225873344851,0.681607435752499,0.681275738458215,0.679054384271261,0.672458638632871,0.662046073176887,0.694176144364113,0.672787610597675,0.668430210062417,0.657759405505028,0.692555219806849,0.666118334338526,0.670836324039343,0.666310166352969,0.685268231116661,0.676220143141827,0.6647659179032,0.68241211418438,0.655077156267763,0.686086317861843,0.665466797956798,0.684087617199412,0.672172688097766,0.658293155805006,0.655483543766249,0.649574483423692,0.648320905308926,0.646301624883045,0.658729889549635,0.675407385992622,0.677953209817423,0.667719703928933,0.658675884953797,0.687094654305831,0.654783713862721,0.681280035555355,0.653663008815788,0.69849898684024,0.639859021512372,0.679091999749117,0.68349662030603,0.668684165412148,0.678023055543429,0.698122082183669,0.662990228078004,0.655356815605012,0.680061793046994,0.674034527498916,0.690546562079766,0.692872486354539,0.655477049657947,0.643599752428303,0.661650932006674,0.692871977731082,0.667265195797896,0.685002634934467,0.69509287374772,0.685152144758866,0.656806504685875,0.665678340761971,0.652110346092358,0.659433726256848,0.645423879380228,0.667755600862204,0.658852632401158,0.665970869520004,0.665578168445794,0.656763908648327,0.69732783766771,0.677190800296564,0.663976280353532,0.651851155846608,0.668379954134815,0.700949342374503,0.659802062149528,0.633673747532904,0.671622687084577,0.673707329681153,0.705619132818057,0.671154401600137,0.685124142001456,0.660198738933031,0.712222960551955,0.696388069644981,0.659176188343283,0.703608982929287,0.690985532838771,0.67007304730148,0.70316084123287,0.645146806578235,0.650283892280882,0.696851415102299,0.661701046013709,0.687225485461856,0.644971005671344,0.656970941699629,0.637120794623367,0.6632877005212,0.670500044856398,0.658821153513733,0.722958290739521,0.671623843824368,0.669294326753482,0.675868755939066,0.653517604346418,0.687011574787476,0.666695107946266,0.723013185144185,0.660498087901921,0.658955947499521,0.6840048713664,0.665890930210437,0.659465997911824,0.667514684406958,0.655853651702645,0.666731029042111,0.645173443088026,0.667748996472622,0.647861567392736,0.601521153367495,0.673079131220439,0.657074428418907,0.678588285037919,0.629503387079801,0.651474987260434,0.666547209341492,0.681809831492741,0.682046263731206,0.673744097085815,0.701430466756736,0.671603207717957,0.656603007139766,0.642263668159189,0.68153573151718,0.701186863120336,0.684371504205984,0.671284532769054,0.712655455235314,0.665609914094333,0.638724423872424,0.69103842149211,0.666889309705801,0.611072631089377,0.657145978068842,0.645679071961758,0.677503340905809,0.673087514172716,0.675950620595158,0.636011112697941,0.643784294131551,0.664221757182639,0.680169711495104,0.662945022821691,0.632437726568139,0.625543353305332,0.649469891856953,0.673813786628351,0.610746081421629,0.613023091951732,0.612444718888244]},{\"_typename\":\"TPaveText\",\"fUniqueID\":0,\"fBits\":9,\"fLineColor\":1,\"fLineStyle\":1,\"fLineWidth\":1,\"fFillColor\":0,\"fFillStyle\":0,\"fX1\":712.604165736896,\"fY1\":3.16553409731074,\"fX2\":837.395834263104,\"fY2\":3.39713500710869,\"fX1NDC\":0.465574712643678,\"fY1NDC\":0.933983055615829,\"fX2NDC\":0.534425287356322,\"fY2NDC\":0.995000004768372,\"fBorderSize\":0,\"fInit\":1,\"fShadowColor\":1,\"fCornerRadius\":0,\"fOption\":\"blNDC\",\"fName\":\"title\",\"fTextAngle\":0,\"fTextSize\":0,\"fTextAlign\":22,\"fTextColor\":1,\"fTextFont\":42,\"fLabel\":\"\",\"fLongest\":3,\"fMargin\":0.05,\"fLines\":{\"_typename\":\"TList\",\"name\":\"TList\",\"arr\":[{\"_typename\":\"TLatex\",\"fUniqueID\":0,\"fBits\":0,\"fName\":\"\",\"fTitle\":\"mjj\",\"fTextAngle\":0,\"fTextSize\":0,\"fTextAlign\":0,\"fTextColor\":0,\"fTextFont\":0,\"fX\":0,\"fY\":0,\"fLineColor\":1,\"fLineStyle\":1,\"fLineWidth\":2,\"fLimitFactorSize\":3,\"fOriginSize\":0.0518644079566002}],\"opt\":[\"\"]}},{\"_typename\":\"TStyle\",\"fUniqueID\":0,\"fBits\":0,\"fName\":\"Modern\",\"fTitle\":\"Modern Style\",\"fLineColor\":1,\"fLineStyle\":1,\"fLineWidth\":1,\"fFillColor\":19,\"fFillStyle\":1001,\"fMarkerColor\":1,\"fMarkerStyle\":1,\"fMarkerSize\":1,\"fTextAngle\":0,\"fTextSize\":0.05,\"fTextAlign\":11,\"fTextColor\":1,\"fTextFont\":62,\"fXaxis\":{\"_typename\":\"TAttAxis\",\"fNdivisions\":510,\"fAxisColor\":1,\"fLabelColor\":1,\"fLabelFont\":42,\"fLabelOffset\":0.005,\"fLabelSize\":0.035,\"fTickLength\":0.03,\"fTitleOffset\":1,\"fTitleSize\":0.035,\"fTitleColor\":1,\"fTitleFont\":42},\"fYaxis\":{\"_typename\":\"TAttAxis\",\"fNdivisions\":510,\"fAxisColor\":1,\"fLabelColor\":1,\"fLabelFont\":42,\"fLabelOffset\":0.005,\"fLabelSize\":0.035,\"fTickLength\":0.03,\"fTitleOffset\":0,\"fTitleSize\":0.035,\"fTitleColor\":1,\"fTitleFont\":42},\"fZaxis\":{\"_typename\":\"TAttAxis\",\"fNdivisions\":510,\"fAxisColor\":1,\"fLabelColor\":1,\"fLabelFont\":42,\"fLabelOffset\":0.005,\"fLabelSize\":0.035,\"fTickLength\":0.03,\"fTitleOffset\":1,\"fTitleSize\":0.035,\"fTitleColor\":1,\"fTitleFont\":42},\"fBarWidth\":1,\"fBarOffset\":0,\"fColorModelPS\":0,\"fDrawBorder\":0,\"fOptLogx\":0,\"fOptLogy\":0,\"fOptLogz\":0,\"fOptDate\":0,\"fOptStat\":1111,\"fOptTitle\":1,\"fOptFile\":0,\"fOptFit\":0,\"fShowEventStatus\":0,\"fShowEditor\":0,\"fShowToolBar\":0,\"fNumberContours\":20,\"fAttDate\":{\"_typename\":\"TAttText\",\"fTextAngle\":0,\"fTextSize\":0.025,\"fTextAlign\":11,\"fTextColor\":1,\"fTextFont\":62},\"fDateX\":0.01,\"fDateY\":0.01,\"fEndErrorSize\":2,\"fErrorX\":0.5,\"fFuncColor\":2,\"fFuncStyle\":1,\"fFuncWidth\":2,\"fGridColor\":0,\"fGridStyle\":3,\"fGridWidth\":1,\"fLegendBorderSize\":1,\"fLegendFillColor\":0,\"fLegendFont\":42,\"fLegendTextSize\":0,\"fHatchesLineWidth\":1,\"fHatchesSpacing\":1,\"fFrameFillColor\":0,\"fFrameLineColor\":1,\"fFrameFillStyle\":1001,\"fFrameLineStyle\":1,\"fFrameLineWidth\":1,\"fFrameBorderSize\":1,\"fFrameBorderMode\":0,\"fHistFillColor\":0,\"fHistLineColor\":602,\"fHistFillStyle\":1001,\"fHistLineStyle\":1,\"fHistLineWidth\":1,\"fHistMinimumZero\":false,\"fHistTopMargin\":0.05,\"fCanvasPreferGL\":false,\"fCanvasColor\":0,\"fCanvasBorderSize\":2,\"fCanvasBorderMode\":0,\"fCanvasDefH\":500,\"fCanvasDefW\":700,\"fCanvasDefX\":10,\"fCanvasDefY\":10,\"fPadColor\":0,\"fPadBorderSize\":2,\"fPadBorderMode\":0,\"fPadBottomMargin\":0.1,\"fPadTopMargin\":0.1,\"fPadLeftMargin\":0.1,\"fPadRightMargin\":0.1,\"fPadGridX\":false,\"fPadGridY\":false,\"fPadTickX\":0,\"fPadTickY\":0,\"fPaperSizeX\":20,\"fPaperSizeY\":26,\"fScreenFactor\":1,\"fStatColor\":0,\"fStatTextColor\":1,\"fStatBorderSize\":1,\"fStatFont\":42,\"fStatFontSize\":0,\"fStatStyle\":1001,\"fStatFormat\":\"6.4g\",\"fStatX\":0.98,\"fStatY\":0.935,\"fStatW\":0.2,\"fStatH\":0.16,\"fStripDecimals\":true,\"fTitleAlign\":23,\"fTitleColor\":0,\"fTitleTextColor\":1,\"fTitleBorderSize\":0,\"fTitleFont\":42,\"fTitleFontSize\":0.05,\"fTitleStyle\":0,\"fTitleX\":0.5,\"fTitleY\":0.995,\"fTitleW\":0,\"fTitleH\":0,\"fLegoInnerR\":0.5,\"fLineStyle\":[\"\",\"  \",\" 12 12\",\" 4 8\",\" 12 16 4 16\",\" 20 12 4 12\",\" 20 12 4 12 4 12 4 12\",\" 20 20\",\" 20 12 4 12 4 12\",\" 80 20\",\" 80 40 4 40\",\"  \",\"  \",\"  \",\"  \",\"  \",\"  \",\"  \",\"  \",\"  \",\"  \",\"  \",\"  \",\"  \",\"  \",\"  \",\"  \",\"  \",\"  \",\"  \"],\"fHeaderPS\":\"\",\"fTitlePS\":\"\",\"fFitFormat\":\"5.4g\",\"fPaintTextFormat\":\"g\",\"fLineScalePS\":3,\"fJoinLinePS\":0,\"fCapLinePS\":0,\"fTimeOffset\":788918400,\"fImageScaling\":1}],\"opt\":[\"\",\"\",\"blNDC\",\"\"]},\"fExecs\":null,\"fName\":\"c1_n3\",\"fTitle\":\"c1_n3\",\"fNumPaletteColor\":0,\"fNextPaletteColor\":0,\"fDISPLAY\":\"$DISPLAY\",\"fDoubleBuffer\":0,\"fRetained\":true,\"fXsizeUser\":0,\"fYsizeUser\":0,\"fXsizeReal\":20,\"fYsizeReal\":14.28571,\"fWindowTopX\":0,\"fWindowTopY\":0,\"fWindowWidth\":0,\"fWindowHeight\":0,\"fCw\":696,\"fCh\":472,\"fCatt\":{\"_typename\":\"TAttCanvas\",\"fXBetween\":2,\"fYBetween\":2,\"fTitleFromTop\":1.2,\"fXdate\":0.2,\"fYdate\":0.3,\"fAdate\":1},\"kMoveOpaque\":true,\"kResizeOpaque\":true,\"fHighLightColor\":2,\"fBatch\":true,\"kShowEventStatus\":false,\"kAutoExec\":true,\"kMenuBar\":true});\n",
       "            Core.draw(\"root_plot_1617313836506\", obj, \"\");\n",
       "        }\n",
       "    );\n",
       "}\n",
       "</script>\n"
      ],
      "text/plain": [
       "<IPython.core.display.HTML object>"
      ]
     },
     "metadata": {},
     "output_type": "display_data"
    }
   ],
   "source": [
    "c = R.TCanvas()\n",
    "h.Draw()\n",
    "c.Draw()"
   ]
  },
  {
   "cell_type": "code",
   "execution_count": 19,
   "id": "gorgeous-marketing",
   "metadata": {
    "ExecuteTime": {
     "end_time": "2021-04-01T21:50:45.735417Z",
     "start_time": "2021-04-01T21:50:45.625880Z"
    }
   },
   "outputs": [
    {
     "data": {
      "text/plain": [
       "396"
      ]
     },
     "execution_count": 19,
     "metadata": {},
     "output_type": "execute_result"
    }
   ],
   "source": [
    "func1.Write()"
   ]
  },
  {
   "cell_type": "code",
   "execution_count": 20,
   "id": "affecting-digest",
   "metadata": {
    "ExecuteTime": {
     "end_time": "2021-04-01T21:50:47.748230Z",
     "start_time": "2021-04-01T21:50:47.573301Z"
    }
   },
   "outputs": [
    {
     "data": {
      "text/plain": [
       "<cppyy.gbl.TFitResultPtr object at 0xc27f170>"
      ]
     },
     "execution_count": 20,
     "metadata": {},
     "output_type": "execute_result"
    },
    {
     "name": "stdout",
     "output_type": "stream",
     "text": [
      " FCN=0.157363 FROM MIGRAD    STATUS=CONVERGED     765 CALLS         766 TOTAL\n",
      "                     EDM=7.2759e-09    STRATEGY= 1      ERROR MATRIX ACCURATE \n",
      "  EXT PARAMETER                                   STEP         FIRST   \n",
      "  NO.   NAME      VALUE            ERROR          SIZE      DERIVATIVE \n",
      "   1  p0           5.30733e-01   1.69655e-01   2.79482e-05  -8.62378e-05\n",
      "   2  p1           4.52895e-01   6.20007e+00   8.68505e-04  -1.60119e-05\n",
      "   3  p2           1.37739e-02   1.00387e-01   1.24488e-05   4.97482e-04\n",
      "   4  p3          -6.81914e-05   1.68195e-04   3.02633e-08   2.57304e-01\n",
      "                               ERR DEF= 0.5\n"
     ]
    }
   ],
   "source": [
    "f.cd(\"/\")\n",
    "f.cd(\"njet7\")\n",
    "\n",
    "h = R.gDirectory.Get(\"ratio_mjj_zoom2\")\n",
    "\n",
    "\n",
    "func1 = R.TF1(\"fit_mjj\", \"[0]+ [1]*TMath::Exp(-[2]*(x)) + [3]*x\", 105, 1500)\n",
    "# #func1.SetLineColor(R.kRed)\n",
    "\n",
    "# func1.SetParameter(1,500)\n",
    "func1.SetParameter(0,0.6)\n",
    "func1.SetParameter(2,0.01)\n",
    "func1.SetParameter(3,-0.01)\n",
    "# func1.SetParameter(1,0.1)\n",
    "# func1.SetParameter(2,200)\n",
    "# # func1.SetParameter(2,)\n",
    "# func1.SetParameter(3,200)\n",
    "# func1.SetParameter(4,0.7)\n",
    "# func1.SetParameter(5,10)\n",
    "# func1.SetParameter(6,0.01)\n",
    "\n",
    "h.Fit(func1, \"RLS\")"
   ]
  },
  {
   "cell_type": "code",
   "execution_count": 21,
   "id": "involved-bumper",
   "metadata": {
    "ExecuteTime": {
     "end_time": "2021-04-01T21:50:51.549521Z",
     "start_time": "2021-04-01T21:50:51.431743Z"
    },
    "scrolled": false
   },
   "outputs": [
    {
     "data": {
      "text/html": [
       "\n",
       "<div id=\"root_plot_1617313851543\"\n",
       "     style=\"width: 696px; height: 472px\">\n",
       "</div>\n",
       "<script>\n",
       "if (typeof require !== 'undefined') {\n",
       "\n",
       "    // All requirements met (we are in jupyter notebooks or we loaded requirejs before).\n",
       "    display_root_plot_1617313851543();\n",
       "\n",
       "} else {\n",
       "\n",
       "    // We are in jupyterlab, we need to insert requirejs and configure it.\n",
       "    // Jupyterlab might be installed in a different base_url so we need to know it.\n",
       "    try {\n",
       "        var base_url = JSON.parse(document.getElementById('jupyter-config-data').innerHTML).baseUrl;\n",
       "    } catch(_) {\n",
       "        var base_url = '/';\n",
       "    }\n",
       "\n",
       "    // Try loading a local version of requirejs and fallback to cdn if not possible.\n",
       "    requirejs_load(base_url + 'static/components/requirejs/require.js', requirejs_success(base_url), function(){\n",
       "        requirejs_load('https://cdnjs.cloudflare.com/ajax/libs/require.js/2.2.0/require.min.js', requirejs_success(base_url), function(){\n",
       "            document.getElementById(\"root_plot_1617313851543\").innerHTML = \"Failed to load requireJs\";\n",
       "        });\n",
       "    });\n",
       "}\n",
       "\n",
       "function requirejs_load(src, on_load, on_error) {\n",
       "    var script = document.createElement('script');\n",
       "    script.src = src;\n",
       "    script.onload = on_load;\n",
       "    script.onerror = on_error;\n",
       "    document.head.appendChild(script);\n",
       "}\n",
       "\n",
       "function requirejs_success(base_url) {\n",
       "    return function() {\n",
       "        require.config({\n",
       "            baseUrl: base_url + 'static/'\n",
       "        });\n",
       "        display_root_plot_1617313851543();\n",
       "    }\n",
       "}\n",
       "\n",
       "function display_root_plot_1617313851543() {\n",
       "    require(['scripts/JSRootCore'],\n",
       "        function(Core) {\n",
       "            var obj = Core.JSONR_unref({\"_typename\":\"TCanvas\",\"fUniqueID\":0,\"fBits\":3342344,\"fLineColor\":1,\"fLineStyle\":1,\"fLineWidth\":1,\"fFillColor\":0,\"fFillStyle\":1001,\"fLeftMargin\":0.1,\"fRightMargin\":0.1,\"fBottomMargin\":0.1,\"fTopMargin\":0.1,\"fXfile\":2,\"fYfile\":2,\"fAfile\":1,\"fXstat\":0.99,\"fYstat\":0.99,\"fAstat\":2,\"fFrameFillColor\":0,\"fFrameLineColor\":1,\"fFrameFillStyle\":1001,\"fFrameLineStyle\":1,\"fFrameLineWidth\":1,\"fFrameBorderSize\":1,\"fFrameBorderMode\":0,\"fX1\":-131.250013504178,\"fY1\":-0.910174439934168,\"fX2\":1681.25001350418,\"fY2\":2.84240580364021,\"fXtoAbsPixelk\":50.4000544345858,\"fXtoPixelk\":50.4000544345858,\"fXtoPixel\":0.383999994277954,\"fYtoAbsPixelk\":357.518198110345,\"fYtoPixelk\":357.518198110345,\"fYtoPixel\":-125.780121773069,\"fUtoAbsPixelk\":5e-5,\"fUtoPixelk\":5e-5,\"fUtoPixel\":696,\"fVtoAbsPixelk\":472.00005,\"fVtoPixelk\":472,\"fVtoPixel\":-472,\"fAbsPixeltoXk\":-131.250013504178,\"fPixeltoXk\":-131.250013504178,\"fPixeltoX\":2.60416670547178,\"fAbsPixeltoYk\":2.84240580364021,\"fPixeltoYk\":-0.910174439934168,\"fPixeltoY\":-0.00795038187197962,\"fXlowNDC\":0,\"fYlowNDC\":0,\"fXUpNDC\":1,\"fYUpNDC\":1,\"fWNDC\":1,\"fHNDC\":1,\"fAbsXlowNDC\":0,\"fAbsYlowNDC\":0,\"fAbsWNDC\":1,\"fAbsHNDC\":1,\"fUxmin\":50,\"fUymin\":-0.534916393209608,\"fUxmax\":1500,\"fUymax\":2.46714775691565,\"fTheta\":30,\"fPhi\":30,\"fAspectRatio\":0,\"fNumber\":0,\"fTickx\":0,\"fTicky\":0,\"fLogx\":0,\"fLogy\":0,\"fLogz\":0,\"fPadPaint\":0,\"fCrosshair\":0,\"fCrosshairPos\":0,\"fBorderSize\":2,\"fBorderMode\":0,\"fModified\":false,\"fGridx\":false,\"fGridy\":false,\"fAbsCoord\":false,\"fEditable\":true,\"fFixedAspectRatio\":false,\"fPrimitives\":{\"_typename\":\"TList\",\"name\":\"TList\",\"arr\":[{\"_typename\":\"TFrame\",\"fUniqueID\":0,\"fBits\":8,\"fLineColor\":1,\"fLineStyle\":1,\"fLineWidth\":1,\"fFillColor\":0,\"fFillStyle\":1001,\"fX1\":50,\"fY1\":-0.534916393209608,\"fX2\":1500,\"fY2\":2.46714775691565,\"fBorderSize\":1,\"fBorderMode\":0},{\"_typename\":\"TH1D\",\"fUniqueID\":0,\"fBits\":8,\"fName\":\"ratio_mjj_zoom2\",\"fTitle\":\"mjj\",\"fLineColor\":602,\"fLineStyle\":1,\"fLineWidth\":1,\"fFillColor\":0,\"fFillStyle\":1001,\"fMarkerColor\":1,\"fMarkerStyle\":1,\"fMarkerSize\":1,\"fNcells\":202,\"fXaxis\":{\"_typename\":\"TAxis\",\"fUniqueID\":0,\"fBits\":0,\"fName\":\"xaxis\",\"fTitle\":\"\",\"fNdivisions\":510,\"fAxisColor\":1,\"fLabelColor\":1,\"fLabelFont\":42,\"fLabelOffset\":0.005,\"fLabelSize\":0.035,\"fTickLength\":0.03,\"fTitleOffset\":1,\"fTitleSize\":0.035,\"fTitleColor\":1,\"fTitleFont\":42,\"fNbins\":200,\"fXmin\":50,\"fXmax\":1500,\"fXbins\":[],\"fFirst\":0,\"fLast\":0,\"fBits2\":0,\"fTimeDisplay\":false,\"fTimeFormat\":\"\",\"fLabels\":null,\"fModLabs\":null},\"fYaxis\":{\"_typename\":\"TAxis\",\"fUniqueID\":0,\"fBits\":0,\"fName\":\"yaxis\",\"fTitle\":\"\",\"fNdivisions\":510,\"fAxisColor\":1,\"fLabelColor\":1,\"fLabelFont\":42,\"fLabelOffset\":0.005,\"fLabelSize\":0.035,\"fTickLength\":0.03,\"fTitleOffset\":0,\"fTitleSize\":0.035,\"fTitleColor\":1,\"fTitleFont\":42,\"fNbins\":1,\"fXmin\":0,\"fXmax\":1,\"fXbins\":[],\"fFirst\":0,\"fLast\":0,\"fBits2\":0,\"fTimeDisplay\":false,\"fTimeFormat\":\"\",\"fLabels\":null,\"fModLabs\":null},\"fZaxis\":{\"_typename\":\"TAxis\",\"fUniqueID\":0,\"fBits\":0,\"fName\":\"zaxis\",\"fTitle\":\"\",\"fNdivisions\":510,\"fAxisColor\":1,\"fLabelColor\":1,\"fLabelFont\":42,\"fLabelOffset\":0.005,\"fLabelSize\":0.035,\"fTickLength\":0.03,\"fTitleOffset\":1,\"fTitleSize\":0.035,\"fTitleColor\":1,\"fTitleFont\":42,\"fNbins\":1,\"fXmin\":0,\"fXmax\":1,\"fXbins\":[],\"fFirst\":0,\"fLast\":0,\"fBits2\":0,\"fTimeDisplay\":false,\"fTimeFormat\":\"\",\"fLabels\":null,\"fModLabs\":null},\"fBarOffset\":0,\"fBarWidth\":1000,\"fEntries\":4244.14676967254,\"fTsumw\":94.5698778803101,\"fTsumw2\":2.10724611745385,\"fTsumwx\":71744.0668448894,\"fTsumwx2\":70488252.4139482,\"fMaximum\":-1111,\"fMinimum\":-1111,\"fNormFactor\":0,\"fContour\":[],\"fSumw2\":[0,0,0,0,0,0,1.85362871673167,0.0344012417758547,0.0686100783270062,0.0119513035838549,0.0103410590158567,0.00268748093236491,0.0022225264818614,0.00204020079512113,0.0017719734411012,0.0010480502622484,9.31457840019386e-4,8.23407470260727e-4,7.09726417599972e-4,6.64975814825113e-4,5.60717494680135e-4,4.45368185562563e-4,3.95207791023167e-4,4.00550198598024e-4,3.77076067271302e-4,3.86134363526839e-4,3.26976965398018e-4,3.49010546648488e-4,3.19344136179328e-4,2.8297587508772e-4,3.30282577896969e-4,2.80311764479349e-4,2.97020762756643e-4,2.44669016583631e-4,2.77104667434154e-4,2.74127255818773e-4,2.83024895404162e-4,3.03463478703671e-4,2.6477260642825e-4,2.50343213271103e-4,2.77242865774014e-4,2.94506916855846e-4,2.65057754979032e-4,2.58105910296811e-4,2.68619621142464e-4,2.9394185613739e-4,2.87208267177879e-4,2.84498922676388e-4,3.02200091158073e-4,2.79624959249741e-4,2.78942985203739e-4,2.79347639556277e-4,3.02833627770914e-4,3.01031976443061e-4,2.88921502599584e-4,3.12661120309344e-4,3.07219690374938e-4,3.25694210065376e-4,2.94000596823315e-4,3.19624472536634e-4,3.35908439004737e-4,3.04701776572172e-4,3.18561232887505e-4,3.38652695903326e-4,3.40345054603311e-4,3.71835314280763e-4,3.25393673745902e-4,3.43893313933723e-4,3.638360853565e-4,3.30738996485476e-4,3.84658433420909e-4,3.56213427439794e-4,3.40693842679112e-4,3.43402260081475e-4,3.583123057501e-4,3.2274128069803e-4,3.80219817512113e-4,3.77057441278219e-4,3.71087341713156e-4,3.58407505924916e-4,3.51956000484862e-4,3.64001284950911e-4,4.2518011539276e-4,3.71283195045903e-4,4.07582831752419e-4,4.09635494915385e-4,4.26303609487146e-4,4.55380233824349e-4,3.93520656215815e-4,4.0545643547418e-4,4.32535087392238e-4,4.65813517430601e-4,4.31962166612917e-4,4.30315811661253e-4,5.00577897469797e-4,4.83984096845976e-4,4.77105661132655e-4,5.28589962448076e-4,4.86341633092609e-4,4.60545509048404e-4,4.91146563631636e-4,4.70573190638459e-4,5.0057682645632e-4,5.0616061141736e-4,5.50799289985855e-4,5.3371160670701e-4,5.00693610126622e-4,5.47972954951566e-4,5.73355896903396e-4,5.09302400007646e-4,5.57511364629412e-4,5.60802498206339e-4,4.96376837015225e-4,5.14756359598501e-4,5.44007096682008e-4,6.30598404559805e-4,6.11767879397905e-4,5.27227453546633e-4,6.61249289922547e-4,7.13561462587586e-4,6.19101618987638e-4,6.82680727045803e-4,6.58983052853001e-4,5.98755152083326e-4,7.01475767173073e-4,7.64720301751882e-4,6.49589473279469e-4,6.51164241302411e-4,6.84656314114637e-4,6.80822252145325e-4,7.53319729573712e-4,7.37056146585876e-4,5.21817081756948e-4,7.73651904139648e-4,7.74066284950226e-4,7.18585366740473e-4,7.18368550654093e-4,7.40883226924118e-4,5.99051912669227e-4,7.11207672081443e-4,6.43332677253707e-4,7.66267934583987e-4,6.87902607015318e-4,9.04880871288974e-4,7.51159352853755e-4,7.79230540623585e-4,7.37274592798482e-4,7.63545549745574e-4,7.3817271827269e-4,7.94078741020281e-4,7.54476471161082e-4,8.06564711664526e-4,8.46444312382113e-4,9.01699864160581e-4,7.46561924457018e-4,9.94050610145114e-4,9.28082837572919e-4,9.56423940600996e-4,9.13289707963992e-4,8.77526830705205e-4,0.00111464093092517,0.00101134685689408,8.81120345543253e-4,8.68262569353387e-4,9.05446408915467e-4,0.00100619981589339,0.00100696861797574,9.42049440997212e-4,0.00119135043826983,0.00105520940017143,8.68351565535166e-4,0.00113684380397679,9.1702274131207e-4,9.67023199195842e-4,9.77861494526143e-4,8.67966249670552e-4,0.001179553836669,0.00133670624314244,0.001158488391984,0.00101316381774846,0.00107685881858732,0.00154519377068761,0.00163751364679843,0.00107882908333982,0.00116945152847783,0.00137273658386545,0.00107705115161121,9.6363076332333e-4,0.00136243754168547,0.00112818933460165,0.00120184508407642,0.00100442799947808,0.00145875393826769,0.00131765050017089,0.00162227496262398,0.00160114758772209,0.00106932102615882,0.00114293131911675,0.00133015100094444,0.00167023189643414,1.413976500712e-7,1.33439509581202e-5],\"fOption\":\"\",\"fFunctions\":{\"_typename\":\"TList\",\"name\":\"TList\",\"arr\":[{\"_typename\":\"TF1\",\"fUniqueID\":0,\"fBits\":1024,\"fName\":\"fit_mjj\",\"fTitle\":\"[0]+ [1]*TMath::Exp(-[2]*(x)) + [3]*x\",\"fLineColor\":2,\"fLineStyle\":1,\"fLineWidth\":2,\"fFillColor\":19,\"fFillStyle\":0,\"fMarkerColor\":1,\"fMarkerStyle\":1,\"fMarkerSize\":1,\"fXmin\":105,\"fXmax\":1500,\"fNpar\":4,\"fNdim\":1,\"fNpx\":100,\"fType\":0,\"fNpfits\":192,\"fNDF\":188,\"fChisquare\":11168.7242180362,\"fMinimum\":-1111,\"fMaximum\":-1111,\"fParErrors\":[0.169655035900083,6.20006711904978,0.100386616847248,1.68194600318667e-4],\"fParMin\":[0,0,0,0],\"fParMax\":[0,0,0,0],\"fSave\":[0.630206960621303,0.610614677159479,0.594281097938272,0.580636556876617,0.569210973317583,0.559616443133877,0.551532873146272,0.544696126842216,0.538888242384998,0.533929360648731,0.529671064343245,0.525990881551074,0.52278775012137,0.519978274949803,0.517493639537146,0.51527705744966,0.513281669299076,0.511468807359241,0.509806563551518,0.508268607765922,0.506833212755899,0.505482449494824,0.504201523195199,0.502978225400778,0.50180248186048,0.500665979440131,0.499561858255138,0.498484457622578,0.497429106424342,0.496391950117669,0.495369807986603,0.494360055347852,0.493360526348668,0.492369433756992,0.491385302773381,0.490406916413508,0.489433270438556,0.488463536164391,0.487497029772203,0.486533186984065,0.485571542165548,0.484611711081496,0.483653376666311,0.482696277281801,0.481740197027707,0.480784957746092,0.479830412423462,0.478876439746292,0.477922939608321,0.476969829403234,0.476017040965428,0.475064518045581,0.474112214227521,0.473160091209257,0.472208117384514,0.471256266672221,0.470304517550639,0.469352852260321,0.468401256146416,0.46744971711594,0.466498225189929,0.465546772133878,0.464595351152787,0.463643956639513,0.46269258396712,0.461741229317524,0.460789889540092,0.459838562034968,0.458887244656783,0.45793593563521,0.4569846335094,0.456033337073878,0.455082045333905,0.454130757468633,0.453179472800713,0.452228190771204,0.451276910918874,0.450325632863124,0.449374356289887,0.448423080939999,0.447471806599602,0.446520533092223,0.44556926027224,0.444617988019485,0.4436667162348,0.44271544483636,0.441764173756644,0.440812902939935,0.439861632340254,0.438910361919664,0.437959091646856,0.437007821495996,0.436056551445765,0.435105281478573,0.434154011579904,0.433202741737777,0.43225147194231,0.431300202185345,0.430348932460152,0.429397662761176,0.428446393083834,105,1500],\"fNormalized\":false,\"fNormIntegral\":0,\"fFormula\":{\"_typename\":\"TFormula\",\"fUniqueID\":0,\"fBits\":1024,\"fName\":\"fit_mjj\",\"fTitle\":\"[0]+ [1]*TMath::Exp(-[2]*(x)) + [3]*x\",\"fClingParameters\":[0.530733443700668,0.452894653089869,0.0137739122575414,-6.81913673992594e-5],\"fAllParametersSetted\":true,\"fParams\":[{\"$pair\":\"pair<TString,int,TFormulaParamOrder>\",\"first\":\"p0\",\"second\":0},{\"$pair\":\"pair<TString,int,TFormulaParamOrder>\",\"first\":\"p1\",\"second\":1},{\"$pair\":\"pair<TString,int,TFormulaParamOrder>\",\"first\":\"p2\",\"second\":2},{\"$pair\":\"pair<TString,int,TFormulaParamOrder>\",\"first\":\"p3\",\"second\":3}],\"fFormula\":\"[p0]+[p1]*TMath::Exp(-[p2]*(x))+[p3]*x\",\"fNdim\":1,\"fLinearParts\":[],\"fVectorized\":false},\"fParams\":null,\"fComposition_ptr\":null},{\"_typename\":\"TPaveStats\",\"fUniqueID\":0,\"fBits\":9,\"fLineColor\":1,\"fLineStyle\":1,\"fLineWidth\":1,\"fFillColor\":0,\"fFillStyle\":1001,\"fX1\":1282.50003673136,\"fY1\":1.9980752712031,\"fX2\":1645.00004753471,\"fY2\":2.59848809675473,\"fX1NDC\":0.780000016093254,\"fY1NDC\":0.775000005960464,\"fX2NDC\":0.980000019073486,\"fY2NDC\":0.935000002384186,\"fBorderSize\":1,\"fInit\":1,\"fShadowColor\":1,\"fCornerRadius\":0,\"fOption\":\"brNDC\",\"fName\":\"stats\",\"fTextAngle\":0,\"fTextSize\":0,\"fTextAlign\":12,\"fTextColor\":1,\"fTextFont\":42,\"fLabel\":\"\",\"fLongest\":18,\"fMargin\":0.05,\"fLines\":{\"_typename\":\"TList\",\"name\":\"TList\",\"arr\":[{\"_typename\":\"TLatex\",\"fUniqueID\":0,\"fBits\":0,\"fName\":\"\",\"fTitle\":\"ratio_mjj_zoom2\",\"fTextAngle\":0,\"fTextSize\":0.0368,\"fTextAlign\":0,\"fTextColor\":0,\"fTextFont\":0,\"fX\":0,\"fY\":0,\"fLineColor\":1,\"fLineStyle\":1,\"fLineWidth\":2,\"fLimitFactorSize\":3,\"fOriginSize\":0.0368000008165836},{\"_typename\":\"TLatex\",\"fUniqueID\":0,\"fBits\":0,\"fName\":\"\",\"fTitle\":\"Entries = 4244   \",\"fTextAngle\":0,\"fTextSize\":0,\"fTextAlign\":0,\"fTextColor\":0,\"fTextFont\":0,\"fX\":0,\"fY\":0,\"fLineColor\":1,\"fLineStyle\":1,\"fLineWidth\":2,\"fLimitFactorSize\":3,\"fOriginSize\":0.04},{\"_typename\":\"TLatex\",\"fUniqueID\":0,\"fBits\":0,\"fName\":\"\",\"fTitle\":\"Mean  =  758.6\",\"fTextAngle\":0,\"fTextSize\":0,\"fTextAlign\":0,\"fTextColor\":0,\"fTextFont\":0,\"fX\":0,\"fY\":0,\"fLineColor\":1,\"fLineStyle\":1,\"fLineWidth\":2,\"fLimitFactorSize\":3,\"fOriginSize\":0.04},{\"_typename\":\"TLatex\",\"fUniqueID\":0,\"fBits\":0,\"fName\":\"\",\"fTitle\":\"Std Dev   =  412.1\",\"fTextAngle\":0,\"fTextSize\":0,\"fTextAlign\":0,\"fTextColor\":0,\"fTextFont\":0,\"fX\":0,\"fY\":0,\"fLineColor\":1,\"fLineStyle\":1,\"fLineWidth\":2,\"fLimitFactorSize\":3,\"fOriginSize\":0.04}],\"opt\":[\"\",\"\",\"\",\"\"]},\"fOptFit\":0,\"fOptStat\":1111,\"fFitFormat\":\"5.4g\",\"fStatFormat\":\"6.4g\",\"fParent\":{\"$ref\":3}}],\"opt\":[\"\",\"brNDC\"]},\"fBufferSize\":0,\"fBuffer\":[],\"fBinStatErrOpt\":0,\"fStatOverflows\":2,\"fArray\":[0,0,0,0,0,0,0.96271198100254,0.321253045106241,0.887414917612958,0.585204365369759,0.726916326403569,0.48914574612509,0.527048463793919,0.616528796726803,0.67600806779993,0.539845453245746,0.564682769961768,0.583861493365207,0.565685422838488,0.586804608616699,0.577129457573745,0.536879996813043,0.5097368676049,0.535456954754763,0.536757550066059,0.549302653845303,0.51307289268198,0.536832136320025,0.532410725590863,0.497709813978019,0.541276357695881,0.506755805513967,0.525567296485212,0.470228760004141,0.51644935151078,0.511379018304961,0.512439941143235,0.538225195766121,0.50238173593481,0.483485939497807,0.520199229218109,0.525573569947528,0.495178809337142,0.50016639684145,0.495203527246689,0.526941396015504,0.50854747154919,0.504495813468277,0.517494325121053,0.496348968658853,0.494415855919111,0.498008398768451,0.520762773969949,0.512536168726949,0.494754081810766,0.513489779813048,0.500603590890803,0.524940179667235,0.498495646477731,0.518404272407082,0.517522603089971,0.492397220534548,0.500855915405526,0.506099064588202,0.509135928800875,0.53276589539529,0.48696967945927,0.502349744051999,0.509815355197785,0.488579013576824,0.522868673773787,0.497882047309923,0.482238220303627,0.479735149861694,0.478570080338825,0.453600942322908,0.497736183483493,0.490606961442174,0.488117124355536,0.465549927273784,0.463940067162616,0.467061092891289,0.501092871247773,0.460155864782697,0.499318603041384,0.483302043692793,0.48667528661305,0.508266431114627,0.468106561987032,0.478223470660886,0.478843051245105,0.502797711321932,0.470332047108541,0.48330474395386,0.506593313995814,0.495594826502299,0.482479522949861,0.514100936539055,0.48577451085069,0.469879212977432,0.472545137395856,0.462137348219758,0.477755752634286,0.482777695847452,0.502047079668709,0.470417860037113,0.458110123276883,0.483346092760811,0.484811580272442,0.448439842252091,0.472370095000971,0.480083878989793,0.437130889030759,0.444272234303227,0.44521972452463,0.492798814077361,0.482523580355592,0.441520590270096,0.498770402672526,0.507989903690936,0.471824679339073,0.492015419665879,0.483821572053218,0.451713496954069,0.491955125626932,0.500233444752541,0.461320039041062,0.462572915965699,0.473022184181911,0.465909450319913,0.494496975371777,0.478096366062127,0.383278900616487,0.483639055778703,0.485925029440401,0.465714871982022,0.453736819018496,0.464842065417484,0.395781372324105,0.451941405054785,0.415558242488518,0.450785536571987,0.42532463137758,0.485791072430466,0.440761247065983,0.45028013937293,0.43274924773347,0.431477944304293,0.428753396330609,0.449780434424006,0.42159393733431,0.44902285668876,0.446015158399233,0.457674082797546,0.422568418777012,0.474772825199772,0.456267904110599,0.449606365530411,0.449216511607487,0.418411942018541,0.494792360414806,0.471785069180786,0.422321570739328,0.425652070668606,0.431699082840893,0.472967910890499,0.464861475855551,0.439188019219914,0.496988310211358,0.452541606234281,0.399483028520887,0.473517399161162,0.419421571903853,0.444592231548075,0.417475176875128,0.394101274446051,0.456759093376494,0.477367620826448,0.433606567353654,0.404843791967487,0.418170509623248,0.522681902865904,0.529317456135437,0.421547805230082,0.419113221518938,0.462266141211355,0.410872156941348,0.385084912417064,0.454327407682209,0.408910181472955,0.440030278836924,0.376291877488391,0.47024007696975,0.430397781548042,0.479207289711975,0.472333052062608,0.391602184305682,0.408236470061448,0.447818791821801,0.482477617859268,0.389275757384859,0.388650197050619]},{\"_typename\":\"TPaveText\",\"fUniqueID\":0,\"fBits\":9,\"fLineColor\":1,\"fLineStyle\":1,\"fLineWidth\":1,\"fFillColor\":0,\"fFillStyle\":0,\"fX1\":712.604165736896,\"fY1\":2.59467192240302,\"fX2\":837.395834263104,\"fY2\":2.82364292031604,\"fX1NDC\":0.465574712643678,\"fY1NDC\":0.933983055615829,\"fX2NDC\":0.534425287356322,\"fY2NDC\":0.995000004768372,\"fBorderSize\":0,\"fInit\":1,\"fShadowColor\":1,\"fCornerRadius\":0,\"fOption\":\"blNDC\",\"fName\":\"title\",\"fTextAngle\":0,\"fTextSize\":0,\"fTextAlign\":22,\"fTextColor\":1,\"fTextFont\":42,\"fLabel\":\"\",\"fLongest\":3,\"fMargin\":0.05,\"fLines\":{\"_typename\":\"TList\",\"name\":\"TList\",\"arr\":[{\"_typename\":\"TLatex\",\"fUniqueID\":0,\"fBits\":0,\"fName\":\"\",\"fTitle\":\"mjj\",\"fTextAngle\":0,\"fTextSize\":0,\"fTextAlign\":0,\"fTextColor\":0,\"fTextFont\":0,\"fX\":0,\"fY\":0,\"fLineColor\":1,\"fLineStyle\":1,\"fLineWidth\":2,\"fLimitFactorSize\":3,\"fOriginSize\":0.0518644079566002}],\"opt\":[\"\"]}},{\"_typename\":\"TStyle\",\"fUniqueID\":0,\"fBits\":0,\"fName\":\"Modern\",\"fTitle\":\"Modern Style\",\"fLineColor\":1,\"fLineStyle\":1,\"fLineWidth\":1,\"fFillColor\":19,\"fFillStyle\":1001,\"fMarkerColor\":1,\"fMarkerStyle\":1,\"fMarkerSize\":1,\"fTextAngle\":0,\"fTextSize\":0.05,\"fTextAlign\":11,\"fTextColor\":1,\"fTextFont\":62,\"fXaxis\":{\"_typename\":\"TAttAxis\",\"fNdivisions\":510,\"fAxisColor\":1,\"fLabelColor\":1,\"fLabelFont\":42,\"fLabelOffset\":0.005,\"fLabelSize\":0.035,\"fTickLength\":0.03,\"fTitleOffset\":1,\"fTitleSize\":0.035,\"fTitleColor\":1,\"fTitleFont\":42},\"fYaxis\":{\"_typename\":\"TAttAxis\",\"fNdivisions\":510,\"fAxisColor\":1,\"fLabelColor\":1,\"fLabelFont\":42,\"fLabelOffset\":0.005,\"fLabelSize\":0.035,\"fTickLength\":0.03,\"fTitleOffset\":0,\"fTitleSize\":0.035,\"fTitleColor\":1,\"fTitleFont\":42},\"fZaxis\":{\"_typename\":\"TAttAxis\",\"fNdivisions\":510,\"fAxisColor\":1,\"fLabelColor\":1,\"fLabelFont\":42,\"fLabelOffset\":0.005,\"fLabelSize\":0.035,\"fTickLength\":0.03,\"fTitleOffset\":1,\"fTitleSize\":0.035,\"fTitleColor\":1,\"fTitleFont\":42},\"fBarWidth\":1,\"fBarOffset\":0,\"fColorModelPS\":0,\"fDrawBorder\":0,\"fOptLogx\":0,\"fOptLogy\":0,\"fOptLogz\":0,\"fOptDate\":0,\"fOptStat\":1111,\"fOptTitle\":1,\"fOptFile\":0,\"fOptFit\":0,\"fShowEventStatus\":0,\"fShowEditor\":0,\"fShowToolBar\":0,\"fNumberContours\":20,\"fAttDate\":{\"_typename\":\"TAttText\",\"fTextAngle\":0,\"fTextSize\":0.025,\"fTextAlign\":11,\"fTextColor\":1,\"fTextFont\":62},\"fDateX\":0.01,\"fDateY\":0.01,\"fEndErrorSize\":2,\"fErrorX\":0.5,\"fFuncColor\":2,\"fFuncStyle\":1,\"fFuncWidth\":2,\"fGridColor\":0,\"fGridStyle\":3,\"fGridWidth\":1,\"fLegendBorderSize\":1,\"fLegendFillColor\":0,\"fLegendFont\":42,\"fLegendTextSize\":0,\"fHatchesLineWidth\":1,\"fHatchesSpacing\":1,\"fFrameFillColor\":0,\"fFrameLineColor\":1,\"fFrameFillStyle\":1001,\"fFrameLineStyle\":1,\"fFrameLineWidth\":1,\"fFrameBorderSize\":1,\"fFrameBorderMode\":0,\"fHistFillColor\":0,\"fHistLineColor\":602,\"fHistFillStyle\":1001,\"fHistLineStyle\":1,\"fHistLineWidth\":1,\"fHistMinimumZero\":false,\"fHistTopMargin\":0.05,\"fCanvasPreferGL\":false,\"fCanvasColor\":0,\"fCanvasBorderSize\":2,\"fCanvasBorderMode\":0,\"fCanvasDefH\":500,\"fCanvasDefW\":700,\"fCanvasDefX\":10,\"fCanvasDefY\":10,\"fPadColor\":0,\"fPadBorderSize\":2,\"fPadBorderMode\":0,\"fPadBottomMargin\":0.1,\"fPadTopMargin\":0.1,\"fPadLeftMargin\":0.1,\"fPadRightMargin\":0.1,\"fPadGridX\":false,\"fPadGridY\":false,\"fPadTickX\":0,\"fPadTickY\":0,\"fPaperSizeX\":20,\"fPaperSizeY\":26,\"fScreenFactor\":1,\"fStatColor\":0,\"fStatTextColor\":1,\"fStatBorderSize\":1,\"fStatFont\":42,\"fStatFontSize\":0,\"fStatStyle\":1001,\"fStatFormat\":\"6.4g\",\"fStatX\":0.98,\"fStatY\":0.935,\"fStatW\":0.2,\"fStatH\":0.16,\"fStripDecimals\":true,\"fTitleAlign\":23,\"fTitleColor\":0,\"fTitleTextColor\":1,\"fTitleBorderSize\":0,\"fTitleFont\":42,\"fTitleFontSize\":0.05,\"fTitleStyle\":0,\"fTitleX\":0.5,\"fTitleY\":0.995,\"fTitleW\":0,\"fTitleH\":0,\"fLegoInnerR\":0.5,\"fLineStyle\":[\"\",\"  \",\" 12 12\",\" 4 8\",\" 12 16 4 16\",\" 20 12 4 12\",\" 20 12 4 12 4 12 4 12\",\" 20 20\",\" 20 12 4 12 4 12\",\" 80 20\",\" 80 40 4 40\",\"  \",\"  \",\"  \",\"  \",\"  \",\"  \",\"  \",\"  \",\"  \",\"  \",\"  \",\"  \",\"  \",\"  \",\"  \",\"  \",\"  \",\"  \",\"  \"],\"fHeaderPS\":\"\",\"fTitlePS\":\"\",\"fFitFormat\":\"5.4g\",\"fPaintTextFormat\":\"g\",\"fLineScalePS\":3,\"fJoinLinePS\":0,\"fCapLinePS\":0,\"fTimeOffset\":788918400,\"fImageScaling\":1}],\"opt\":[\"\",\"\",\"blNDC\",\"\"]},\"fExecs\":null,\"fName\":\"c1_n4\",\"fTitle\":\"c1_n4\",\"fNumPaletteColor\":0,\"fNextPaletteColor\":0,\"fDISPLAY\":\"$DISPLAY\",\"fDoubleBuffer\":0,\"fRetained\":true,\"fXsizeUser\":0,\"fYsizeUser\":0,\"fXsizeReal\":20,\"fYsizeReal\":14.28571,\"fWindowTopX\":0,\"fWindowTopY\":0,\"fWindowWidth\":0,\"fWindowHeight\":0,\"fCw\":696,\"fCh\":472,\"fCatt\":{\"_typename\":\"TAttCanvas\",\"fXBetween\":2,\"fYBetween\":2,\"fTitleFromTop\":1.2,\"fXdate\":0.2,\"fYdate\":0.3,\"fAdate\":1},\"kMoveOpaque\":true,\"kResizeOpaque\":true,\"fHighLightColor\":2,\"fBatch\":true,\"kShowEventStatus\":false,\"kAutoExec\":true,\"kMenuBar\":true});\n",
       "            Core.draw(\"root_plot_1617313851543\", obj, \"\");\n",
       "        }\n",
       "    );\n",
       "}\n",
       "</script>\n"
      ],
      "text/plain": [
       "<IPython.core.display.HTML object>"
      ]
     },
     "metadata": {},
     "output_type": "display_data"
    }
   ],
   "source": [
    "c = R.TCanvas()\n",
    "h.Draw()\n",
    "c.Draw()"
   ]
  },
  {
   "cell_type": "code",
   "execution_count": 22,
   "id": "developmental-footage",
   "metadata": {
    "ExecuteTime": {
     "end_time": "2021-04-01T21:50:56.579487Z",
     "start_time": "2021-04-01T21:50:56.470754Z"
    }
   },
   "outputs": [
    {
     "data": {
      "text/plain": [
       "396"
      ]
     },
     "execution_count": 22,
     "metadata": {},
     "output_type": "execute_result"
    }
   ],
   "source": [
    "func1.Write()"
   ]
  },
  {
   "cell_type": "code",
   "execution_count": 26,
   "id": "swedish-rotation",
   "metadata": {
    "ExecuteTime": {
     "end_time": "2021-04-01T21:51:32.849147Z",
     "start_time": "2021-04-01T21:51:32.712264Z"
    }
   },
   "outputs": [
    {
     "data": {
      "text/plain": [
       "<cppyy.gbl.TFitResultPtr object at 0xd044960>"
      ]
     },
     "execution_count": 26,
     "metadata": {},
     "output_type": "execute_result"
    },
    {
     "name": "stdout",
     "output_type": "stream",
     "text": [
      " FCN=0.565501 FROM MIGRAD    STATUS=CONVERGED     464 CALLS         465 TOTAL\n",
      "                     EDM=2.02509e-07    STRATEGY= 1  ERROR MATRIX UNCERTAINTY  14.1 per cent\n",
      "  EXT PARAMETER                                   STEP         FIRST   \n",
      "  NO.   NAME      VALUE            ERROR          SIZE      DERIVATIVE \n",
      "   1  p0           4.10764e-01   1.28350e-01  -1.67674e-04   7.64696e-03\n",
      "   2  p1           4.51278e-01   1.07735e+00   3.37792e-03  -2.40138e-04\n",
      "   3  p2           1.03847e-02   3.60870e-04   8.55411e-07   9.46197e-01\n",
      "   4  p3          -8.99440e-05   1.29188e-04   2.43397e-07   5.21118e+00\n",
      "                               ERR DEF= 0.5\n"
     ]
    }
   ],
   "source": [
    "f.cd(\"/\")\n",
    "f.cd(\"njet8\")\n",
    "\n",
    "h = R.gDirectory.Get(\"ratio_mjj_zoom2\")\n",
    "\n",
    "\n",
    "func1 = R.TF1(\"fit_mjj\", \"[0]+ [1]*TMath::Exp(-[2]*(x)) + [3]*x\", 110, 1500)\n",
    "# #func1.SetLineColor(R.kRed1\n",
    "\n",
    "# func1.SetParameter(1,500)\n",
    "func1.SetParameter(0,0.6)\n",
    "func1.SetParameter(2,0.01)\n",
    "func1.SetParameter(3,-0.01)\n",
    "# func1.SetParameter(1,0.1)\n",
    "# func1.SetParameter(2,200)\n",
    "# # func1.SetParameter(2,)\n",
    "# func1.SetParameter(3,200)\n",
    "# func1.SetParameter(4,0.7)\n",
    "# func1.SetParameter(5,10)\n",
    "# func1.SetParameter(6,0.01)\n",
    "\n",
    "h.Fit(func1, \"RLS\")"
   ]
  },
  {
   "cell_type": "code",
   "execution_count": 27,
   "id": "premier-portland",
   "metadata": {
    "ExecuteTime": {
     "end_time": "2021-04-01T21:51:35.257035Z",
     "start_time": "2021-04-01T21:51:35.137072Z"
    }
   },
   "outputs": [
    {
     "data": {
      "text/html": [
       "\n",
       "<div id=\"root_plot_1617313895250\"\n",
       "     style=\"width: 696px; height: 472px\">\n",
       "</div>\n",
       "<script>\n",
       "if (typeof require !== 'undefined') {\n",
       "\n",
       "    // All requirements met (we are in jupyter notebooks or we loaded requirejs before).\n",
       "    display_root_plot_1617313895250();\n",
       "\n",
       "} else {\n",
       "\n",
       "    // We are in jupyterlab, we need to insert requirejs and configure it.\n",
       "    // Jupyterlab might be installed in a different base_url so we need to know it.\n",
       "    try {\n",
       "        var base_url = JSON.parse(document.getElementById('jupyter-config-data').innerHTML).baseUrl;\n",
       "    } catch(_) {\n",
       "        var base_url = '/';\n",
       "    }\n",
       "\n",
       "    // Try loading a local version of requirejs and fallback to cdn if not possible.\n",
       "    requirejs_load(base_url + 'static/components/requirejs/require.js', requirejs_success(base_url), function(){\n",
       "        requirejs_load('https://cdnjs.cloudflare.com/ajax/libs/require.js/2.2.0/require.min.js', requirejs_success(base_url), function(){\n",
       "            document.getElementById(\"root_plot_1617313895250\").innerHTML = \"Failed to load requireJs\";\n",
       "        });\n",
       "    });\n",
       "}\n",
       "\n",
       "function requirejs_load(src, on_load, on_error) {\n",
       "    var script = document.createElement('script');\n",
       "    script.src = src;\n",
       "    script.onload = on_load;\n",
       "    script.onerror = on_error;\n",
       "    document.head.appendChild(script);\n",
       "}\n",
       "\n",
       "function requirejs_success(base_url) {\n",
       "    return function() {\n",
       "        require.config({\n",
       "            baseUrl: base_url + 'static/'\n",
       "        });\n",
       "        display_root_plot_1617313895250();\n",
       "    }\n",
       "}\n",
       "\n",
       "function display_root_plot_1617313895250() {\n",
       "    require(['scripts/JSRootCore'],\n",
       "        function(Core) {\n",
       "            var obj = Core.JSONR_unref({\"_typename\":\"TCanvas\",\"fUniqueID\":0,\"fBits\":3342344,\"fLineColor\":1,\"fLineStyle\":1,\"fLineWidth\":1,\"fFillColor\":0,\"fFillStyle\":1001,\"fLeftMargin\":0.1,\"fRightMargin\":0.1,\"fBottomMargin\":0.1,\"fTopMargin\":0.1,\"fXfile\":2,\"fYfile\":2,\"fAfile\":1,\"fXstat\":0.99,\"fYstat\":0.99,\"fAstat\":2,\"fFrameFillColor\":0,\"fFrameLineColor\":1,\"fFrameFillStyle\":1001,\"fFrameLineStyle\":1,\"fFrameLineWidth\":1,\"fFrameBorderSize\":1,\"fFrameBorderMode\":0,\"fX1\":-131.250013504178,\"fY1\":-0.141216662590607,\"fX2\":1681.25001350418,\"fY2\":1.27094987914378,\"fXtoAbsPixelk\":50.4000544345858,\"fXtoPixelk\":50.4000544345858,\"fXtoPixel\":0.383999994277954,\"fYtoAbsPixelk\":424.800047186661,\"fYtoPixelk\":424.800047186661,\"fYtoPixel\":-334.238197868859,\"fUtoAbsPixelk\":5e-5,\"fUtoPixelk\":5e-5,\"fUtoPixel\":696,\"fVtoAbsPixelk\":472.00005,\"fVtoPixelk\":472,\"fVtoPixel\":-472,\"fAbsPixeltoXk\":-131.250013504178,\"fPixeltoXk\":-131.250013504178,\"fPixeltoX\":2.60416670547178,\"fAbsPixeltoYk\":1.27094987914378,\"fPixeltoYk\":-0.141216662590607,\"fPixeltoY\":-0.00299187826638641,\"fXlowNDC\":0,\"fYlowNDC\":0,\"fXUpNDC\":1,\"fYUpNDC\":1,\"fWNDC\":1,\"fHNDC\":1,\"fAbsXlowNDC\":0,\"fAbsYlowNDC\":0,\"fAbsWNDC\":1,\"fAbsHNDC\":1,\"fUxmin\":50,\"fUymin\":0,\"fUxmax\":1500,\"fUymax\":1.12973321655317,\"fTheta\":30,\"fPhi\":30,\"fAspectRatio\":0,\"fNumber\":0,\"fTickx\":0,\"fTicky\":0,\"fLogx\":0,\"fLogy\":0,\"fLogz\":0,\"fPadPaint\":0,\"fCrosshair\":0,\"fCrosshairPos\":0,\"fBorderSize\":2,\"fBorderMode\":0,\"fModified\":false,\"fGridx\":false,\"fGridy\":false,\"fAbsCoord\":false,\"fEditable\":true,\"fFixedAspectRatio\":false,\"fPrimitives\":{\"_typename\":\"TList\",\"name\":\"TList\",\"arr\":[{\"_typename\":\"TFrame\",\"fUniqueID\":0,\"fBits\":8,\"fLineColor\":1,\"fLineStyle\":1,\"fLineWidth\":1,\"fFillColor\":0,\"fFillStyle\":1001,\"fX1\":50,\"fY1\":0,\"fX2\":1500,\"fY2\":1.12973321655317,\"fBorderSize\":1,\"fBorderMode\":0},{\"_typename\":\"TH1D\",\"fUniqueID\":0,\"fBits\":8,\"fName\":\"ratio_mjj_zoom2\",\"fTitle\":\"mjj\",\"fLineColor\":602,\"fLineStyle\":1,\"fLineWidth\":1,\"fFillColor\":0,\"fFillStyle\":1001,\"fMarkerColor\":1,\"fMarkerStyle\":1,\"fMarkerSize\":1,\"fNcells\":202,\"fXaxis\":{\"_typename\":\"TAxis\",\"fUniqueID\":0,\"fBits\":0,\"fName\":\"xaxis\",\"fTitle\":\"\",\"fNdivisions\":510,\"fAxisColor\":1,\"fLabelColor\":1,\"fLabelFont\":42,\"fLabelOffset\":0.005,\"fLabelSize\":0.035,\"fTickLength\":0.03,\"fTitleOffset\":1,\"fTitleSize\":0.035,\"fTitleColor\":1,\"fTitleFont\":42,\"fNbins\":200,\"fXmin\":50,\"fXmax\":1500,\"fXbins\":[],\"fFirst\":0,\"fLast\":0,\"fBits2\":0,\"fTimeDisplay\":false,\"fTimeFormat\":\"\",\"fLabels\":null,\"fModLabs\":null},\"fYaxis\":{\"_typename\":\"TAxis\",\"fUniqueID\":0,\"fBits\":0,\"fName\":\"yaxis\",\"fTitle\":\"\",\"fNdivisions\":510,\"fAxisColor\":1,\"fLabelColor\":1,\"fLabelFont\":42,\"fLabelOffset\":0.005,\"fLabelSize\":0.035,\"fTickLength\":0.03,\"fTitleOffset\":0,\"fTitleSize\":0.035,\"fTitleColor\":1,\"fTitleFont\":42,\"fNbins\":1,\"fXmin\":0,\"fXmax\":1,\"fXbins\":[],\"fFirst\":0,\"fLast\":0,\"fBits2\":0,\"fTimeDisplay\":false,\"fTimeFormat\":\"\",\"fLabels\":null,\"fModLabs\":null},\"fZaxis\":{\"_typename\":\"TAxis\",\"fUniqueID\":0,\"fBits\":0,\"fName\":\"zaxis\",\"fTitle\":\"\",\"fNdivisions\":510,\"fAxisColor\":1,\"fLabelColor\":1,\"fLabelFont\":42,\"fLabelOffset\":0.005,\"fLabelSize\":0.035,\"fTickLength\":0.03,\"fTitleOffset\":1,\"fTitleSize\":0.035,\"fTitleColor\":1,\"fTitleFont\":42,\"fNbins\":1,\"fXmin\":0,\"fXmax\":1,\"fXbins\":[],\"fFirst\":0,\"fLast\":0,\"fBits2\":0,\"fTimeDisplay\":false,\"fTimeFormat\":\"\",\"fLabels\":null,\"fModLabs\":null},\"fBarOffset\":0,\"fBarWidth\":1000,\"fEntries\":7569.96209591438,\"fTsumw\":66.9319335152098,\"fTsumw2\":0.591797378549931,\"fTsumwx\":49846.6255266253,\"fTsumwx2\":48130625.336277,\"fMaximum\":-1111,\"fMinimum\":-1111,\"fNormFactor\":0,\"fContour\":[],\"fSumw2\":[0,0,0,0,0,0,0,0,0,0.0701201120010289,0.157947385451604,0.0593658277970463,0.0267667674695259,0.00799814785644322,0.0123349902675854,0.0215629973842961,0.0046418030683431,0.00750570429139824,0.00335618323339032,0.00476468248258491,0.00237476058074602,0.00364547878887932,0.0029482592008627,0.00130838579399905,0.00156511276140787,0.00185116844103387,0.00138187717188035,0.00123739462297458,0.00136928794579377,0.00127218804459711,0.00125534875140231,0.00112172341281464,0.00104443414553263,9.5500309161977e-4,9.29902274762841e-4,8.54098738444951e-4,8.5319960489423e-4,0.00106160119632685,9.42714122552081e-4,0.00102509880135212,7.83793034988085e-4,8.72208217724357e-4,7.46985418717828e-4,7.37965068797122e-4,7.77470763614768e-4,7.0740552074906e-4,7.80281534605878e-4,8.79114657676333e-4,7.52989942173477e-4,6.72507340878235e-4,9.27779535108178e-4,6.51830461350395e-4,7.41862594999546e-4,6.51729688677067e-4,6.88062386578853e-4,6.41990895512347e-4,7.92941204351661e-4,6.50031987741107e-4,8.09982569001438e-4,6.81041125378728e-4,9.89348454824628e-4,6.32734669308001e-4,7.43562983795013e-4,7.14275000347185e-4,6.73851472982479e-4,9.49128123487549e-4,6.71401853837186e-4,7.25584151221445e-4,9.27238543488366e-4,9.0255104511066e-4,6.69562064822923e-4,7.79577345017036e-4,8.30084486458769e-4,7.9186504301127e-4,6.97877601768518e-4,7.03977461252143e-4,9.73021760384308e-4,8.11020637602996e-4,8.36649342775887e-4,8.18459601518339e-4,8.18778496307104e-4,8.40320882932456e-4,7.99339832293797e-4,7.60564508402785e-4,9.60589322817936e-4,8.31635659383127e-4,8.08622727126106e-4,9.1632783255629e-4,8.24003114381021e-4,9.58090307325283e-4,7.58121836758666e-4,6.81860717995273e-4,5.71044350390407e-4,7.99705932366942e-4,5.92275979872784e-4,8.1959259505497e-4,0.00111182034389879,9.89981258613922e-4,9.35269370941258e-4,7.3240267496954e-4,8.88179530961112e-4,7.77479816246571e-4,9.26404847856614e-4,9.25193189683134e-4,0.00114944545420662,9.28697332776096e-4,9.3903545176745e-4,8.21299889651949e-4,9.28849960632088e-4,9.05850993236647e-4,9.2348800109031e-4,8.59164335166821e-4,8.62301413818318e-4,0.00102274621659637,0.00106804739672461,9.35630404406604e-4,8.52746202553745e-4,0.00112925104551351,0.00114701047764036,0.0010471362405007,8.33328018726044e-4,9.74587405198732e-4,9.57369834844779e-4,0.00160374693318475,0.00113540976456077,8.04625801265146e-4,0.00118745494547774,0.00113299161064162,0.00125793665533985,0.00118821664469206,0.00103671753404282,9.15302970136887e-4,0.00114800242061751,0.00114655057413635,0.00127057201486519,0.00102926552899654,0.00152174027819107,0.00119251064185114,9.28529732362505e-4,8.90146699199924e-4,0.00103508224932389,0.00100158345434704,0.00103945918688836,0.00115301494181709,0.00139928055411465,0.00170820318321397,0.00187277370258828,0.00132709489281116,0.00131585893236588,0.00129256635766505,0.00142564791072423,0.00113698487382183,0.00174231514405717,0.00155164409974658,0.0014262731007702,0.0018331873571016,0.00164473406850304,0.00140082557444605,0.00175568118663161,0.00132886677814969,0.00165251392567741,0.00162091632453508,9.2602691421509e-4,0.00136910542756674,0.00153744110998019,0.00198970963405739,0.00147146821334294,0.00210238394546302,0.00121127252217599,0.00153478155525329,0.00143737376171246,0.00169411086799394,0.00119830146250547,0.00135902346404345,0.00161634664569097,0.00123524026740372,0.00154285457866289,0.0018891947699461,0.00131330492173383,0.00110426479570412,0.00233101056069661,0.00142059531059148,0.00263921353860242,0.00156633261404851,0.00290660791998226,0.00119961741421368,0.00242473418888583,0.00201645333849017,0.00140122590756716,0.00197850814571645,0.00265769983199612,0.00223362935787731,0.00193463234871686,0.00211791775362309,0.00125267189677163,0.0018181540048069,0.00162061713479602,0.00157846289500847,0.00192635602333726,0.00272128552072645,2.43846211899037e-7,1.83645597246598e-5],\"fOption\":\"\",\"fFunctions\":{\"_typename\":\"TList\",\"name\":\"TList\",\"arr\":[{\"_typename\":\"TPaveStats\",\"fUniqueID\":0,\"fBits\":9,\"fLineColor\":1,\"fLineStyle\":1,\"fLineWidth\":1,\"fFillColor\":0,\"fFillStyle\":1001,\"fX1\":1282.50003673136,\"fY1\":0.953212415670709,\"fX2\":1645.00004753471,\"fY2\":1.17915905729791,\"fX1NDC\":0.780000016093254,\"fY1NDC\":0.775000005960464,\"fX2NDC\":0.980000019073486,\"fY2NDC\":0.935000002384186,\"fBorderSize\":1,\"fInit\":1,\"fShadowColor\":1,\"fCornerRadius\":0,\"fOption\":\"brNDC\",\"fName\":\"stats\",\"fTextAngle\":0,\"fTextSize\":0,\"fTextAlign\":12,\"fTextColor\":1,\"fTextFont\":42,\"fLabel\":\"\",\"fLongest\":18,\"fMargin\":0.05,\"fLines\":{\"_typename\":\"TList\",\"name\":\"TList\",\"arr\":[{\"_typename\":\"TLatex\",\"fUniqueID\":0,\"fBits\":0,\"fName\":\"\",\"fTitle\":\"ratio_mjj_zoom2\",\"fTextAngle\":0,\"fTextSize\":0.0368,\"fTextAlign\":0,\"fTextColor\":0,\"fTextFont\":0,\"fX\":0,\"fY\":0,\"fLineColor\":1,\"fLineStyle\":1,\"fLineWidth\":2,\"fLimitFactorSize\":3,\"fOriginSize\":0.0368000008165836},{\"_typename\":\"TLatex\",\"fUniqueID\":0,\"fBits\":0,\"fName\":\"\",\"fTitle\":\"Entries = 7570   \",\"fTextAngle\":0,\"fTextSize\":0,\"fTextAlign\":0,\"fTextColor\":0,\"fTextFont\":0,\"fX\":0,\"fY\":0,\"fLineColor\":1,\"fLineStyle\":1,\"fLineWidth\":2,\"fLimitFactorSize\":3,\"fOriginSize\":0.04},{\"_typename\":\"TLatex\",\"fUniqueID\":0,\"fBits\":0,\"fName\":\"\",\"fTitle\":\"Mean  =  744.7\",\"fTextAngle\":0,\"fTextSize\":0,\"fTextAlign\":0,\"fTextColor\":0,\"fTextFont\":0,\"fX\":0,\"fY\":0,\"fLineColor\":1,\"fLineStyle\":1,\"fLineWidth\":2,\"fLimitFactorSize\":3,\"fOriginSize\":0.04},{\"_typename\":\"TLatex\",\"fUniqueID\":0,\"fBits\":0,\"fName\":\"\",\"fTitle\":\"Std Dev   =  405.5\",\"fTextAngle\":0,\"fTextSize\":0,\"fTextAlign\":0,\"fTextColor\":0,\"fTextFont\":0,\"fX\":0,\"fY\":0,\"fLineColor\":1,\"fLineStyle\":1,\"fLineWidth\":2,\"fLimitFactorSize\":3,\"fOriginSize\":0.04}],\"opt\":[\"\",\"\",\"\",\"\"]},\"fOptFit\":0,\"fOptStat\":1111,\"fFitFormat\":\"5.4g\",\"fStatFormat\":\"6.4g\",\"fParent\":{\"$ref\":3}},{\"_typename\":\"TF1\",\"fUniqueID\":0,\"fBits\":1024,\"fName\":\"fit_mjj\",\"fTitle\":\"[0]+ [1]*TMath::Exp(-[2]*(x)) + [3]*x\",\"fLineColor\":2,\"fLineStyle\":1,\"fLineWidth\":2,\"fFillColor\":19,\"fFillStyle\":0,\"fMarkerColor\":1,\"fMarkerStyle\":1,\"fMarkerSize\":1,\"fXmin\":110,\"fXmax\":1500,\"fNpar\":4,\"fNdim\":1,\"fNpx\":100,\"fType\":0,\"fNpfits\":192,\"fNDF\":188,\"fChisquare\":3557.29281640104,\"fMinimum\":-1111,\"fMaximum\":-1111,\"fParErrors\":[0.128350002064603,1.07735380681211,3.6087024328317e-4,1.29188098550318e-4],\"fParMin\":[0,0,0,0],\"fParMax\":[0,0,0,0],\"fSave\":[0.544863930216277,0.524259161052481,0.506255889271102,0.490504440529144,0.476702141163671,0.464587000702492,0.453932243525774,0.444541575541905,0.436245087082326,0.428895706499431,0.422366130446016,0.416546166764221,0.411340434524009,0.40666637320572,0.402452519473828,0.398637015574214,0.395166318221838,0.391994081030314,0.389080187157178,0.386389911973941,0.383893198283928,0.381564028960067,0.379379883908141,0.377321270021086,0.375371314313404,0.3735154117435,0.371740920373163,0.370036897501505,0.368393871265842,0.366803642942332,0.365259115819914,0.363754147075778,0.362283419560642,0.360842330817731,0.35942689701901,0.358033669813612,0.356659664352894,0.355302296989844,0.353959331352473,0.352628831665641,0.351309122347009,0.349998753033823,0.348696468310532,0.347401181505407,0.346111952009222,0.344827965642599,0.343548517662224,0.34227299805125,0.341000878786856,0.339731702819203,0.338465074531768,0.337200651483918,0.335938137263399,0.334677275299535,0.333417843508013,0.332159649655475,0.330902527347175,0.329646332553934,0.32839094060593,0.327136243590549,0.325882148100007,0.324628573281712,0.323375449150692,0.322122715128842,0.320870318780528,0.319618214718131,0.318366363654704,0.317114731583969,0.315863289070521,0.31461201063545,0.313360874224534,0.312109860747921,0.310858953681675,0.309608138722891,0.308357403491152,0.307106737270131,0.305856130783909,0.304605576003369,0.303355065978609,0.302104594693883,0.300854156942039,0.299603748215829,0.29835336461384,0.297103002759056,0.295852659728377,0.294602332991604,0.293352020358628,0.292101719933719,0.290851430075958,0.289601149364986,0.288350876571357,0.287100610630882,0.285850350622407,0.284600095748598,0.283349845319289,0.282099598737083,0.280849355484881,0.279599115115088,0.278348877240271,0.277098641525074,0.275848407679216,110,1500],\"fNormalized\":false,\"fNormIntegral\":0,\"fFormula\":{\"_typename\":\"TFormula\",\"fUniqueID\":0,\"fBits\":1024,\"fName\":\"fit_mjj\",\"fTitle\":\"[0]+ [1]*TMath::Exp(-[2]*(x)) + [3]*x\",\"fClingParameters\":[0.410764352574232,0.451277533190319,0.0103846811276079,-8.99440149451746e-5],\"fAllParametersSetted\":true,\"fParams\":[{\"$pair\":\"pair<TString,int,TFormulaParamOrder>\",\"first\":\"p0\",\"second\":0},{\"$pair\":\"pair<TString,int,TFormulaParamOrder>\",\"first\":\"p1\",\"second\":1},{\"$pair\":\"pair<TString,int,TFormulaParamOrder>\",\"first\":\"p2\",\"second\":2},{\"$pair\":\"pair<TString,int,TFormulaParamOrder>\",\"first\":\"p3\",\"second\":3}],\"fFormula\":\"[p0]+[p1]*TMath::Exp(-[p2]*(x))+[p3]*x\",\"fNdim\":1,\"fLinearParts\":[],\"fVectorized\":false},\"fParams\":null,\"fComposition_ptr\":null}],\"opt\":[\"brNDC\",\"\"]},\"fBufferSize\":0,\"fBuffer\":[],\"fBinStatErrOpt\":0,\"fStatOverflows\":2,\"fArray\":[0,0,0,0,0,0,0,0,0,0.324314373880387,0.678510447071834,0.604416798178006,0.49668794367671,0.327810591763094,0.46527000066189,0.763656672054146,0.390034919581481,0.586059071491013,0.401581765276108,0.520443554853808,0.391998883277601,0.55161285167374,0.514789152467711,0.34268160920459,0.406759056693523,0.442322393772562,0.403316018225829,0.402017133354527,0.426444766466331,0.431184890648239,0.426231081117026,0.420758645716804,0.390383329300763,0.386049589366862,0.395550098271379,0.370553487092219,0.379035429098083,0.436204828481328,0.398935697955545,0.440129852140079,0.365371653095948,0.398452929053108,0.373770098501412,0.380500349345457,0.387464164645599,0.366257885293988,0.396123465384788,0.410393045602353,0.377579937248724,0.357614494858656,0.440482915647629,0.348612678359694,0.390632323770063,0.350520918706822,0.355344778225854,0.345620422997693,0.392707580178248,0.35041539584287,0.398627972236274,0.363098417602826,0.452786392144832,0.339551525328315,0.367720437816131,0.373373311688724,0.358693867842818,0.422603952557962,0.349618967864196,0.353487831072138,0.422086851414637,0.417903265439595,0.325581402634088,0.367336306400581,0.371350862023146,0.365789860863533,0.344884738955946,0.336008585570093,0.402655304757358,0.375375976625579,0.379946021320298,0.370993118716186,0.366609179330539,0.371584189555959,0.346255367128951,0.340737874749267,0.385340430105793,0.346446594440671,0.352972202506093,0.374771688720939,0.343057250473712,0.37686231343338,0.331186404755472,0.309709388566381,0.271007696242375,0.321394367665114,0.262967838028981,0.325433692698838,0.398381879412516,0.360926315162725,0.362649178280499,0.304464489037543,0.334243634791621,0.305073556456216,0.341570680461866,0.345665611102651,0.37445516807602,0.338629053729557,0.348508021295329,0.305435489636928,0.318854420423888,0.325455071102585,0.331454209751538,0.30261429127093,0.310955583806281,0.329517864425601,0.352048099147012,0.309056271831256,0.283123927269244,0.360741806162978,0.360767926248112,0.333286589152597,0.287344358304383,0.310103689346785,0.302594023061937,0.414449188019183,0.332234054154935,0.26911813873632,0.359467652839043,0.331894807360598,0.339795894266788,0.344599661321137,0.288253891451779,0.282171407321649,0.307691094264067,0.311116077492709,0.342586841537261,0.291708929344715,0.366621347136126,0.303658391961071,0.263412929084301,0.243826538040972,0.290949081994218,0.275122222257828,0.270598655688227,0.299242521999866,0.326528435397939,0.370792510637848,0.371894599081846,0.316901628353552,0.285173234987816,0.305971825677066,0.317241162847921,0.282012107443667,0.356376520303952,0.350478098421595,0.317123596714547,0.371966761322679,0.333850201883514,0.303268675537271,0.335627561929146,0.283921207726873,0.344129763035081,0.300892276342408,0.224686377027757,0.292311337951272,0.309618630728321,0.34365062756795,0.29886299636194,0.361882416449254,0.258852804005077,0.290602755129839,0.275634475685456,0.302741258168167,0.2589824873829,0.277965513933159,0.292851797262637,0.234330644202144,0.262270193809135,0.311941356200001,0.257876148882981,0.222328614358134,0.353392368203672,0.266617790877438,0.370827168074482,0.259698567474494,0.381693576047361,0.220965710048939,0.33585582568276,0.313293770394658,0.234890890216459,0.295370625459142,0.344847992407466,0.313157922653588,0.287165868450719,0.326092449459631,0.217395266414964,0.299464446777278,0.245578100213438,0.22356734411163,0.279664787103779,0.307378387110869,0.24761210140501,0.246157359204622]},{\"_typename\":\"TPaveText\",\"fUniqueID\":0,\"fBits\":9,\"fLineColor\":1,\"fLineStyle\":1,\"fLineWidth\":1,\"fFillColor\":0,\"fFillStyle\":0,\"fX1\":712.604165736896,\"fY1\":1.17772295909691,\"fX2\":837.395834263104,\"fY2\":1.26388905316884,\"fX1NDC\":0.465574712643678,\"fY1NDC\":0.933983055615829,\"fX2NDC\":0.534425287356322,\"fY2NDC\":0.995000004768372,\"fBorderSize\":0,\"fInit\":1,\"fShadowColor\":1,\"fCornerRadius\":0,\"fOption\":\"blNDC\",\"fName\":\"title\",\"fTextAngle\":0,\"fTextSize\":0,\"fTextAlign\":22,\"fTextColor\":1,\"fTextFont\":42,\"fLabel\":\"\",\"fLongest\":3,\"fMargin\":0.05,\"fLines\":{\"_typename\":\"TList\",\"name\":\"TList\",\"arr\":[{\"_typename\":\"TLatex\",\"fUniqueID\":0,\"fBits\":0,\"fName\":\"\",\"fTitle\":\"mjj\",\"fTextAngle\":0,\"fTextSize\":0,\"fTextAlign\":0,\"fTextColor\":0,\"fTextFont\":0,\"fX\":0,\"fY\":0,\"fLineColor\":1,\"fLineStyle\":1,\"fLineWidth\":2,\"fLimitFactorSize\":3,\"fOriginSize\":0.0518644079566002}],\"opt\":[\"\"]}},{\"_typename\":\"TStyle\",\"fUniqueID\":0,\"fBits\":0,\"fName\":\"Modern\",\"fTitle\":\"Modern Style\",\"fLineColor\":1,\"fLineStyle\":1,\"fLineWidth\":1,\"fFillColor\":19,\"fFillStyle\":1001,\"fMarkerColor\":1,\"fMarkerStyle\":1,\"fMarkerSize\":1,\"fTextAngle\":0,\"fTextSize\":0.05,\"fTextAlign\":11,\"fTextColor\":1,\"fTextFont\":62,\"fXaxis\":{\"_typename\":\"TAttAxis\",\"fNdivisions\":510,\"fAxisColor\":1,\"fLabelColor\":1,\"fLabelFont\":42,\"fLabelOffset\":0.005,\"fLabelSize\":0.035,\"fTickLength\":0.03,\"fTitleOffset\":1,\"fTitleSize\":0.035,\"fTitleColor\":1,\"fTitleFont\":42},\"fYaxis\":{\"_typename\":\"TAttAxis\",\"fNdivisions\":510,\"fAxisColor\":1,\"fLabelColor\":1,\"fLabelFont\":42,\"fLabelOffset\":0.005,\"fLabelSize\":0.035,\"fTickLength\":0.03,\"fTitleOffset\":0,\"fTitleSize\":0.035,\"fTitleColor\":1,\"fTitleFont\":42},\"fZaxis\":{\"_typename\":\"TAttAxis\",\"fNdivisions\":510,\"fAxisColor\":1,\"fLabelColor\":1,\"fLabelFont\":42,\"fLabelOffset\":0.005,\"fLabelSize\":0.035,\"fTickLength\":0.03,\"fTitleOffset\":1,\"fTitleSize\":0.035,\"fTitleColor\":1,\"fTitleFont\":42},\"fBarWidth\":1,\"fBarOffset\":0,\"fColorModelPS\":0,\"fDrawBorder\":0,\"fOptLogx\":0,\"fOptLogy\":0,\"fOptLogz\":0,\"fOptDate\":0,\"fOptStat\":1111,\"fOptTitle\":1,\"fOptFile\":0,\"fOptFit\":0,\"fShowEventStatus\":0,\"fShowEditor\":0,\"fShowToolBar\":0,\"fNumberContours\":20,\"fAttDate\":{\"_typename\":\"TAttText\",\"fTextAngle\":0,\"fTextSize\":0.025,\"fTextAlign\":11,\"fTextColor\":1,\"fTextFont\":62},\"fDateX\":0.01,\"fDateY\":0.01,\"fEndErrorSize\":2,\"fErrorX\":0.5,\"fFuncColor\":2,\"fFuncStyle\":1,\"fFuncWidth\":2,\"fGridColor\":0,\"fGridStyle\":3,\"fGridWidth\":1,\"fLegendBorderSize\":1,\"fLegendFillColor\":0,\"fLegendFont\":42,\"fLegendTextSize\":0,\"fHatchesLineWidth\":1,\"fHatchesSpacing\":1,\"fFrameFillColor\":0,\"fFrameLineColor\":1,\"fFrameFillStyle\":1001,\"fFrameLineStyle\":1,\"fFrameLineWidth\":1,\"fFrameBorderSize\":1,\"fFrameBorderMode\":0,\"fHistFillColor\":0,\"fHistLineColor\":602,\"fHistFillStyle\":1001,\"fHistLineStyle\":1,\"fHistLineWidth\":1,\"fHistMinimumZero\":false,\"fHistTopMargin\":0.05,\"fCanvasPreferGL\":false,\"fCanvasColor\":0,\"fCanvasBorderSize\":2,\"fCanvasBorderMode\":0,\"fCanvasDefH\":500,\"fCanvasDefW\":700,\"fCanvasDefX\":10,\"fCanvasDefY\":10,\"fPadColor\":0,\"fPadBorderSize\":2,\"fPadBorderMode\":0,\"fPadBottomMargin\":0.1,\"fPadTopMargin\":0.1,\"fPadLeftMargin\":0.1,\"fPadRightMargin\":0.1,\"fPadGridX\":false,\"fPadGridY\":false,\"fPadTickX\":0,\"fPadTickY\":0,\"fPaperSizeX\":20,\"fPaperSizeY\":26,\"fScreenFactor\":1,\"fStatColor\":0,\"fStatTextColor\":1,\"fStatBorderSize\":1,\"fStatFont\":42,\"fStatFontSize\":0,\"fStatStyle\":1001,\"fStatFormat\":\"6.4g\",\"fStatX\":0.98,\"fStatY\":0.935,\"fStatW\":0.2,\"fStatH\":0.16,\"fStripDecimals\":true,\"fTitleAlign\":23,\"fTitleColor\":0,\"fTitleTextColor\":1,\"fTitleBorderSize\":0,\"fTitleFont\":42,\"fTitleFontSize\":0.05,\"fTitleStyle\":0,\"fTitleX\":0.5,\"fTitleY\":0.995,\"fTitleW\":0,\"fTitleH\":0,\"fLegoInnerR\":0.5,\"fLineStyle\":[\"\",\"  \",\" 12 12\",\" 4 8\",\" 12 16 4 16\",\" 20 12 4 12\",\" 20 12 4 12 4 12 4 12\",\" 20 20\",\" 20 12 4 12 4 12\",\" 80 20\",\" 80 40 4 40\",\"  \",\"  \",\"  \",\"  \",\"  \",\"  \",\"  \",\"  \",\"  \",\"  \",\"  \",\"  \",\"  \",\"  \",\"  \",\"  \",\"  \",\"  \",\"  \"],\"fHeaderPS\":\"\",\"fTitlePS\":\"\",\"fFitFormat\":\"5.4g\",\"fPaintTextFormat\":\"g\",\"fLineScalePS\":3,\"fJoinLinePS\":0,\"fCapLinePS\":0,\"fTimeOffset\":788918400,\"fImageScaling\":1}],\"opt\":[\"\",\"\",\"blNDC\",\"\"]},\"fExecs\":null,\"fName\":\"c1_n4\",\"fTitle\":\"c1_n4\",\"fNumPaletteColor\":0,\"fNextPaletteColor\":0,\"fDISPLAY\":\"$DISPLAY\",\"fDoubleBuffer\":0,\"fRetained\":true,\"fXsizeUser\":0,\"fYsizeUser\":0,\"fXsizeReal\":20,\"fYsizeReal\":14.28571,\"fWindowTopX\":0,\"fWindowTopY\":0,\"fWindowWidth\":0,\"fWindowHeight\":0,\"fCw\":696,\"fCh\":472,\"fCatt\":{\"_typename\":\"TAttCanvas\",\"fXBetween\":2,\"fYBetween\":2,\"fTitleFromTop\":1.2,\"fXdate\":0.2,\"fYdate\":0.3,\"fAdate\":1},\"kMoveOpaque\":true,\"kResizeOpaque\":true,\"fHighLightColor\":2,\"fBatch\":true,\"kShowEventStatus\":false,\"kAutoExec\":true,\"kMenuBar\":true});\n",
       "            Core.draw(\"root_plot_1617313895250\", obj, \"\");\n",
       "        }\n",
       "    );\n",
       "}\n",
       "</script>\n"
      ],
      "text/plain": [
       "<IPython.core.display.HTML object>"
      ]
     },
     "metadata": {},
     "output_type": "display_data"
    }
   ],
   "source": [
    "c = R.TCanvas()\n",
    "h.Draw()\n",
    "c.Draw()"
   ]
  },
  {
   "cell_type": "code",
   "execution_count": 28,
   "id": "floppy-cookbook",
   "metadata": {
    "ExecuteTime": {
     "end_time": "2021-04-01T21:51:52.888429Z",
     "start_time": "2021-04-01T21:51:52.779767Z"
    }
   },
   "outputs": [
    {
     "data": {
      "text/plain": [
       "396"
      ]
     },
     "execution_count": 28,
     "metadata": {},
     "output_type": "execute_result"
    }
   ],
   "source": [
    "func1.Write()"
   ]
  },
  {
   "cell_type": "code",
   "execution_count": 145,
   "id": "complete-publisher",
   "metadata": {
    "ExecuteTime": {
     "end_time": "2021-04-01T22:09:46.174477Z",
     "start_time": "2021-04-01T22:09:43.987040Z"
    }
   },
   "outputs": [],
   "source": [
    "f.Close()"
   ]
  },
  {
   "cell_type": "code",
   "execution_count": 32,
   "id": "martial-bracelet",
   "metadata": {
    "ExecuteTime": {
     "end_time": "2021-04-01T21:52:53.736686Z",
     "start_time": "2021-04-01T21:52:53.627762Z"
    }
   },
   "outputs": [
    {
     "data": {
      "text/plain": [
       "True"
      ]
     },
     "execution_count": 32,
     "metadata": {},
     "output_type": "execute_result"
    }
   ],
   "source": [
    "f.cd(\"njet2\")"
   ]
  },
  {
   "cell_type": "code",
   "execution_count": 34,
   "id": "allied-ideal",
   "metadata": {
    "ExecuteTime": {
     "end_time": "2021-04-01T21:53:25.685332Z",
     "start_time": "2021-04-01T21:53:24.245398Z"
    }
   },
   "outputs": [
    {
     "name": "stdout",
     "output_type": "stream",
     "text": [
      "/eos/home-d/dvalsecc/Code/Latinos/pythia_dipole_reweight\r\n"
     ]
    }
   ],
   "source": [
    "!pwd"
   ]
  },
  {
   "cell_type": "code",
   "execution_count": null,
   "id": "other-poison",
   "metadata": {},
   "outputs": [],
   "source": []
  }
 ],
 "metadata": {
  "kernelspec": {
   "display_name": "Python 3",
   "language": "python",
   "name": "python3"
  },
  "language_info": {
   "codemirror_mode": {
    "name": "ipython",
    "version": 3
   },
   "file_extension": ".py",
   "mimetype": "text/x-python",
   "name": "python",
   "nbconvert_exporter": "python",
   "pygments_lexer": "ipython3",
   "version": "3.8.6"
  },
  "toc": {
   "base_numbering": 1,
   "nav_menu": {},
   "number_sections": true,
   "sideBar": true,
   "skip_h1_title": false,
   "title_cell": "Table of Contents",
   "title_sidebar": "Contents",
   "toc_cell": false,
   "toc_position": {},
   "toc_section_display": true,
   "toc_window_display": false
  },
  "varInspector": {
   "cols": {
    "lenName": 16,
    "lenType": 16,
    "lenVar": 40
   },
   "kernels_config": {
    "python": {
     "delete_cmd_postfix": "",
     "delete_cmd_prefix": "del ",
     "library": "var_list.py",
     "varRefreshCmd": "print(var_dic_list())"
    },
    "r": {
     "delete_cmd_postfix": ") ",
     "delete_cmd_prefix": "rm(",
     "library": "var_list.r",
     "varRefreshCmd": "cat(var_dic_list()) "
    }
   },
   "types_to_exclude": [
    "module",
    "function",
    "builtin_function_or_method",
    "instance",
    "_Feature"
   ],
   "window_display": false
  }
 },
 "nbformat": 4,
 "nbformat_minor": 5
}
